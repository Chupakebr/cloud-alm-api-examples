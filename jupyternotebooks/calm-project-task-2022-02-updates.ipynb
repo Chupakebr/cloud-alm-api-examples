{
 "cells": [
  {
   "cell_type": "markdown",
   "metadata": {},
   "source": [
    "# SAP Cloud ALM Project and Task API Demo for Timeboxes, Task List Queries, Sub-Tasks, Comments, References, New Attributes\n",
    "\n",
    "This notebook contains examples of SAP Business Hub API calls for SAP Cloud ALM for Implementation. The code cells below show how to use the Project and Task APIs with the latest updates as of **2022-02-01**.\n",
    "\n",
    "### New Features\n",
    "\n",
    "* Project Timeboxes: List, Create, Read, Update Delete\n",
    "* Task List Queries: offset, limit, type, status, subStatus, assigneeId, lastChangedDate \n",
    "* Sub-tasks: List, Create, Read, Update Delete\n",
    "* Comments: List, Create, Read, Update Delete\n",
    "* References (URLs): List, Create, Read, Update Delete\n",
    "* New Task Attributes: assignedRole, scope, storyPoints, timebox\n",
    "\n",
    "The API information and specification is available here:\n",
    "\n",
    "* https://api.sap.com/package/SAPCloudALM/rest - SAP Cloud ALM\n",
    "* https://api.sap.com/api/CALM_PJM/overview - SAP Cloud ALM Projects\n",
    "* https://api.sap.com/api/CALM_TKM/overview - SAP Cloud ALM Tasks\n",
    "\n",
    "Please note the license and other terms and conditions contained in this notebook's repository: https://github.com/SAP-samples/cloud-alm-api-examples\n",
    "\n",
    "### Python Dependencies Required\n",
    "\n",
    "In order to run the samples in this notebook, install the following dependencies:\n",
    "\n",
    "* Jupyter integration in Visual Studio Code: https://code.visualstudio.com/docs/python/jupyter-support \n",
    "* Python 3, a recent version, is Required. Python 3.8 was used here.\n",
    "* Requests - for handling HTTP GET/POST/PATCH/DELETE Requests - https://docs.python-requests.org/en/latest/user/install/#install\n",
    "* Requests-OAuthlib - for authentication with requests - https://requests-oauthlib.readthedocs.io/en/latest/index.html#installation\n",
    "* Pandas - Python data analysis - https://pandas.pydata.org/docs/getting_started/install.html\n",
    "* Plotly - for plotting interactive charts - https://plotly.com/python/getting-started/\n"
   ]
  },
  {
   "cell_type": "markdown",
   "metadata": {},
   "source": [
    "\n",
    "---\n",
    "\n",
    "## Authentication information\n",
    "\n",
    "You must create a python module file called `apidata.py` and put the information specific to your tenant there. This inclduds\n",
    "\n",
    "* OAuth2 client ID and secret\n",
    "* Token url\n",
    "* Base URL for API calls\n",
    "\n",
    "Get client ID and secret variables from an external module: this information is senstive.\n",
    "\n",
    "These items can be retrieved from the BTP Cockpit \n",
    "\n",
    "### Format of module apidata.py for import\n",
    "\n",
    "```python\n",
    "ptm_all_client_id = r'get your client ID from BTP Cockpit'\n",
    "ptm_all_client_secret = r'get your client secret from BTP Cockpit'\n",
    "token_url = 'your token url'\n",
    "base_url = 'your base url'\n",
    "```\n"
   ]
  },
  {
   "cell_type": "code",
   "execution_count": null,
   "metadata": {},
   "outputs": [],
   "source": [
    "import apidata as ad\n",
    "\n",
    "client_id = ad.ptm_all_client_id\n",
    "client_secret = ad.ptm_all_client_secret\n",
    "token_url = ad.token_url\n",
    "base_url = ad.base_url"
   ]
  },
  {
   "cell_type": "markdown",
   "metadata": {},
   "source": [
    "### Get token for authentication\n",
    "\n",
    "Call OAuth token API with credential information. Add the resulting header to all requests.\n",
    "\n",
    "See Requests-OAuthlib documentation for Backend Application Flow:\n",
    "\n",
    "* https://requests-oauthlib.readthedocs.io/en/latest/oauth2_workflow.html#backend-application-flow"
   ]
  },
  {
   "cell_type": "code",
   "execution_count": null,
   "metadata": {},
   "outputs": [],
   "source": [
    "import requests\n",
    "from requests_oauthlib import OAuth2Session\n",
    "from oauthlib.oauth2 import BackendApplicationClient\n",
    "\n",
    "client = BackendApplicationClient(client_id=client_id)\n",
    "oauth = OAuth2Session(client=client)\n",
    "token = oauth.fetch_token(token_url=token_url, client_id=client_id,\n",
    "        client_secret=client_secret)\n",
    "\n",
    "hed = {'Authorization': 'Bearer ' + token['access_token']}        "
   ]
  },
  {
   "cell_type": "markdown",
   "metadata": {},
   "source": [
    "\n",
    "---\n",
    "\n",
    "## Project APIs\n",
    "\n",
    "The following code finds a project which we'll use below for the actual code samples.\n",
    "\n",
    "### Perform GET request to retrieve list of all projects\n",
    "\n",
    "Expected response: `200 OK`"
   ]
  },
  {
   "cell_type": "code",
   "execution_count": null,
   "metadata": {},
   "outputs": [],
   "source": [
    "response = requests.get(base_url + '/api/calm-projects/v1/projects', headers=hed)\n",
    "\n",
    "print(response.status_code, response.reason)"
   ]
  },
  {
   "cell_type": "markdown",
   "metadata": {},
   "source": [
    "### Parse JSON into Pandas Dataframe\n",
    "\n",
    "This takes the data returned from the projects API, which is in JSON format, and places it into a dataframe for further processing and analysis."
   ]
  },
  {
   "cell_type": "code",
   "execution_count": null,
   "metadata": {},
   "outputs": [],
   "source": [
    "import pandas as pd\n",
    "\n",
    "df = pd.json_normalize(response.json())\n",
    "\n",
    "df"
   ]
  },
  {
   "cell_type": "markdown",
   "metadata": {},
   "source": [
    "### Get a Project Name \n",
    "\n",
    "You may wish to adjust the code below to set a project name of your choosing, for example 'My API Test Project'. In this sample, we'll just take the first project in the list.\n"
   ]
  },
  {
   "cell_type": "code",
   "execution_count": null,
   "metadata": {},
   "outputs": [],
   "source": [
    "sample_project_name = df.iloc[0]['name'] # First project in the list\n",
    "sample_project_name"
   ]
  },
  {
   "cell_type": "markdown",
   "metadata": {},
   "source": [
    "#### Override Sample Project Name for Demo\n",
    "\n",
    "I'm setting my own project name here, beause I have one ready for my demos. You can do the same if you don't want to use the first project."
   ]
  },
  {
   "cell_type": "code",
   "execution_count": null,
   "metadata": {},
   "outputs": [],
   "source": [
    "\n",
    "# sample_project_name = 'Demo Project'"
   ]
  },
  {
   "cell_type": "markdown",
   "metadata": {},
   "source": [
    "### Get ID of a Selected Project\n",
    "\n",
    "Read ID of project in variable `sample_project_name` from dataframe"
   ]
  },
  {
   "cell_type": "code",
   "execution_count": null,
   "metadata": {},
   "outputs": [],
   "source": [
    "stPrjID = df.loc[df['name'] == sample_project_name]\n",
    "show_tell_prj = stPrjID['id'].values[0]\n",
    "print('Project:', stPrjID['name'].values[0], 'ID:', show_tell_prj)"
   ]
  },
  {
   "cell_type": "markdown",
   "metadata": {},
   "source": [
    "\n",
    "---\n",
    "\n",
    "## Read *Filtered* Task list from selected project\n",
    "\n",
    "Use GET request from tasks API with selected project ID as input parameter.\n",
    "\n",
    "**New 2022-02-01** filter parameters to limit task list. The code below shows a few of the filters. See the documentation for the full list.\n",
    "\n",
    "Expected response `200 OK`"
   ]
  },
  {
   "cell_type": "code",
   "execution_count": null,
   "metadata": {},
   "outputs": [],
   "source": [
    "taskURL = base_url + '/api/calm-tasks/v1/tasks?projectId=' + show_tell_prj\n",
    "\n",
    "#taskURL += '&type=CALMUS' # Filter for user stories only \n",
    "#taskURL += '&assigneeId=email@example.com' # Filter for assignee only\n",
    "taskURL += '&lastChangedDate=gt:2022-02-01' # Last changed date greater than\n",
    "\n",
    "response = requests.get(taskURL, headers=hed)\n",
    "\n",
    "print(response.status_code, response.reason)\n",
    "\n",
    "df_stTasks = pd.json_normalize(response.json())\n",
    "\n",
    "df_stTasks.head()"
   ]
  },
  {
   "cell_type": "markdown",
   "metadata": {},
   "source": [
    "\n",
    "---\n",
    "\n",
    "## Project Timeboxes\n",
    "\n",
    "**New 2022-02-01** list project timeboxes, create, read, update, delete\n",
    "\n",
    "### Get Timeboxes From Project\n",
    "\n",
    "Use GET request from projects API with selected project ID as path selector.\n",
    "\n",
    "Type | Timebox\n",
    "---- | -----\n",
    "0    | Milestone\n",
    "1    | Phase\n",
    "2    | Sprint\n",
    "\n",
    "Endpoint: `https://<tenant url>/api/calm-projects/v1/projects/{id}/timeboxes`\n",
    "\n",
    "Expected response `200 OK`"
   ]
  },
  {
   "cell_type": "code",
   "execution_count": null,
   "metadata": {},
   "outputs": [],
   "source": [
    "response = requests.get(base_url + '/api/calm-projects/v1/projects/' + show_tell_prj + '/timeboxes', headers=hed)\n",
    "\n",
    "print(response.status_code, response.reason)\n",
    "\n",
    "df_timeboxes = pd.json_normalize(response.json())\n",
    "\n",
    "df_timeboxes.head()"
   ]
  },
  {
   "cell_type": "markdown",
   "metadata": {},
   "source": [
    "### Create a Timebox\n",
    "\n",
    "Use POST request from projects API with selected project ID as path selector.\n",
    "\n",
    "Endpoint: `https://<tenant url>/api/calm-projects/v1/projects/{id}/timeboxes`\n",
    "\n",
    "Expected response `201 Created`"
   ]
  },
  {
   "cell_type": "code",
   "execution_count": null,
   "metadata": {},
   "outputs": [],
   "source": [
    "import datetime\n",
    "\n",
    "isoNow = datetime.datetime.now().isoformat()\n",
    "\n",
    "timeboxCreateURL = base_url + '/api/calm-projects/v1/projects/' + show_tell_prj + '/timeboxes'\n",
    "\n",
    "timeboxData = {\n",
    "    \"type\": 2,  # Make timebox a sprint\n",
    "    \"name\": \"API Demo Sprint \" + isoNow,\n",
    "    \"startDate\": \"2022-02-07\",\n",
    "    \"endDate\": \"2022-02-18\",\n",
    "    \"closed\": False,\n",
    "}\n",
    "\n",
    "response = requests.post(timeboxCreateURL, headers=hed, json=timeboxData)\n",
    "\n",
    "print(response.status_code, response.reason)\n",
    "\n",
    "newTimeboxID = response.json()['id']\n",
    "print(\"New Timebox (Sprint) ID:\", newTimeboxID)\n",
    "\n"
   ]
  },
  {
   "cell_type": "markdown",
   "metadata": {},
   "source": [
    "### Update a Timebox\n",
    "\n",
    "Close the timebox. Setting closed to True deactivates the sprint, removing it from the list of timeboxes which users can assign to tasks. (Closed timeboxes remain available as filters, just not for assigning.)\n",
    "\n",
    "Expected response: `200 OK`"
   ]
  },
  {
   "cell_type": "code",
   "execution_count": null,
   "metadata": {},
   "outputs": [],
   "source": [
    "timeboxUpdateURL = base_url + '/api/calm-projects/v1/timeboxes/' + newTimeboxID\n",
    "\n",
    "timeboxData = {\n",
    "    \"closed\": True,\n",
    "}\n",
    "\n",
    "response = requests.patch(timeboxUpdateURL, headers=hed, json=timeboxData)\n",
    "\n",
    "print(response.status_code, response.reason)\n"
   ]
  },
  {
   "cell_type": "markdown",
   "metadata": {},
   "source": [
    "\n",
    "---\n",
    "\n",
    "## Create Parent Task (User Story) to Host Sub-Tasks\n",
    "\n",
    "* Endpoint: `https://<tenant url>/api/calm-tasks/v1/tasks`\n",
    "\n",
    "* Type: Post\n",
    "\n",
    "Replace `email@example.com` with a valid e-mail address.\n",
    "\n",
    "Expected response `201 Created`\n"
   ]
  },
  {
   "cell_type": "code",
   "execution_count": null,
   "metadata": {},
   "outputs": [],
   "source": [
    "isoNow = datetime.datetime.now().isoformat()\n",
    "\n",
    "taskCreateURL = base_url + '/api/calm-tasks/v1/tasks'\n",
    "\n",
    "taskData = {\n",
    "    \"projectId\": show_tell_prj,\n",
    "    \"title\": \"API Demo User Story with Sub-Tasks \" + isoNow, # Append a timestamp to the end of the new task title for easy identification in UI.\n",
    "    \"type\": \"CALMUS\", # Make task type a User Story\n",
    "    \"description\": \"test description. hello world\",\n",
    "    \"assigneeId\": \"email@example.com\",\n",
    "    \"storyPoints\": 5\n",
    "}\n",
    "\n",
    "response = requests.post(taskCreateURL, headers=hed, json=taskData)\n",
    "\n",
    "print(response.status_code, response.reason)\n",
    "\n",
    "newTaskID = response.json()['id']\n",
    "print(\"New Task (User Story) ID:\", newTaskID)"
   ]
  },
  {
   "cell_type": "markdown",
   "metadata": {},
   "source": [
    "\n",
    "---\n",
    "\n",
    "## Create Sub-task\n",
    "\n",
    "* Endpoint: `https://<tenant url>/api/calm-tasks/v1/tasks`\n",
    "\n",
    "* Type: Post\n",
    "\n",
    "The following code creates five sub-tasks, all assigned to the new User Story created above.\n",
    "\n",
    "Expected response `201 Created`\n",
    "\n",
    "Sub-tasks have the mostly the same attributes as tasks. The following attributes **must** be set for sub-tasks:\n",
    "\n",
    "`type`: `CALMST` \n",
    "\n",
    "`parentId`: UUID of parent task - this is **mandatory**."
   ]
  },
  {
   "cell_type": "code",
   "execution_count": null,
   "metadata": {},
   "outputs": [],
   "source": [
    "import datetime\n",
    "\n",
    "taskCreateURL = base_url + '/api/calm-tasks/v1/tasks'\n",
    "\n",
    "romNums = ['i', 'ii', 'iii ', 'iv', 'v']\n",
    "for romIterator in romNums:\n",
    "\n",
    "    isoNow = datetime.datetime.now().isoformat()\n",
    "\n",
    "    taskData = {\n",
    "        \"projectId\": show_tell_prj,\n",
    "        \"title\": romIterator + \" API Test Sub-Task \" + isoNow,\n",
    "        \"type\": \"CALMST\", # A Sub-Task\n",
    "        \"description\": \"test description. hello world\",\n",
    "        \"assigneeId\": \"email@example.com\",\n",
    "        \"parentId\": newTaskID\n",
    "    }\n",
    "\n",
    "    response = requests.post(taskURL, headers=hed, json=taskData)\n",
    "\n",
    "    print(response.status_code, response.reason)\n",
    "\n",
    "    newSubTaskID = response.json()['id']\n",
    "    print(romIterator, \"New Sub-task ID:\", newSubTaskID)"
   ]
  },
  {
   "cell_type": "markdown",
   "metadata": {},
   "source": [
    "\n",
    "---\n",
    "\n",
    "## Comments\n",
    "\n",
    "**New 2022-02-01:** Comments in Tasks. \n",
    "\n",
    "* Endpoint pattern: `https://<tenant url>/api/calm-tasks/v1/tasks/{taskId}/comments`\n",
    "\n",
    "* Types: GET/POST/PATCH/DELETE\n",
    "\n",
    "These are the text comments which can be added to tasks. Update and delete operations behave exactly as demonstrated below with references.\n"
   ]
  },
  {
   "cell_type": "markdown",
   "metadata": {},
   "source": [
    "### Add a Comment to an Existing Task\n",
    "\n",
    "Expected response: `201 Created`"
   ]
  },
  {
   "cell_type": "code",
   "execution_count": null,
   "metadata": {},
   "outputs": [],
   "source": [
    "commentCreateURL = base_url + '/api/calm-tasks/v1/tasks/' + newTaskID + '/comments'\n",
    "\n",
    "isoNow = datetime.datetime.now().isoformat()\n",
    "\n",
    "commentData = {\n",
    "    \"text\": \"This is a new comment. Timestamp: \" + isoNow\n",
    "}\n",
    "\n",
    "response = requests.post(commentCreateURL, headers=hed, json=commentData)\n",
    "\n",
    "print(response.status_code, response.reason)\n",
    "\n",
    "newCommentID = response.json()['id']\n",
    "print(\"New comment ID:\", newCommentID)"
   ]
  },
  {
   "cell_type": "markdown",
   "metadata": {},
   "source": [
    "### Read Comments From Task\n",
    "\n",
    "Expected response: `200 OK`"
   ]
  },
  {
   "cell_type": "code",
   "execution_count": null,
   "metadata": {},
   "outputs": [],
   "source": [
    "response = requests.get(base_url + '/api/calm-tasks/v1/tasks/' + newTaskID + '/comments', headers=hed)\n",
    "\n",
    "print(response.status_code, response.reason)\n",
    "\n",
    "df_comments = pd.json_normalize(response.json())\n",
    "\n",
    "df_comments.head()"
   ]
  },
  {
   "cell_type": "markdown",
   "metadata": {},
   "source": [
    "\n",
    "---\n",
    "\n",
    "## References\n",
    "\n",
    "**New 2022-02-01:** References in Tasks. \n",
    "\n",
    "* Endpoint pattern: `https://<tenant url>/api/calm-tasks/v1/tasks/{taskId}/references`\n",
    "\n",
    "* Types: GET/POST/PATCH/DELETE\n",
    "\n",
    "These are URLs - links to documents - which can be attached to tasks. The usual create/read/update/delete operations are supported."
   ]
  },
  {
   "cell_type": "markdown",
   "metadata": {},
   "source": [
    "### Add Reference to Existing Task\n",
    "\n",
    "Expected response: `201 Created`"
   ]
  },
  {
   "cell_type": "code",
   "execution_count": null,
   "metadata": {},
   "outputs": [],
   "source": [
    "referenceCreateURL = base_url + '/api/calm-tasks/v1/tasks/' + newTaskID + '/references'\n",
    "\n",
    "isoNow = datetime.datetime.now().isoformat()\n",
    "\n",
    "referenceData = {\n",
    "    \"name\": \"Link to SAP: \" + isoNow,\n",
    "    \"url\": \"http://www.sap.com\"\n",
    "}\n",
    "\n",
    "response = requests.post(referenceCreateURL, headers=hed, json=referenceData)\n",
    "\n",
    "print(response.status_code, response.reason)\n",
    "\n",
    "newReferenceID = response.json()['id']\n",
    "print(\"New reference ID:\", newReferenceID)"
   ]
  },
  {
   "cell_type": "markdown",
   "metadata": {},
   "source": [
    "### Update A Reference\n",
    "\n",
    "Expected response: `200 OK`"
   ]
  },
  {
   "cell_type": "code",
   "execution_count": null,
   "metadata": {},
   "outputs": [],
   "source": [
    "referenceUpdateURL = base_url + '/api/calm-tasks/v1/tasks/' + 'references/' + newReferenceID\n",
    "\n",
    "isoNow = datetime.datetime.now().isoformat()\n",
    "\n",
    "referenceData = {\n",
    "    \"name\": \"Expert Portal for Implementation: \" + isoNow,\n",
    "    \"url\": \"https://support.sap.com/en/alm/sap-cloud-alm/implementation/sap-cloud-alm-implementation-expert-portal.html\"\n",
    "}\n",
    "\n",
    "response = requests.patch(referenceUpdateURL, headers=hed, json=referenceData)\n",
    "\n",
    "print(response.status_code, response.reason)\n",
    "\n",
    "newCommentID = response.json()['id']\n",
    "print(\"New reference ID:\", newCommentID)"
   ]
  },
  {
   "cell_type": "markdown",
   "metadata": {},
   "source": [
    "### Read References from Task\n",
    "\n",
    "Expected response: `200 OK`"
   ]
  },
  {
   "cell_type": "code",
   "execution_count": null,
   "metadata": {},
   "outputs": [],
   "source": [
    "response = requests.get(base_url + '/api/calm-tasks/v1/tasks/' + newTaskID + '/references', headers=hed)\n",
    "\n",
    "print(response.status_code, response.reason)\n",
    "\n",
    "df_references = pd.json_normalize(response.json())\n",
    "\n",
    "df_references.head()"
   ]
  },
  {
   "cell_type": "markdown",
   "metadata": {},
   "source": [
    "### Delete a Reference\n",
    "\n",
    "Expected response: `204 No Content`"
   ]
  },
  {
   "cell_type": "code",
   "execution_count": null,
   "metadata": {},
   "outputs": [],
   "source": [
    "referenceUpdateURL = base_url + '/api/calm-tasks/v1/tasks/' + 'references/' + newReferenceID\n",
    "\n",
    "response = requests.delete(referenceUpdateURL, headers=hed)\n",
    "\n",
    "print(response.status_code, response.reason)\n"
   ]
  },
  {
   "cell_type": "markdown",
   "metadata": {},
   "source": [
    "### Re-Read References\n",
    "\n",
    "Expected response: `200 OK`"
   ]
  },
  {
   "cell_type": "code",
   "execution_count": null,
   "metadata": {},
   "outputs": [],
   "source": [
    "response = requests.get(base_url + '/api/calm-tasks/v1/tasks/' + newTaskID + '/references', headers=hed)\n",
    "\n",
    "print(response.status_code, response.reason)\n",
    "\n",
    "df_references = pd.json_normalize(response.json())\n",
    "\n",
    "df_references.head()"
   ]
  },
  {
   "cell_type": "markdown",
   "metadata": {},
   "source": [
    "---\n",
    "\n",
    "## Further Task Operations\n"
   ]
  },
  {
   "cell_type": "markdown",
   "metadata": {},
   "source": [
    "### Read Task\n",
    "\n",
    "Read the details of the task to check the `obsolete` attribute. (Rerun this cell after updates to check the changed attributes)\n",
    "\n",
    "Expected response: `200 OK`"
   ]
  },
  {
   "cell_type": "code",
   "execution_count": null,
   "metadata": {},
   "outputs": [],
   "source": [
    "response = requests.get(base_url + '/api/calm-tasks/v1/tasks/' + newTaskID, headers=hed)\n",
    "\n",
    "print(response.status_code, response.reason)\n",
    "\n",
    "response.json()"
   ]
  },
  {
   "cell_type": "markdown",
   "metadata": {},
   "source": [
    "### Update Task - Make Obsolete\n",
    "\n",
    "**New 2022-02-01:** Obsolete Attribute in API. \n",
    "\n",
    "It is now the recommended procedure to set tasks to obsolete rather than directly deleting them. After a waiting period, to ensure that the task is no longer needed, delete tasks.\n",
    "\n",
    "Expected response: `200 OK`"
   ]
  },
  {
   "cell_type": "code",
   "execution_count": null,
   "metadata": {},
   "outputs": [],
   "source": [
    "taskUpdateURL = base_url + '/api/calm-tasks/v1/tasks/' + newTaskID\n",
    "\n",
    "taskUpdateData = {\n",
    "    \"obsolete\": True,\n",
    "}\n",
    "\n",
    "response = requests.patch(taskUpdateURL, headers=hed, json=taskUpdateData)\n",
    "\n",
    "print(response.status_code, response.reason)\n",
    "\n"
   ]
  },
  {
   "cell_type": "markdown",
   "metadata": {},
   "source": [
    "### Delete Task\n",
    "\n",
    "Although the API can directly delete tasks, we don't recommend this. Instead we suggest using obsolete as a recycle bin, with a period of grace - several days or weeks - before permanently (and irretrievably) deleting tasks.\n",
    "\n",
    "Expected response: `204 No Content`"
   ]
  },
  {
   "cell_type": "code",
   "execution_count": null,
   "metadata": {},
   "outputs": [],
   "source": [
    "response = requests.delete(base_url + '/api/calm-tasks/v1/tasks/' + newTaskID, headers=hed)\n",
    "\n",
    "print(response.status_code, response.reason)"
   ]
  }
 ],
 "metadata": {
  "interpreter": {
   "hash": "2db524e06e9f5f4ffedc911c917cb75e12dbc923643829bf417064a77eb14d37"
  },
  "kernelspec": {
   "display_name": "Python 3.8.1 64-bit",
   "name": "python3"
  },
  "language_info": {
   "codemirror_mode": {
    "name": "ipython",
    "version": 3
   },
   "file_extension": ".py",
   "mimetype": "text/x-python",
   "name": "python",
   "nbconvert_exporter": "python",
   "pygments_lexer": "ipython3",
   "version": "3.8.1"
  },
  "metadata": {
   "interpreter": {
    "hash": "2db524e06e9f5f4ffedc911c917cb75e12dbc923643829bf417064a77eb14d37"
   }
  },
  "orig_nbformat": 2
 },
 "nbformat": 4,
 "nbformat_minor": 2
}
