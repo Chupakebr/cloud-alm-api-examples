{
 "metadata": {
  "language_info": {
   "codemirror_mode": {
    "name": "ipython",
    "version": 3
   },
   "file_extension": ".py",
   "mimetype": "text/x-python",
   "name": "python",
   "nbconvert_exporter": "python",
   "pygments_lexer": "ipython3",
   "version": "3.8.1"
  },
  "orig_nbformat": 2,
  "kernelspec": {
   "name": "python3",
   "display_name": "Python 3.8.1 64-bit"
  },
  "metadata": {
   "interpreter": {
    "hash": "2db524e06e9f5f4ffedc911c917cb75e12dbc923643829bf417064a77eb14d37"
   }
  },
  "interpreter": {
   "hash": "2db524e06e9f5f4ffedc911c917cb75e12dbc923643829bf417064a77eb14d37"
  }
 },
 "nbformat": 4,
 "nbformat_minor": 2,
 "cells": [
  {
   "cell_type": "markdown",
   "source": [
    "# SAP Cloud ALM Project and Task API Test and Demo\r\n",
    "\r\n",
    "This notebook contains examples of SAP Business Hub API calls for SAP Cloud ALM for Implementation. The specific APIs shown below are for Projects and Tasks.\r\n",
    "\r\n",
    "The API information and specification is available here:\r\n",
    "\r\n",
    "* https://api.sap.com/package/SAPCloudALM/rest - SAP Cloud ALM\r\n",
    "* https://api.sap.com/api/CALM_PJM/overview - SAP Cloud ALM Projects\r\n",
    "* https://api.sap.com/api/CALM_TKM/overview - SAP Cloud ALM Tasks\r\n",
    "\r\n",
    "Please note the license and other terms and conditions contained in this notebook's repository: https://github.com/SAP-samples/cloud-alm-api-examples\r\n",
    "\r\n",
    "## Python Dependencies Required\r\n",
    "\r\n",
    "In order to run the samples in this notebook, install the following dependencies:\r\n",
    "\r\n",
    "* Jupyter integration in Visual Studio Code: https://code.visualstudio.com/docs/python/jupyter-support \r\n",
    "* Python 3, a recent version, is Required. Python 3.8 was used here.\r\n",
    "* Requests - for handling HTTP GET/POST/PATCH/DELETE Requests - https://docs.python-requests.org/en/latest/user/install/#install\r\n",
    "* Requests-OAuthlib - for authentication with requests - https://requests-oauthlib.readthedocs.io/en/latest/index.html#installation\r\n",
    "* Pandas - Python data analysis - https://pandas.pydata.org/docs/getting_started/install.html\r\n",
    "* Plotly - for plotting interactive charts - https://plotly.com/python/getting-started/\r\n",
    "\r\n",
    "## APIs called\r\n",
    "\r\n",
    "API to get projects: https://<tenant url\\>/api/imp-pjm-srv/v1/projects\r\n",
    "\r\n",
    "API to get tasks: https://<tenant url\\>/api/imp-tkm-srv/v1/tasks?projectId=<project ID\\>\r\n",
    "\r\n",
    "### Update 2021-07-28 - New Attributes Added\r\n",
    "\r\n",
    "The following attributes are now available in all tasks API:\r\n",
    "\r\n",
    "* priorityId - Priority key, see API specification for possible values (create, read, update)\r\n",
    "* assigneeId - User ID assigned to task, usually the e-mail address (create, read, update)\r\n",
    "* assigneeName - Text name of the user (read)\r\n",
    "\r\n",
    "In addition, the following timebox attributes are available in the tasks/<taskID> APIs:\r\n",
    "\r\n",
    "* timeboxName - Text name of the phase, sprint, or milestone assigned to a task (read)\r\n",
    "* timeboxStartDate - Date, begin of timebox (read)\r\n",
    "* timeboxEndDate - Date, end of timebox (read)\r\n"
   ],
   "metadata": {}
  },
  {
   "cell_type": "markdown",
   "source": [
    "\r\n",
    "---\r\n",
    "\r\n",
    "## Authentication information\r\n",
    "\r\n",
    "You must create a python module file called `apidata.py` and put the information specific to your tenant there. This inclduds\r\n",
    "\r\n",
    "* OAuth2 client ID and secret\r\n",
    "* Token url\r\n",
    "* Base URL for API calls\r\n",
    "\r\n",
    "Get client ID and secret variables from an external module: this information is senstive.\r\n",
    "\r\n",
    "These items can be retrieved from the BTP Cockpit \r\n",
    "\r\n",
    "### Format of module apidata.py for import\r\n",
    "\r\n",
    "```python\r\n",
    "ptm_all_client_id = r'get your client ID from BTP Cockpit'\r\n",
    "ptm_all_client_secret = r'get your client secret from BTP Cockpit'\r\n",
    "token_url = 'your token url'\r\n",
    "base_url = 'your base url'\r\n",
    "```\r\n"
   ],
   "metadata": {}
  },
  {
   "cell_type": "code",
   "execution_count": 30,
   "source": [
    "import apidata as ad\r\n",
    "\r\n",
    "client_id = ad.ptm_all_client_id\r\n",
    "client_secret = ad.ptm_all_client_secret\r\n",
    "token_url = ad.token_url\r\n",
    "base_url = ad.base_url"
   ],
   "outputs": [],
   "metadata": {}
  },
  {
   "cell_type": "markdown",
   "source": [
    "### Get token for authentication\n",
    "\n",
    "Call OAuth token API with credential information. Add the resulting header to all requests.\n",
    "\n",
    "See Requests-OAuthlib documentation for Backend Application Flow:\n",
    "\n",
    "* https://requests-oauthlib.readthedocs.io/en/latest/oauth2_workflow.html#backend-application-flow"
   ],
   "metadata": {}
  },
  {
   "cell_type": "code",
   "execution_count": 31,
   "source": [
    "import requests\r\n",
    "from requests_oauthlib import OAuth2Session\r\n",
    "from oauthlib.oauth2 import BackendApplicationClient\r\n",
    "\r\n",
    "client = BackendApplicationClient(client_id=client_id)\r\n",
    "oauth = OAuth2Session(client=client)\r\n",
    "token = oauth.fetch_token(token_url=token_url, client_id=client_id,\r\n",
    "        client_secret=client_secret)\r\n",
    "\r\n",
    "hed = {'Authorization': 'Bearer ' + token['access_token']}        "
   ],
   "outputs": [],
   "metadata": {}
  },
  {
   "cell_type": "markdown",
   "source": [
    "\r\n",
    "---\r\n",
    "\r\n",
    "## Perform GET request to retrieve list of all projects\r\n",
    "\r\n",
    "Expected response: \"200 OK\""
   ],
   "metadata": {}
  },
  {
   "cell_type": "code",
   "execution_count": 32,
   "source": [
    "\r\n",
    "response = requests.get(base_url + '/api/calm-projects/v1/projects', headers=hed)\r\n",
    "\r\n",
    "print(response.status_code, response.reason)"
   ],
   "outputs": [
    {
     "output_type": "stream",
     "name": "stdout",
     "text": [
      "200 OK\n"
     ]
    }
   ],
   "metadata": {}
  },
  {
   "cell_type": "markdown",
   "source": [
    "## Parse JSON into Pandas Dataframe\n",
    "\n",
    "This takes the data returned from the projects API, which is in JSON format, and places it into a dataframe for further processing and analysis."
   ],
   "metadata": {}
  },
  {
   "cell_type": "code",
   "execution_count": 33,
   "source": [
    "import pandas as pd\r\n",
    "\r\n",
    "df = pd.json_normalize(response.json())\r\n",
    "\r\n",
    "df"
   ],
   "outputs": [
    {
     "output_type": "execute_result",
     "data": {
      "text/plain": [
       "                                       id  \\\n",
       "0    5e013b69-d603-4f59-afee-ea2024392a28   \n",
       "1    8687a39a-ab90-4dbc-b3e3-f6ab8a1b89c6   \n",
       "2    2495d431-04c8-4550-bd63-d8d3bc9cacbc   \n",
       "3    4f5798c4-75f1-4a88-acd0-8ece2acc4b65   \n",
       "4    8719b16c-9911-4682-a1d3-1699599fa081   \n",
       "..                                    ...   \n",
       "240  7794f4db-155c-4530-b6c0-f8c254ce3089   \n",
       "241  4d5e7951-8fa0-453d-9cab-1f0b106155bf   \n",
       "242  f131d2eb-e3dc-4603-be7f-837bae2c3796   \n",
       "243  72ca9f92-8de9-40df-b83b-262fff90a981   \n",
       "244  84705e88-342d-48bb-9a45-0f5a0c24f5ce   \n",
       "\n",
       "                                             name status  \n",
       "0                             Juni test project 3      O  \n",
       "1                                 chenxiao_test_1      O  \n",
       "2                                        fixIssue      C  \n",
       "3                                   Jekkrey_Test1      O  \n",
       "4                                           test4      C  \n",
       "..                                            ...    ...  \n",
       "240  Notebook API proj 2021-07-29T15:55:02.816638      O  \n",
       "241  Notebook API proj 2021-07-29T16:10:53.178030      O  \n",
       "242  Notebook API proj 2021-07-29T16:12:44.356170      O  \n",
       "243  Notebook API proj 2021-07-29T16:13:23.356937      O  \n",
       "244  Notebook API proj 2021-07-29T16:14:40.370697      O  \n",
       "\n",
       "[245 rows x 3 columns]"
      ],
      "text/html": [
       "<div>\n",
       "<style scoped>\n",
       "    .dataframe tbody tr th:only-of-type {\n",
       "        vertical-align: middle;\n",
       "    }\n",
       "\n",
       "    .dataframe tbody tr th {\n",
       "        vertical-align: top;\n",
       "    }\n",
       "\n",
       "    .dataframe thead th {\n",
       "        text-align: right;\n",
       "    }\n",
       "</style>\n",
       "<table border=\"1\" class=\"dataframe\">\n",
       "  <thead>\n",
       "    <tr style=\"text-align: right;\">\n",
       "      <th></th>\n",
       "      <th>id</th>\n",
       "      <th>name</th>\n",
       "      <th>status</th>\n",
       "    </tr>\n",
       "  </thead>\n",
       "  <tbody>\n",
       "    <tr>\n",
       "      <th>0</th>\n",
       "      <td>5e013b69-d603-4f59-afee-ea2024392a28</td>\n",
       "      <td>Juni test project 3</td>\n",
       "      <td>O</td>\n",
       "    </tr>\n",
       "    <tr>\n",
       "      <th>1</th>\n",
       "      <td>8687a39a-ab90-4dbc-b3e3-f6ab8a1b89c6</td>\n",
       "      <td>chenxiao_test_1</td>\n",
       "      <td>O</td>\n",
       "    </tr>\n",
       "    <tr>\n",
       "      <th>2</th>\n",
       "      <td>2495d431-04c8-4550-bd63-d8d3bc9cacbc</td>\n",
       "      <td>fixIssue</td>\n",
       "      <td>C</td>\n",
       "    </tr>\n",
       "    <tr>\n",
       "      <th>3</th>\n",
       "      <td>4f5798c4-75f1-4a88-acd0-8ece2acc4b65</td>\n",
       "      <td>Jekkrey_Test1</td>\n",
       "      <td>O</td>\n",
       "    </tr>\n",
       "    <tr>\n",
       "      <th>4</th>\n",
       "      <td>8719b16c-9911-4682-a1d3-1699599fa081</td>\n",
       "      <td>test4</td>\n",
       "      <td>C</td>\n",
       "    </tr>\n",
       "    <tr>\n",
       "      <th>...</th>\n",
       "      <td>...</td>\n",
       "      <td>...</td>\n",
       "      <td>...</td>\n",
       "    </tr>\n",
       "    <tr>\n",
       "      <th>240</th>\n",
       "      <td>7794f4db-155c-4530-b6c0-f8c254ce3089</td>\n",
       "      <td>Notebook API proj 2021-07-29T15:55:02.816638</td>\n",
       "      <td>O</td>\n",
       "    </tr>\n",
       "    <tr>\n",
       "      <th>241</th>\n",
       "      <td>4d5e7951-8fa0-453d-9cab-1f0b106155bf</td>\n",
       "      <td>Notebook API proj 2021-07-29T16:10:53.178030</td>\n",
       "      <td>O</td>\n",
       "    </tr>\n",
       "    <tr>\n",
       "      <th>242</th>\n",
       "      <td>f131d2eb-e3dc-4603-be7f-837bae2c3796</td>\n",
       "      <td>Notebook API proj 2021-07-29T16:12:44.356170</td>\n",
       "      <td>O</td>\n",
       "    </tr>\n",
       "    <tr>\n",
       "      <th>243</th>\n",
       "      <td>72ca9f92-8de9-40df-b83b-262fff90a981</td>\n",
       "      <td>Notebook API proj 2021-07-29T16:13:23.356937</td>\n",
       "      <td>O</td>\n",
       "    </tr>\n",
       "    <tr>\n",
       "      <th>244</th>\n",
       "      <td>84705e88-342d-48bb-9a45-0f5a0c24f5ce</td>\n",
       "      <td>Notebook API proj 2021-07-29T16:14:40.370697</td>\n",
       "      <td>O</td>\n",
       "    </tr>\n",
       "  </tbody>\n",
       "</table>\n",
       "<p>245 rows × 3 columns</p>\n",
       "</div>"
      ]
     },
     "metadata": {},
     "execution_count": 33
    }
   ],
   "metadata": {}
  },
  {
   "cell_type": "markdown",
   "source": [
    "### Example Pie Chart from dataframe\n",
    "\n",
    "This uses the built-in matplotlib functions from pandas: https://pandas.pydata.org/pandas-docs/stable/user_guide/visualization.html\n",
    "\n",
    "matplotlib should have been installed as a dependency of pandas. If not, you may need to install it separately."
   ],
   "metadata": {}
  },
  {
   "cell_type": "code",
   "execution_count": 34,
   "source": [
    "df.status.value_counts().plot.pie(title=\"Open and Hidden Projects\")"
   ],
   "outputs": [
    {
     "output_type": "execute_result",
     "data": {
      "text/plain": [
       "<AxesSubplot:title={'center':'Open and Hidden Projects'}, ylabel='status'>"
      ]
     },
     "metadata": {},
     "execution_count": 34
    },
    {
     "output_type": "display_data",
     "data": {
      "text/plain": [
       "<Figure size 432x288 with 1 Axes>"
      ],
      "image/png": "[encoded data removed]"
     },
     "metadata": {}
    }
   ],
   "metadata": {}
  },
  {
   "cell_type": "markdown",
   "source": [
    "## Get a Project Name \n",
    "\n",
    "You may wish to adjust the code below to set a project name of your choosing, for example 'My API Test Project'. In this sample, we'll just take the first project in the list.\n"
   ],
   "metadata": {}
  },
  {
   "cell_type": "code",
   "execution_count": 35,
   "source": [
    "sample_project_name = df.iloc[0]['name'] # First project in the list\r\n",
    "sample_project_name"
   ],
   "outputs": [
    {
     "output_type": "execute_result",
     "data": {
      "text/plain": [
       "'Juni test project 3'"
      ]
     },
     "metadata": {},
     "execution_count": 35
    }
   ],
   "metadata": {}
  },
  {
   "cell_type": "markdown",
   "source": [
    "### Override Sample Project Name for Demo\r\n",
    "\r\n",
    "Uncomment the following line, and set the project name to a project of your choice, if you wish to work on a specific project."
   ],
   "metadata": {}
  },
  {
   "cell_type": "code",
   "execution_count": 36,
   "source": [
    "# sample_project_name = 'Demo Project'"
   ],
   "outputs": [],
   "metadata": {}
  },
  {
   "cell_type": "markdown",
   "source": [
    "## Get ID of a Selected Project\n",
    "\n",
    "Read ID of project 'Show & Tell 2021-Apr-30' from dataframe"
   ],
   "metadata": {}
  },
  {
   "cell_type": "code",
   "execution_count": 37,
   "source": [
    "stPrjID = df.loc[df['name'] == sample_project_name]\r\n",
    "show_tell_prj = stPrjID['id'].values[0]\r\n",
    "print('Project:', stPrjID['name'].values[0], 'ID:', show_tell_prj)"
   ],
   "outputs": [
    {
     "output_type": "stream",
     "name": "stdout",
     "text": [
      "Project: Gordon Demo Project ID: 17a825f9-b4b5-4685-8396-59d5c80dc15c\n"
     ]
    }
   ],
   "metadata": {}
  },
  {
   "cell_type": "markdown",
   "source": [
    "\r\n",
    "---\r\n",
    "\r\n",
    "## Read Task list from selected project\r\n",
    "\r\n",
    "Use GET request from tasks API with selected project ID as input parameter.\r\n",
    "\r\n",
    "Expected response \"200 OK\""
   ],
   "metadata": {}
  },
  {
   "cell_type": "code",
   "execution_count": 38,
   "source": [
    "taskURL = base_url + '/api/calm-tasks/v1/tasks?projectId=' + show_tell_prj\r\n",
    "\r\n",
    "response = requests.get(taskURL, headers=hed)\r\n",
    "\r\n",
    "print(response.status_code, response.reason)"
   ],
   "outputs": [
    {
     "output_type": "stream",
     "name": "stdout",
     "text": [
      "200 OK\n"
     ]
    }
   ],
   "metadata": {}
  },
  {
   "cell_type": "markdown",
   "source": [
    "### Parse project task list JSON into dataframe"
   ],
   "metadata": {}
  },
  {
   "cell_type": "code",
   "execution_count": 39,
   "source": [
    "df_stTasks = pd.json_normalize(response.json())\r\n",
    "\r\n",
    "df_stTasks.head()"
   ],
   "outputs": [
    {
     "output_type": "execute_result",
     "data": {
      "text/plain": [
       "                                     id                             projectId  \\\n",
       "0  6726e8aa-555a-4be4-9f96-89c69aaacd54  17a825f9-b4b5-4685-8396-59d5c80dc15c   \n",
       "1  4bea2b61-307e-47c3-9ced-01b2cc30b912  17a825f9-b4b5-4685-8396-59d5c80dc15c   \n",
       "2  e8292279-ebb6-4e97-8714-ccbe8357307c  17a825f9-b4b5-4685-8396-59d5c80dc15c   \n",
       "3  b2b77c06-36f4-4c3f-8e8c-5896a0f88ddb  17a825f9-b4b5-4685-8396-59d5c80dc15c   \n",
       "4  ce587643-8d6a-43d7-bd30-b908c55e33c0  17a825f9-b4b5-4685-8396-59d5c80dc15c   \n",
       "\n",
       "                                               title      type     status  \\\n",
       "0  Edit Action Data and Change Visibility of Test...  CALMTMPL  CIPTKOPEN   \n",
       "1                           Customize Form Templates  CALMTMPL   CIPTKINP   \n",
       "2                      Request the Production System  CALMTMPL  CIPTKOPEN   \n",
       "3                         Execute Regression Testing  CALMTMPL  CIPTKOPEN   \n",
       "4                             Execute Data Migration  CALMTMPL  CIPTKOPEN   \n",
       "\n",
       "  externalId     dueDate  priorityId assigneeId assigneeName  \n",
       "0       None  2021-08-07          30       None         None  \n",
       "1       None  2021-07-23          30       None         None  \n",
       "2       None  2021-08-07          30       None         None  \n",
       "3       None  2021-08-07          30       None         None  \n",
       "4       None  2021-08-07          30       None         None  "
      ],
      "text/html": [
       "<div>\n",
       "<style scoped>\n",
       "    .dataframe tbody tr th:only-of-type {\n",
       "        vertical-align: middle;\n",
       "    }\n",
       "\n",
       "    .dataframe tbody tr th {\n",
       "        vertical-align: top;\n",
       "    }\n",
       "\n",
       "    .dataframe thead th {\n",
       "        text-align: right;\n",
       "    }\n",
       "</style>\n",
       "<table border=\"1\" class=\"dataframe\">\n",
       "  <thead>\n",
       "    <tr style=\"text-align: right;\">\n",
       "      <th></th>\n",
       "      <th>id</th>\n",
       "      <th>projectId</th>\n",
       "      <th>title</th>\n",
       "      <th>type</th>\n",
       "      <th>status</th>\n",
       "      <th>externalId</th>\n",
       "      <th>dueDate</th>\n",
       "      <th>priorityId</th>\n",
       "      <th>assigneeId</th>\n",
       "      <th>assigneeName</th>\n",
       "    </tr>\n",
       "  </thead>\n",
       "  <tbody>\n",
       "    <tr>\n",
       "      <th>0</th>\n",
       "      <td>6726e8aa-555a-4be4-9f96-89c69aaacd54</td>\n",
       "      <td>17a825f9-b4b5-4685-8396-59d5c80dc15c</td>\n",
       "      <td>Edit Action Data and Change Visibility of Test...</td>\n",
       "      <td>CALMTMPL</td>\n",
       "      <td>CIPTKOPEN</td>\n",
       "      <td>None</td>\n",
       "      <td>2021-08-07</td>\n",
       "      <td>30</td>\n",
       "      <td>None</td>\n",
       "      <td>None</td>\n",
       "    </tr>\n",
       "    <tr>\n",
       "      <th>1</th>\n",
       "      <td>4bea2b61-307e-47c3-9ced-01b2cc30b912</td>\n",
       "      <td>17a825f9-b4b5-4685-8396-59d5c80dc15c</td>\n",
       "      <td>Customize Form Templates</td>\n",
       "      <td>CALMTMPL</td>\n",
       "      <td>CIPTKINP</td>\n",
       "      <td>None</td>\n",
       "      <td>2021-07-23</td>\n",
       "      <td>30</td>\n",
       "      <td>None</td>\n",
       "      <td>None</td>\n",
       "    </tr>\n",
       "    <tr>\n",
       "      <th>2</th>\n",
       "      <td>e8292279-ebb6-4e97-8714-ccbe8357307c</td>\n",
       "      <td>17a825f9-b4b5-4685-8396-59d5c80dc15c</td>\n",
       "      <td>Request the Production System</td>\n",
       "      <td>CALMTMPL</td>\n",
       "      <td>CIPTKOPEN</td>\n",
       "      <td>None</td>\n",
       "      <td>2021-08-07</td>\n",
       "      <td>30</td>\n",
       "      <td>None</td>\n",
       "      <td>None</td>\n",
       "    </tr>\n",
       "    <tr>\n",
       "      <th>3</th>\n",
       "      <td>b2b77c06-36f4-4c3f-8e8c-5896a0f88ddb</td>\n",
       "      <td>17a825f9-b4b5-4685-8396-59d5c80dc15c</td>\n",
       "      <td>Execute Regression Testing</td>\n",
       "      <td>CALMTMPL</td>\n",
       "      <td>CIPTKOPEN</td>\n",
       "      <td>None</td>\n",
       "      <td>2021-08-07</td>\n",
       "      <td>30</td>\n",
       "      <td>None</td>\n",
       "      <td>None</td>\n",
       "    </tr>\n",
       "    <tr>\n",
       "      <th>4</th>\n",
       "      <td>ce587643-8d6a-43d7-bd30-b908c55e33c0</td>\n",
       "      <td>17a825f9-b4b5-4685-8396-59d5c80dc15c</td>\n",
       "      <td>Execute Data Migration</td>\n",
       "      <td>CALMTMPL</td>\n",
       "      <td>CIPTKOPEN</td>\n",
       "      <td>None</td>\n",
       "      <td>2021-08-07</td>\n",
       "      <td>30</td>\n",
       "      <td>None</td>\n",
       "      <td>None</td>\n",
       "    </tr>\n",
       "  </tbody>\n",
       "</table>\n",
       "</div>"
      ]
     },
     "metadata": {},
     "execution_count": 39
    }
   ],
   "metadata": {}
  },
  {
   "cell_type": "markdown",
   "source": [
    "### Barchart plot of tasks by status\n",
    "\n",
    "Use built-in matplotlib of Pandas for quick data exploration"
   ],
   "metadata": {}
  },
  {
   "cell_type": "code",
   "execution_count": 40,
   "source": [
    "df_stTasks.status.value_counts().plot.bar(title=\"Task Status\", figsize=(18,8))"
   ],
   "outputs": [
    {
     "output_type": "execute_result",
     "data": {
      "text/plain": [
       "<AxesSubplot:title={'center':'Task Status'}>"
      ]
     },
     "metadata": {},
     "execution_count": 40
    },
    {
     "output_type": "display_data",
     "data": {
      "text/plain": [
       "<Figure size 1296x576 with 1 Axes>"
      ],
      "image/png": "[encoded data removed]"
     },
     "metadata": {
      "needs_background": "light"
     }
    }
   ],
   "metadata": {}
  },
  {
   "cell_type": "markdown",
   "source": [
    "## Update 2021-07-28 - Task Priority Attribute\r\n",
    "\r\n",
    "This graph shows tasks grouped by priority.\r\n",
    "\r\n",
    "See the API specification for the priority schema. The current values are as follows:\r\n",
    "\r\n",
    "10 - Very High\r\n",
    "20 - High\r\n",
    "30 - Medium\r\n",
    "40 - Low\r\n"
   ],
   "metadata": {}
  },
  {
   "cell_type": "code",
   "execution_count": 41,
   "source": [
    "df_stTasks.priorityId.value_counts().plot.bar(title=\"Task Priorities\", figsize=(18,8))"
   ],
   "outputs": [
    {
     "output_type": "execute_result",
     "data": {
      "text/plain": [
       "<AxesSubplot:title={'center':'Task Priorities'}>"
      ]
     },
     "metadata": {},
     "execution_count": 41
    },
    {
     "output_type": "display_data",
     "data": {
      "text/plain": [
       "<Figure size 1296x576 with 1 Axes>"
      ],
      "image/png": "[encoded data removed]"
     },
     "metadata": {
      "needs_background": "light"
     }
    }
   ],
   "metadata": {}
  },
  {
   "cell_type": "markdown",
   "source": [
    "### Analyze tasks by status and due date\n",
    "\n",
    "Count tasks in each due date/status bin\n"
   ],
   "metadata": {}
  },
  {
   "cell_type": "code",
   "execution_count": 42,
   "source": [
    "df_stTasks_Status = df_stTasks.groupby(by=['status','dueDate'])['id'].count().reset_index()\r\n",
    "df_stTasks_Status.rename(columns={'id': 'count'}, inplace=True)\r\n",
    "df_stTasks_Status"
   ],
   "outputs": [
    {
     "output_type": "execute_result",
     "data": {
      "text/plain": [
       "        status     dueDate  count\n",
       "0     CIPTKBLK  2021-07-25      4\n",
       "1   CIPTKCLOSE  2021-07-25      7\n",
       "2   CIPTKCLOSE  2021-08-20      2\n",
       "3   CIPTKCLOSE  2021-09-03      3\n",
       "4     CIPTKINP  2021-07-23     18\n",
       "5     CIPTKINP  2021-07-25     36\n",
       "6     CIPTKINP  2021-07-31      1\n",
       "7     CIPTKINP  2021-08-06      1\n",
       "8     CIPTKINP  2021-08-07      1\n",
       "9     CIPTKINP  2021-08-20      1\n",
       "10    CIPTKINP  2021-10-01      1\n",
       "11     CIPTKNO  2021-07-25     10\n",
       "12   CIPTKOPEN  2021-07-25      5\n",
       "13   CIPTKOPEN  2021-07-31     70\n",
       "14   CIPTKOPEN  2021-08-06      2\n",
       "15   CIPTKOPEN  2021-08-07    115\n",
       "16   CIPTKOPEN  2021-08-14     12\n",
       "17   CIPTKOPEN  2021-08-20      1\n",
       "18   CIPTKOPEN  2021-08-30      1\n",
       "19   CIPTKOPEN  2021-08-31      1\n",
       "20   CIPTKOPEN  2021-09-17     38\n",
       "21   CIPTKOPEN  2021-10-01      1\n",
       "22    CIPUSINP  2021-07-25     10\n",
       "23   CIPUSOPEN  2021-07-25      3\n",
       "24   CIPUSOPEN  2021-08-07      2"
      ],
      "text/html": [
       "<div>\n",
       "<style scoped>\n",
       "    .dataframe tbody tr th:only-of-type {\n",
       "        vertical-align: middle;\n",
       "    }\n",
       "\n",
       "    .dataframe tbody tr th {\n",
       "        vertical-align: top;\n",
       "    }\n",
       "\n",
       "    .dataframe thead th {\n",
       "        text-align: right;\n",
       "    }\n",
       "</style>\n",
       "<table border=\"1\" class=\"dataframe\">\n",
       "  <thead>\n",
       "    <tr style=\"text-align: right;\">\n",
       "      <th></th>\n",
       "      <th>status</th>\n",
       "      <th>dueDate</th>\n",
       "      <th>count</th>\n",
       "    </tr>\n",
       "  </thead>\n",
       "  <tbody>\n",
       "    <tr>\n",
       "      <th>0</th>\n",
       "      <td>CIPTKBLK</td>\n",
       "      <td>2021-07-25</td>\n",
       "      <td>4</td>\n",
       "    </tr>\n",
       "    <tr>\n",
       "      <th>1</th>\n",
       "      <td>CIPTKCLOSE</td>\n",
       "      <td>2021-07-25</td>\n",
       "      <td>7</td>\n",
       "    </tr>\n",
       "    <tr>\n",
       "      <th>2</th>\n",
       "      <td>CIPTKCLOSE</td>\n",
       "      <td>2021-08-20</td>\n",
       "      <td>2</td>\n",
       "    </tr>\n",
       "    <tr>\n",
       "      <th>3</th>\n",
       "      <td>CIPTKCLOSE</td>\n",
       "      <td>2021-09-03</td>\n",
       "      <td>3</td>\n",
       "    </tr>\n",
       "    <tr>\n",
       "      <th>4</th>\n",
       "      <td>CIPTKINP</td>\n",
       "      <td>2021-07-23</td>\n",
       "      <td>18</td>\n",
       "    </tr>\n",
       "    <tr>\n",
       "      <th>5</th>\n",
       "      <td>CIPTKINP</td>\n",
       "      <td>2021-07-25</td>\n",
       "      <td>36</td>\n",
       "    </tr>\n",
       "    <tr>\n",
       "      <th>6</th>\n",
       "      <td>CIPTKINP</td>\n",
       "      <td>2021-07-31</td>\n",
       "      <td>1</td>\n",
       "    </tr>\n",
       "    <tr>\n",
       "      <th>7</th>\n",
       "      <td>CIPTKINP</td>\n",
       "      <td>2021-08-06</td>\n",
       "      <td>1</td>\n",
       "    </tr>\n",
       "    <tr>\n",
       "      <th>8</th>\n",
       "      <td>CIPTKINP</td>\n",
       "      <td>2021-08-07</td>\n",
       "      <td>1</td>\n",
       "    </tr>\n",
       "    <tr>\n",
       "      <th>9</th>\n",
       "      <td>CIPTKINP</td>\n",
       "      <td>2021-08-20</td>\n",
       "      <td>1</td>\n",
       "    </tr>\n",
       "    <tr>\n",
       "      <th>10</th>\n",
       "      <td>CIPTKINP</td>\n",
       "      <td>2021-10-01</td>\n",
       "      <td>1</td>\n",
       "    </tr>\n",
       "    <tr>\n",
       "      <th>11</th>\n",
       "      <td>CIPTKNO</td>\n",
       "      <td>2021-07-25</td>\n",
       "      <td>10</td>\n",
       "    </tr>\n",
       "    <tr>\n",
       "      <th>12</th>\n",
       "      <td>CIPTKOPEN</td>\n",
       "      <td>2021-07-25</td>\n",
       "      <td>5</td>\n",
       "    </tr>\n",
       "    <tr>\n",
       "      <th>13</th>\n",
       "      <td>CIPTKOPEN</td>\n",
       "      <td>2021-07-31</td>\n",
       "      <td>70</td>\n",
       "    </tr>\n",
       "    <tr>\n",
       "      <th>14</th>\n",
       "      <td>CIPTKOPEN</td>\n",
       "      <td>2021-08-06</td>\n",
       "      <td>2</td>\n",
       "    </tr>\n",
       "    <tr>\n",
       "      <th>15</th>\n",
       "      <td>CIPTKOPEN</td>\n",
       "      <td>2021-08-07</td>\n",
       "      <td>115</td>\n",
       "    </tr>\n",
       "    <tr>\n",
       "      <th>16</th>\n",
       "      <td>CIPTKOPEN</td>\n",
       "      <td>2021-08-14</td>\n",
       "      <td>12</td>\n",
       "    </tr>\n",
       "    <tr>\n",
       "      <th>17</th>\n",
       "      <td>CIPTKOPEN</td>\n",
       "      <td>2021-08-20</td>\n",
       "      <td>1</td>\n",
       "    </tr>\n",
       "    <tr>\n",
       "      <th>18</th>\n",
       "      <td>CIPTKOPEN</td>\n",
       "      <td>2021-08-30</td>\n",
       "      <td>1</td>\n",
       "    </tr>\n",
       "    <tr>\n",
       "      <th>19</th>\n",
       "      <td>CIPTKOPEN</td>\n",
       "      <td>2021-08-31</td>\n",
       "      <td>1</td>\n",
       "    </tr>\n",
       "    <tr>\n",
       "      <th>20</th>\n",
       "      <td>CIPTKOPEN</td>\n",
       "      <td>2021-09-17</td>\n",
       "      <td>38</td>\n",
       "    </tr>\n",
       "    <tr>\n",
       "      <th>21</th>\n",
       "      <td>CIPTKOPEN</td>\n",
       "      <td>2021-10-01</td>\n",
       "      <td>1</td>\n",
       "    </tr>\n",
       "    <tr>\n",
       "      <th>22</th>\n",
       "      <td>CIPUSINP</td>\n",
       "      <td>2021-07-25</td>\n",
       "      <td>10</td>\n",
       "    </tr>\n",
       "    <tr>\n",
       "      <th>23</th>\n",
       "      <td>CIPUSOPEN</td>\n",
       "      <td>2021-07-25</td>\n",
       "      <td>3</td>\n",
       "    </tr>\n",
       "    <tr>\n",
       "      <th>24</th>\n",
       "      <td>CIPUSOPEN</td>\n",
       "      <td>2021-08-07</td>\n",
       "      <td>2</td>\n",
       "    </tr>\n",
       "  </tbody>\n",
       "</table>\n",
       "</div>"
      ]
     },
     "metadata": {},
     "execution_count": 42
    }
   ],
   "metadata": {}
  },
  {
   "cell_type": "code",
   "execution_count": 43,
   "source": [
    "df_stTasks.groupby(by=['status'])['id'].count().reset_index()"
   ],
   "outputs": [
    {
     "output_type": "execute_result",
     "data": {
      "text/plain": [
       "       status   id\n",
       "0    CIPTKBLK    4\n",
       "1  CIPTKCLOSE   12\n",
       "2    CIPTKINP   59\n",
       "3     CIPTKNO   10\n",
       "4   CIPTKOPEN  246\n",
       "5    CIPUSINP   10\n",
       "6   CIPUSOPEN    5"
      ],
      "text/html": [
       "<div>\n",
       "<style scoped>\n",
       "    .dataframe tbody tr th:only-of-type {\n",
       "        vertical-align: middle;\n",
       "    }\n",
       "\n",
       "    .dataframe tbody tr th {\n",
       "        vertical-align: top;\n",
       "    }\n",
       "\n",
       "    .dataframe thead th {\n",
       "        text-align: right;\n",
       "    }\n",
       "</style>\n",
       "<table border=\"1\" class=\"dataframe\">\n",
       "  <thead>\n",
       "    <tr style=\"text-align: right;\">\n",
       "      <th></th>\n",
       "      <th>status</th>\n",
       "      <th>id</th>\n",
       "    </tr>\n",
       "  </thead>\n",
       "  <tbody>\n",
       "    <tr>\n",
       "      <th>0</th>\n",
       "      <td>CIPTKBLK</td>\n",
       "      <td>4</td>\n",
       "    </tr>\n",
       "    <tr>\n",
       "      <th>1</th>\n",
       "      <td>CIPTKCLOSE</td>\n",
       "      <td>12</td>\n",
       "    </tr>\n",
       "    <tr>\n",
       "      <th>2</th>\n",
       "      <td>CIPTKINP</td>\n",
       "      <td>59</td>\n",
       "    </tr>\n",
       "    <tr>\n",
       "      <th>3</th>\n",
       "      <td>CIPTKNO</td>\n",
       "      <td>10</td>\n",
       "    </tr>\n",
       "    <tr>\n",
       "      <th>4</th>\n",
       "      <td>CIPTKOPEN</td>\n",
       "      <td>246</td>\n",
       "    </tr>\n",
       "    <tr>\n",
       "      <th>5</th>\n",
       "      <td>CIPUSINP</td>\n",
       "      <td>10</td>\n",
       "    </tr>\n",
       "    <tr>\n",
       "      <th>6</th>\n",
       "      <td>CIPUSOPEN</td>\n",
       "      <td>5</td>\n",
       "    </tr>\n",
       "  </tbody>\n",
       "</table>\n",
       "</div>"
      ]
     },
     "metadata": {},
     "execution_count": 43
    }
   ],
   "metadata": {}
  },
  {
   "cell_type": "markdown",
   "source": [
    "### Demo stacked barchart due date, status count\n",
    "\n",
    "Use Plotly to make a quick stacked barchart. X-axis is due date, y axis is task count, colours in legend are task status values.\n",
    "\n",
    "Further information on the Plotly graphing library for Python: https://plotly.com/python/"
   ],
   "metadata": {}
  },
  {
   "cell_type": "code",
   "execution_count": 44,
   "source": [
    "import plotly.express as px\r\n",
    "\r\n",
    "fig = px.bar(df_stTasks_Status, x='dueDate', y='count', color='status', title=\"Task Status by Due Date\", width=1200, height=800)\r\n",
    "fig"
   ],
   "outputs": [
    {
     "output_type": "display_data",
     "data": {
      "application/vnd.plotly.v1+json": {
       "config": {
        "plotlyServerURL": "https://plot.ly"
       },
       "data": [
        {
         "alignmentgroup": "True",
         "hovertemplate": "status=CIPTKBLK<br>dueDate=%{x}<br>count=%{y}<extra></extra>",
         "legendgroup": "CIPTKBLK",
         "marker": {
          "color": "#636efa"
         },
         "name": "CIPTKBLK",
         "offsetgroup": "CIPTKBLK",
         "orientation": "v",
         "showlegend": true,
         "textposition": "auto",
         "type": "bar",
         "x": [
          "2021-07-25"
         ],
         "xaxis": "x",
         "y": [
          4
         ],
         "yaxis": "y"
        },
        {
         "alignmentgroup": "True",
         "hovertemplate": "status=CIPTKCLOSE<br>dueDate=%{x}<br>count=%{y}<extra></extra>",
         "legendgroup": "CIPTKCLOSE",
         "marker": {
          "color": "#EF553B"
         },
         "name": "CIPTKCLOSE",
         "offsetgroup": "CIPTKCLOSE",
         "orientation": "v",
         "showlegend": true,
         "textposition": "auto",
         "type": "bar",
         "x": [
          "2021-07-25",
          "2021-08-20",
          "2021-09-03"
         ],
         "xaxis": "x",
         "y": [
          7,
          2,
          3
         ],
         "yaxis": "y"
        },
        {
         "alignmentgroup": "True",
         "hovertemplate": "status=CIPTKINP<br>dueDate=%{x}<br>count=%{y}<extra></extra>",
         "legendgroup": "CIPTKINP",
         "marker": {
          "color": "#00cc96"
         },
         "name": "CIPTKINP",
         "offsetgroup": "CIPTKINP",
         "orientation": "v",
         "showlegend": true,
         "textposition": "auto",
         "type": "bar",
         "x": [
          "2021-07-23",
          "2021-07-25",
          "2021-07-31",
          "2021-08-06",
          "2021-08-07",
          "2021-08-20",
          "2021-10-01"
         ],
         "xaxis": "x",
         "y": [
          18,
          36,
          1,
          1,
          1,
          1,
          1
         ],
         "yaxis": "y"
        },
        {
         "alignmentgroup": "True",
         "hovertemplate": "status=CIPTKNO<br>dueDate=%{x}<br>count=%{y}<extra></extra>",
         "legendgroup": "CIPTKNO",
         "marker": {
          "color": "#ab63fa"
         },
         "name": "CIPTKNO",
         "offsetgroup": "CIPTKNO",
         "orientation": "v",
         "showlegend": true,
         "textposition": "auto",
         "type": "bar",
         "x": [
          "2021-07-25"
         ],
         "xaxis": "x",
         "y": [
          10
         ],
         "yaxis": "y"
        },
        {
         "alignmentgroup": "True",
         "hovertemplate": "status=CIPTKOPEN<br>dueDate=%{x}<br>count=%{y}<extra></extra>",
         "legendgroup": "CIPTKOPEN",
         "marker": {
          "color": "#FFA15A"
         },
         "name": "CIPTKOPEN",
         "offsetgroup": "CIPTKOPEN",
         "orientation": "v",
         "showlegend": true,
         "textposition": "auto",
         "type": "bar",
         "x": [
          "2021-07-25",
          "2021-07-31",
          "2021-08-06",
          "2021-08-07",
          "2021-08-14",
          "2021-08-20",
          "2021-08-30",
          "2021-08-31",
          "2021-09-17",
          "2021-10-01"
         ],
         "xaxis": "x",
         "y": [
          5,
          70,
          2,
          115,
          12,
          1,
          1,
          1,
          38,
          1
         ],
         "yaxis": "y"
        },
        {
         "alignmentgroup": "True",
         "hovertemplate": "status=CIPUSINP<br>dueDate=%{x}<br>count=%{y}<extra></extra>",
         "legendgroup": "CIPUSINP",
         "marker": {
          "color": "#19d3f3"
         },
         "name": "CIPUSINP",
         "offsetgroup": "CIPUSINP",
         "orientation": "v",
         "showlegend": true,
         "textposition": "auto",
         "type": "bar",
         "x": [
          "2021-07-25"
         ],
         "xaxis": "x",
         "y": [
          10
         ],
         "yaxis": "y"
        },
        {
         "alignmentgroup": "True",
         "hovertemplate": "status=CIPUSOPEN<br>dueDate=%{x}<br>count=%{y}<extra></extra>",
         "legendgroup": "CIPUSOPEN",
         "marker": {
          "color": "#FF6692"
         },
         "name": "CIPUSOPEN",
         "offsetgroup": "CIPUSOPEN",
         "orientation": "v",
         "showlegend": true,
         "textposition": "auto",
         "type": "bar",
         "x": [
          "2021-07-25",
          "2021-08-07"
         ],
         "xaxis": "x",
         "y": [
          3,
          2
         ],
         "yaxis": "y"
        }
       ],
       "layout": {
        "barmode": "relative",
        "height": 800,
        "legend": {
         "title": {
          "text": "status"
         },
         "tracegroupgap": 0
        },
        "template": {
         "data": {
          "bar": [
           {
            "error_x": {
             "color": "#2a3f5f"
            },
            "error_y": {
             "color": "#2a3f5f"
            },
            "marker": {
             "line": {
              "color": "#E5ECF6",
              "width": 0.5
             }
            },
            "type": "bar"
           }
          ],
          "barpolar": [
           {
            "marker": {
             "line": {
              "color": "#E5ECF6",
              "width": 0.5
             }
            },
            "type": "barpolar"
           }
          ],
          "carpet": [
           {
            "aaxis": {
             "endlinecolor": "#2a3f5f",
             "gridcolor": "white",
             "linecolor": "white",
             "minorgridcolor": "white",
             "startlinecolor": "#2a3f5f"
            },
            "baxis": {
             "endlinecolor": "#2a3f5f",
             "gridcolor": "white",
             "linecolor": "white",
             "minorgridcolor": "white",
             "startlinecolor": "#2a3f5f"
            },
            "type": "carpet"
           }
          ],
          "choropleth": [
           {
            "colorbar": {
             "outlinewidth": 0,
             "ticks": ""
            },
            "type": "choropleth"
           }
          ],
          "contour": [
           {
            "colorbar": {
             "outlinewidth": 0,
             "ticks": ""
            },
            "colorscale": [
             [
              0,
              "#0d0887"
             ],
             [
              0.1111111111111111,
              "#46039f"
             ],
             [
              0.2222222222222222,
              "#7201a8"
             ],
             [
              0.3333333333333333,
              "#9c179e"
             ],
             [
              0.4444444444444444,
              "#bd3786"
             ],
             [
              0.5555555555555556,
              "#d8576b"
             ],
             [
              0.6666666666666666,
              "#ed7953"
             ],
             [
              0.7777777777777778,
              "#fb9f3a"
             ],
             [
              0.8888888888888888,
              "#fdca26"
             ],
             [
              1,
              "#f0f921"
             ]
            ],
            "type": "contour"
           }
          ],
          "contourcarpet": [
           {
            "colorbar": {
             "outlinewidth": 0,
             "ticks": ""
            },
            "type": "contourcarpet"
           }
          ],
          "heatmap": [
           {
            "colorbar": {
             "outlinewidth": 0,
             "ticks": ""
            },
            "colorscale": [
             [
              0,
              "#0d0887"
             ],
             [
              0.1111111111111111,
              "#46039f"
             ],
             [
              0.2222222222222222,
              "#7201a8"
             ],
             [
              0.3333333333333333,
              "#9c179e"
             ],
             [
              0.4444444444444444,
              "#bd3786"
             ],
             [
              0.5555555555555556,
              "#d8576b"
             ],
             [
              0.6666666666666666,
              "#ed7953"
             ],
             [
              0.7777777777777778,
              "#fb9f3a"
             ],
             [
              0.8888888888888888,
              "#fdca26"
             ],
             [
              1,
              "#f0f921"
             ]
            ],
            "type": "heatmap"
           }
          ],
          "heatmapgl": [
           {
            "colorbar": {
             "outlinewidth": 0,
             "ticks": ""
            },
            "colorscale": [
             [
              0,
              "#0d0887"
             ],
             [
              0.1111111111111111,
              "#46039f"
             ],
             [
              0.2222222222222222,
              "#7201a8"
             ],
             [
              0.3333333333333333,
              "#9c179e"
             ],
             [
              0.4444444444444444,
              "#bd3786"
             ],
             [
              0.5555555555555556,
              "#d8576b"
             ],
             [
              0.6666666666666666,
              "#ed7953"
             ],
             [
              0.7777777777777778,
              "#fb9f3a"
             ],
             [
              0.8888888888888888,
              "#fdca26"
             ],
             [
              1,
              "#f0f921"
             ]
            ],
            "type": "heatmapgl"
           }
          ],
          "histogram": [
           {
            "marker": {
             "colorbar": {
              "outlinewidth": 0,
              "ticks": ""
             }
            },
            "type": "histogram"
           }
          ],
          "histogram2d": [
           {
            "colorbar": {
             "outlinewidth": 0,
             "ticks": ""
            },
            "colorscale": [
             [
              0,
              "#0d0887"
             ],
             [
              0.1111111111111111,
              "#46039f"
             ],
             [
              0.2222222222222222,
              "#7201a8"
             ],
             [
              0.3333333333333333,
              "#9c179e"
             ],
             [
              0.4444444444444444,
              "#bd3786"
             ],
             [
              0.5555555555555556,
              "#d8576b"
             ],
             [
              0.6666666666666666,
              "#ed7953"
             ],
             [
              0.7777777777777778,
              "#fb9f3a"
             ],
             [
              0.8888888888888888,
              "#fdca26"
             ],
             [
              1,
              "#f0f921"
             ]
            ],
            "type": "histogram2d"
           }
          ],
          "histogram2dcontour": [
           {
            "colorbar": {
             "outlinewidth": 0,
             "ticks": ""
            },
            "colorscale": [
             [
              0,
              "#0d0887"
             ],
             [
              0.1111111111111111,
              "#46039f"
             ],
             [
              0.2222222222222222,
              "#7201a8"
             ],
             [
              0.3333333333333333,
              "#9c179e"
             ],
             [
              0.4444444444444444,
              "#bd3786"
             ],
             [
              0.5555555555555556,
              "#d8576b"
             ],
             [
              0.6666666666666666,
              "#ed7953"
             ],
             [
              0.7777777777777778,
              "#fb9f3a"
             ],
             [
              0.8888888888888888,
              "#fdca26"
             ],
             [
              1,
              "#f0f921"
             ]
            ],
            "type": "histogram2dcontour"
           }
          ],
          "mesh3d": [
           {
            "colorbar": {
             "outlinewidth": 0,
             "ticks": ""
            },
            "type": "mesh3d"
           }
          ],
          "parcoords": [
           {
            "line": {
             "colorbar": {
              "outlinewidth": 0,
              "ticks": ""
             }
            },
            "type": "parcoords"
           }
          ],
          "pie": [
           {
            "automargin": true,
            "type": "pie"
           }
          ],
          "scatter": [
           {
            "marker": {
             "colorbar": {
              "outlinewidth": 0,
              "ticks": ""
             }
            },
            "type": "scatter"
           }
          ],
          "scatter3d": [
           {
            "line": {
             "colorbar": {
              "outlinewidth": 0,
              "ticks": ""
             }
            },
            "marker": {
             "colorbar": {
              "outlinewidth": 0,
              "ticks": ""
             }
            },
            "type": "scatter3d"
           }
          ],
          "scattercarpet": [
           {
            "marker": {
             "colorbar": {
              "outlinewidth": 0,
              "ticks": ""
             }
            },
            "type": "scattercarpet"
           }
          ],
          "scattergeo": [
           {
            "marker": {
             "colorbar": {
              "outlinewidth": 0,
              "ticks": ""
             }
            },
            "type": "scattergeo"
           }
          ],
          "scattergl": [
           {
            "marker": {
             "colorbar": {
              "outlinewidth": 0,
              "ticks": ""
             }
            },
            "type": "scattergl"
           }
          ],
          "scattermapbox": [
           {
            "marker": {
             "colorbar": {
              "outlinewidth": 0,
              "ticks": ""
             }
            },
            "type": "scattermapbox"
           }
          ],
          "scatterpolar": [
           {
            "marker": {
             "colorbar": {
              "outlinewidth": 0,
              "ticks": ""
             }
            },
            "type": "scatterpolar"
           }
          ],
          "scatterpolargl": [
           {
            "marker": {
             "colorbar": {
              "outlinewidth": 0,
              "ticks": ""
             }
            },
            "type": "scatterpolargl"
           }
          ],
          "scatterternary": [
           {
            "marker": {
             "colorbar": {
              "outlinewidth": 0,
              "ticks": ""
             }
            },
            "type": "scatterternary"
           }
          ],
          "surface": [
           {
            "colorbar": {
             "outlinewidth": 0,
             "ticks": ""
            },
            "colorscale": [
             [
              0,
              "#0d0887"
             ],
             [
              0.1111111111111111,
              "#46039f"
             ],
             [
              0.2222222222222222,
              "#7201a8"
             ],
             [
              0.3333333333333333,
              "#9c179e"
             ],
             [
              0.4444444444444444,
              "#bd3786"
             ],
             [
              0.5555555555555556,
              "#d8576b"
             ],
             [
              0.6666666666666666,
              "#ed7953"
             ],
             [
              0.7777777777777778,
              "#fb9f3a"
             ],
             [
              0.8888888888888888,
              "#fdca26"
             ],
             [
              1,
              "#f0f921"
             ]
            ],
            "type": "surface"
           }
          ],
          "table": [
           {
            "cells": {
             "fill": {
              "color": "#EBF0F8"
             },
             "line": {
              "color": "white"
             }
            },
            "header": {
             "fill": {
              "color": "#C8D4E3"
             },
             "line": {
              "color": "white"
             }
            },
            "type": "table"
           }
          ]
         },
         "layout": {
          "annotationdefaults": {
           "arrowcolor": "#2a3f5f",
           "arrowhead": 0,
           "arrowwidth": 1
          },
          "autotypenumbers": "strict",
          "coloraxis": {
           "colorbar": {
            "outlinewidth": 0,
            "ticks": ""
           }
          },
          "colorscale": {
           "diverging": [
            [
             0,
             "#8e0152"
            ],
            [
             0.1,
             "#c51b7d"
            ],
            [
             0.2,
             "#de77ae"
            ],
            [
             0.3,
             "#f1b6da"
            ],
            [
             0.4,
             "#fde0ef"
            ],
            [
             0.5,
             "#f7f7f7"
            ],
            [
             0.6,
             "#e6f5d0"
            ],
            [
             0.7,
             "#b8e186"
            ],
            [
             0.8,
             "#7fbc41"
            ],
            [
             0.9,
             "#4d9221"
            ],
            [
             1,
             "#276419"
            ]
           ],
           "sequential": [
            [
             0,
             "#0d0887"
            ],
            [
             0.1111111111111111,
             "#46039f"
            ],
            [
             0.2222222222222222,
             "#7201a8"
            ],
            [
             0.3333333333333333,
             "#9c179e"
            ],
            [
             0.4444444444444444,
             "#bd3786"
            ],
            [
             0.5555555555555556,
             "#d8576b"
            ],
            [
             0.6666666666666666,
             "#ed7953"
            ],
            [
             0.7777777777777778,
             "#fb9f3a"
            ],
            [
             0.8888888888888888,
             "#fdca26"
            ],
            [
             1,
             "#f0f921"
            ]
           ],
           "sequentialminus": [
            [
             0,
             "#0d0887"
            ],
            [
             0.1111111111111111,
             "#46039f"
            ],
            [
             0.2222222222222222,
             "#7201a8"
            ],
            [
             0.3333333333333333,
             "#9c179e"
            ],
            [
             0.4444444444444444,
             "#bd3786"
            ],
            [
             0.5555555555555556,
             "#d8576b"
            ],
            [
             0.6666666666666666,
             "#ed7953"
            ],
            [
             0.7777777777777778,
             "#fb9f3a"
            ],
            [
             0.8888888888888888,
             "#fdca26"
            ],
            [
             1,
             "#f0f921"
            ]
           ]
          },
          "colorway": [
           "#636efa",
           "#EF553B",
           "#00cc96",
           "#ab63fa",
           "#FFA15A",
           "#19d3f3",
           "#FF6692",
           "#B6E880",
           "#FF97FF",
           "#FECB52"
          ],
          "font": {
           "color": "#2a3f5f"
          },
          "geo": {
           "bgcolor": "white",
           "lakecolor": "white",
           "landcolor": "#E5ECF6",
           "showlakes": true,
           "showland": true,
           "subunitcolor": "white"
          },
          "hoverlabel": {
           "align": "left"
          },
          "hovermode": "closest",
          "mapbox": {
           "style": "light"
          },
          "paper_bgcolor": "white",
          "plot_bgcolor": "#E5ECF6",
          "polar": {
           "angularaxis": {
            "gridcolor": "white",
            "linecolor": "white",
            "ticks": ""
           },
           "bgcolor": "#E5ECF6",
           "radialaxis": {
            "gridcolor": "white",
            "linecolor": "white",
            "ticks": ""
           }
          },
          "scene": {
           "xaxis": {
            "backgroundcolor": "#E5ECF6",
            "gridcolor": "white",
            "gridwidth": 2,
            "linecolor": "white",
            "showbackground": true,
            "ticks": "",
            "zerolinecolor": "white"
           },
           "yaxis": {
            "backgroundcolor": "#E5ECF6",
            "gridcolor": "white",
            "gridwidth": 2,
            "linecolor": "white",
            "showbackground": true,
            "ticks": "",
            "zerolinecolor": "white"
           },
           "zaxis": {
            "backgroundcolor": "#E5ECF6",
            "gridcolor": "white",
            "gridwidth": 2,
            "linecolor": "white",
            "showbackground": true,
            "ticks": "",
            "zerolinecolor": "white"
           }
          },
          "shapedefaults": {
           "line": {
            "color": "#2a3f5f"
           }
          },
          "ternary": {
           "aaxis": {
            "gridcolor": "white",
            "linecolor": "white",
            "ticks": ""
           },
           "baxis": {
            "gridcolor": "white",
            "linecolor": "white",
            "ticks": ""
           },
           "bgcolor": "#E5ECF6",
           "caxis": {
            "gridcolor": "white",
            "linecolor": "white",
            "ticks": ""
           }
          },
          "title": {
           "x": 0.05
          },
          "xaxis": {
           "automargin": true,
           "gridcolor": "white",
           "linecolor": "white",
           "ticks": "",
           "title": {
            "standoff": 15
           },
           "zerolinecolor": "white",
           "zerolinewidth": 2
          },
          "yaxis": {
           "automargin": true,
           "gridcolor": "white",
           "linecolor": "white",
           "ticks": "",
           "title": {
            "standoff": 15
           },
           "zerolinecolor": "white",
           "zerolinewidth": 2
          }
         }
        },
        "title": {
         "text": "Task Status by Due Date"
        },
        "width": 1200,
        "xaxis": {
         "anchor": "y",
         "domain": [
          0,
          1
         ],
         "title": {
          "text": "dueDate"
         }
        },
        "yaxis": {
         "anchor": "x",
         "domain": [
          0,
          1
         ],
         "title": {
          "text": "count"
         }
        }
       }
      }
     },
     "metadata": {}
    }
   ],
   "metadata": {}
  },
  {
   "cell_type": "markdown",
   "source": [
    "\r\n",
    "---\r\n",
    "\r\n",
    "## Create Task\r\n",
    "\r\n",
    "* Endpoint: `https://<tenant url>/api/imp-tkm-srv/v1/tasks`\r\n",
    "\r\n",
    "* Type: Post\r\n",
    "\r\n",
    "Append a timestamp to the end of the new task title for easy identification in UI.\r\n",
    "\r\n",
    "* Change `user@example.com` to a user in your tenant for this to function, or remove the `assigneeId` attribute.\r\n",
    "\r\n",
    "Expected response `201 Created`\r\n"
   ],
   "metadata": {}
  },
  {
   "cell_type": "code",
   "execution_count": 45,
   "source": [
    "import datetime\r\n",
    "\r\n",
    "isoNow = datetime.datetime.now().isoformat()\r\n",
    "\r\n",
    "taskCreateURL = base_url + '/api/calm-tasks/v1/tasks'\r\n",
    "\r\n",
    "taskData = {\r\n",
    "    \"projectId\": show_tell_prj,\r\n",
    "    \"title\": \"Notebook API test task \" + isoNow,\r\n",
    "    \"type\": \"CALMTASK\",\r\n",
    "    \"description\": \"test description. hello world\",\r\n",
    "    \"assigneeId\": \"user@example.com\"\r\n",
    "}\r\n",
    "\r\n",
    "response = requests.post(taskURL, headers=hed, json=taskData)\r\n",
    "\r\n",
    "print(response.status_code, response.reason)\r\n",
    "\r\n",
    "newTaskID = response.json()['id']\r\n",
    "print(\"New task ID:\", newTaskID)"
   ],
   "outputs": [
    {
     "output_type": "stream",
     "name": "stdout",
     "text": [
      "201 Created\n",
      "New task ID: f03a72ea-f53b-4267-aac7-3938203cfe5f\n"
     ]
    }
   ],
   "metadata": {}
  },
  {
   "cell_type": "markdown",
   "source": [
    "\r\n",
    "---\r\n",
    "\r\n",
    "## Get Task Details\r\n",
    "\r\n",
    "Use GET request to read details of task just created\r\n",
    "\r\n",
    "* Endpoint: `https://<tenant url>/rest/tkm/v1/tasks/{taskGuid}`\r\n",
    "\r\n",
    "* Type: Get\r\n",
    "\r\n",
    "Expected response: `200 OK`\r\n"
   ],
   "metadata": {}
  },
  {
   "cell_type": "code",
   "execution_count": 46,
   "source": [
    "taskURL = base_url + '/api/calm-tasks/v1/tasks/' + newTaskID\r\n",
    "\r\n",
    "response = requests.get(taskURL, headers=hed)\r\n",
    "\r\n",
    "print(response.status_code, response.reason)"
   ],
   "outputs": [
    {
     "output_type": "stream",
     "name": "stdout",
     "text": [
      "200 OK\n"
     ]
    }
   ],
   "metadata": {}
  },
  {
   "cell_type": "markdown",
   "source": [
    "### Save and print response JSON"
   ],
   "metadata": {}
  },
  {
   "cell_type": "code",
   "execution_count": 47,
   "source": [
    "taskToModify = response.json()\r\n",
    "taskToModify"
   ],
   "outputs": [
    {
     "output_type": "execute_result",
     "data": {
      "text/plain": [
       "{'id': 'f03a72ea-f53b-4267-aac7-3938203cfe5f',\n",
       " 'projectId': '17a825f9-b4b5-4685-8396-59d5c80dc15c',\n",
       " 'title': 'Notebook API test task 2021-07-29T16:16:57.814860',\n",
       " 'type': 'CALMTASK',\n",
       " 'status': 'CIPTKOPEN',\n",
       " 'externalId': None,\n",
       " 'dueDate': '2021-07-25',\n",
       " 'priorityId': 30,\n",
       " 'assigneeId': 'tom.petty@sap-test.de',\n",
       " 'assigneeName': 'tom.petty@sap-test.de',\n",
       " 'timeboxName': 'Prepare',\n",
       " 'timeboxStartDate': '2021-07-19',\n",
       " 'timeboxEndDate': '2021-07-25',\n",
       " 'description': 'test description. hello world'}"
      ]
     },
     "metadata": {},
     "execution_count": 47
    }
   ],
   "metadata": {}
  },
  {
   "cell_type": "markdown",
   "source": [
    "\r\n",
    "---\r\n",
    "\r\n",
    "## Modify Task\r\n",
    "\r\n",
    "Use PATCH method to update task attributes\r\n",
    "\r\n",
    "Expected response: `200 OK`"
   ],
   "metadata": {}
  },
  {
   "cell_type": "code",
   "execution_count": 48,
   "source": [
    "taskToModify['title'] = taskToModify['title'] + ' mod'\r\n",
    "taskToModify['dueDate'] = '2022-04-09'\r\n",
    "taskToModify['status'] = 'CIPTKINP'\r\n",
    "taskToModify['description'] = 'This is a new <b>Descripion</b>. It replaces the old description'"
   ],
   "outputs": [],
   "metadata": {}
  },
  {
   "cell_type": "markdown",
   "source": [
    "### Update 2021-07-28  Set Assignee\r\n",
    "\r\n",
    "Simply set the `assigneeId` attribute to assign the task to a user.\r\n",
    "\r\n",
    "Change 'user@example.com' to a user in your tenant for this to function.\r\n"
   ],
   "metadata": {}
  },
  {
   "cell_type": "code",
   "execution_count": 49,
   "source": [
    "taskToModify['assigneeId'] = 'user@example.com'"
   ],
   "outputs": [],
   "metadata": {}
  },
  {
   "cell_type": "code",
   "execution_count": 50,
   "source": [
    "taskURL = base_url + '/api/calm-tasks/v1/tasks/' + newTaskID\r\n",
    "\r\n",
    "response = requests.patch(taskURL, headers=hed, json=taskToModify)\r\n",
    "\r\n",
    "print(response.status_code, response.reason)"
   ],
   "outputs": [
    {
     "output_type": "stream",
     "name": "stdout",
     "text": [
      "200 OK\n"
     ]
    }
   ],
   "metadata": {}
  },
  {
   "cell_type": "code",
   "execution_count": 51,
   "source": [
    "response.json()"
   ],
   "outputs": [
    {
     "output_type": "execute_result",
     "data": {
      "text/plain": [
       "{'id': 'f03a72ea-f53b-4267-aac7-3938203cfe5f',\n",
       " 'projectId': '17a825f9-b4b5-4685-8396-59d5c80dc15c',\n",
       " 'title': 'Notebook API test task 2021-07-29T16:16:57.814860 mod',\n",
       " 'type': 'CALMTASK',\n",
       " 'status': 'CIPTKINP',\n",
       " 'externalId': 'null',\n",
       " 'dueDate': '2022-04-09',\n",
       " 'priorityId': 30,\n",
       " 'assigneeId': 'user@example.com',\n",
       " 'assigneeName': 'user@example.com',\n",
       " 'timeboxName': 'Prepare',\n",
       " 'timeboxStartDate': '2021-07-19',\n",
       " 'timeboxEndDate': '2021-07-25',\n",
       " 'description': 'This is a new <b>Descripion</b>. It replaces the old description'}"
      ]
     },
     "metadata": {},
     "execution_count": 51
    }
   ],
   "metadata": {}
  },
  {
   "cell_type": "markdown",
   "source": [
    "\r\n",
    "---\r\n",
    "\r\n",
    "## Delete Task\r\n",
    "\r\n",
    "DELETE method\r\n",
    "\r\n",
    "Expected response: `204 No Content`\r\n"
   ],
   "metadata": {}
  },
  {
   "cell_type": "code",
   "execution_count": 52,
   "source": [
    "taskURL = base_url + '/api/calm-tasks/v1/tasks/' + newTaskID\r\n",
    "\r\n",
    "response = requests.delete(taskURL, headers=hed)\r\n",
    "\r\n",
    "print(response.status_code, response.reason)"
   ],
   "outputs": [
    {
     "output_type": "stream",
     "name": "stdout",
     "text": [
      "204 No Content\n"
     ]
    }
   ],
   "metadata": {}
  },
  {
   "cell_type": "markdown",
   "source": [
    "\r\n",
    "---\r\n",
    "\r\n",
    "## Update 2021-07-28 Gantt Chart Example\r\n",
    "\r\n",
    "See https://plotly.com/python/gantt/ on using Plotly to create Gantt charts.\r\n",
    "\r\n",
    "The following code uses new attributes introduced on 2021-07-27:\r\n",
    "\r\n",
    "* assigneeID, assigneeName - the ID and text name of the person assigned to the task\r\n",
    "* timeboxStartDate, timeboxEndDate, timeboxName - the start and end dates of the timebox (e.g. the phase) assigned to the task, and the text name of the timebox"
   ],
   "metadata": {}
  },
  {
   "cell_type": "markdown",
   "source": [
    "### Filter Task List Based on Assignee\n",
    "\n",
    "Get an extract of the task list for specific assignees."
   ],
   "metadata": {}
  },
  {
   "cell_type": "code",
   "execution_count": 53,
   "source": [
    "df_assigned_tasks = df_stTasks.loc[df_stTasks['assigneeName'].str.contains(\"@example.com\", na=False)].copy(deep=True)\r\n",
    "df_assigned_tasks"
   ],
   "outputs": [
    {
     "output_type": "execute_result",
     "data": {
      "text/plain": [
       "                                       id  \\\n",
       "100  f986af95-33d9-4c73-8c2f-b71d4109b3e4   \n",
       "103  34d651da-6827-40b2-89a2-7472c4e3c9ab   \n",
       "104  d264410a-91ee-4d71-a940-bf70f2be8413   \n",
       "106  9e997bbb-f999-4159-8fd9-e60d242482f9   \n",
       "108  9c75f79e-dc51-4ea4-a027-d29bfa599f6f   \n",
       "109  4e46043b-9b00-4551-a7af-61e7de72cbef   \n",
       "111  df1de9c0-2589-4c73-adb9-91701e717136   \n",
       "122  8edbf876-2545-468c-983d-0cf9a0f4dca7   \n",
       "149  7c5b595d-85c4-4a81-a701-ba08bf603c71   \n",
       "150  880e9613-8f12-4754-848d-11626c088f38   \n",
       "151  4d13d51c-f1bd-4d58-b455-e22125c8df3e   \n",
       "152  6f600fb3-a60b-4463-bee2-145b6e582f41   \n",
       "153  d78b2677-8ede-43ce-b352-699eed661377   \n",
       "154  f45e9297-8748-4fab-88ba-52dd3d79a27d   \n",
       "155  1d4b6e22-9696-43c3-a8ab-4d06e1bed28a   \n",
       "156  fc71d6ce-dbc0-4696-8491-6d235c9970ff   \n",
       "206  acab8a17-734d-41c1-a9d5-8f3ea15c85b1   \n",
       "247  76f7d4ca-a23f-423c-adcf-5bcfdd301eeb   \n",
       "301  82b76247-e5c9-4a71-b7b0-00d70df8d178   \n",
       "\n",
       "                                projectId  \\\n",
       "100  17a825f9-b4b5-4685-8396-59d5c80dc15c   \n",
       "103  17a825f9-b4b5-4685-8396-59d5c80dc15c   \n",
       "104  17a825f9-b4b5-4685-8396-59d5c80dc15c   \n",
       "106  17a825f9-b4b5-4685-8396-59d5c80dc15c   \n",
       "108  17a825f9-b4b5-4685-8396-59d5c80dc15c   \n",
       "109  17a825f9-b4b5-4685-8396-59d5c80dc15c   \n",
       "111  17a825f9-b4b5-4685-8396-59d5c80dc15c   \n",
       "122  17a825f9-b4b5-4685-8396-59d5c80dc15c   \n",
       "149  17a825f9-b4b5-4685-8396-59d5c80dc15c   \n",
       "150  17a825f9-b4b5-4685-8396-59d5c80dc15c   \n",
       "151  17a825f9-b4b5-4685-8396-59d5c80dc15c   \n",
       "152  17a825f9-b4b5-4685-8396-59d5c80dc15c   \n",
       "153  17a825f9-b4b5-4685-8396-59d5c80dc15c   \n",
       "154  17a825f9-b4b5-4685-8396-59d5c80dc15c   \n",
       "155  17a825f9-b4b5-4685-8396-59d5c80dc15c   \n",
       "156  17a825f9-b4b5-4685-8396-59d5c80dc15c   \n",
       "206  17a825f9-b4b5-4685-8396-59d5c80dc15c   \n",
       "247  17a825f9-b4b5-4685-8396-59d5c80dc15c   \n",
       "301  17a825f9-b4b5-4685-8396-59d5c80dc15c   \n",
       "\n",
       "                                                 title      type      status  \\\n",
       "100  Ensure Project Team Members Access to the SAP ...  CALMTMPL  CIPTKCLOSE   \n",
       "103  Create Scopes and Define Business Processes Scope  CALMTMPL  CIPTKCLOSE   \n",
       "104                      Review Overview Documentation  CALMTMPL  CIPTKCLOSE   \n",
       "106  Setup Central Business Configuration Integrati...  CALMTMPL    CIPTKINP   \n",
       "108                                Assign Team Members  CALMTMPL   CIPTKOPEN   \n",
       "109  Setup Central Business Configuration Integrati...  CALMTMPL    CIPTKINP   \n",
       "111                     Collect Details for Extensions  CALMTMPL   CIPTKOPEN   \n",
       "122  Create Scopes and Define Business Processes Scope  CALMTMPL   CIPTKOPEN   \n",
       "149                                    Confirm Backlog  CALMTMPL   CIPTKOPEN   \n",
       "150                Execute Standard Business Processes  CALMTMPL   CIPTKOPEN   \n",
       "151                      Verify Fit-to-Standard System  CALMTMPL    CIPTKINP   \n",
       "152                                Assign Team Members  CALMTMPL   CIPTKOPEN   \n",
       "153                                   Assign Landscape  CALMTMPL   CIPTKOPEN   \n",
       "154                                Assign Team Members  CALMTMPL   CIPTKOPEN   \n",
       "155  Create Scopes and Define Business Processes Scope  CALMTMPL   CIPTKOPEN   \n",
       "156                                   Assign Landscape  CALMTMPL   CIPTKOPEN   \n",
       "206                                      Setup Project  CALMTMPL    CIPTKINP   \n",
       "247  Setup Central Business Configuration Integrati...  CALMTMPL    CIPTKINP   \n",
       "301  Notebook API test task 2021-07-22T17:06:17.018721  CALMTASK   CIPTKOPEN   \n",
       "\n",
       "    externalId     dueDate  priorityId  \\\n",
       "100       None  2021-09-03          30   \n",
       "103       None  2021-09-03          30   \n",
       "104       None  2021-08-20          30   \n",
       "106       None  2021-08-20          10   \n",
       "108       None  2021-10-01          10   \n",
       "109       None  2021-10-01          10   \n",
       "111       None  2021-09-17          30   \n",
       "122       None  2021-08-14          40   \n",
       "149       None  2021-08-14          30   \n",
       "150       None  2021-07-31          30   \n",
       "151       None  2021-07-25          30   \n",
       "152       None  2021-08-06          10   \n",
       "153       None  2021-07-31          10   \n",
       "154       None  2021-08-06          10   \n",
       "155       None  2021-07-31          10   \n",
       "156       None  2021-07-25          10   \n",
       "206       None  2021-07-23          20   \n",
       "247       None  2021-07-31          20   \n",
       "301       null  2021-08-07          30   \n",
       "\n",
       "                                         assigneeId  \\\n",
       "100                                user@example.com   \n",
       "103                                user@example.com   \n",
       "104                                user@example.com   \n",
       "106  tom.petty.tue29sep2020080002gmt446@example.com   \n",
       "108   tom.petty.tue29sep2020090935gmt36@example.com   \n",
       "109  tom.petty.tue29sep2020074254gmt127@example.com   \n",
       "111                                user@example.com   \n",
       "122  tom.petty.wed19aug2020051117gmt986@example.com   \n",
       "149                                user@example.com   \n",
       "150                                user@example.com   \n",
       "151                                user@example.com   \n",
       "152                                user@example.com   \n",
       "153  tom.petty.tue29sep2020092338gmt288@example.com   \n",
       "154  tom.petty.wed19aug2020051117gmt986@example.com   \n",
       "155  tom.petty.wed19aug2020051117gmt986@example.com   \n",
       "156  tom.petty.wed19aug2020051117gmt986@example.com   \n",
       "206     tom.petty.mon31aug2020054035gmt@example.com   \n",
       "247  tom.petty.tue29sep2020074254gmt126@example.com   \n",
       "301  tom.petty.wed19aug2020051117gmt986@example.com   \n",
       "\n",
       "                                       assigneeName  \n",
       "100                                user@example.com  \n",
       "103                                user@example.com  \n",
       "104                                user@example.com  \n",
       "106  tom.petty.tue29sep2020080002gmt446@example.com  \n",
       "108   tom.petty.tue29sep2020090935gmt36@example.com  \n",
       "109  tom.petty.tue29sep2020074254gmt127@example.com  \n",
       "111                                user@example.com  \n",
       "122  tom.petty.wed19aug2020051117gmt986@example.com  \n",
       "149                                user@example.com  \n",
       "150                                user@example.com  \n",
       "151                                user@example.com  \n",
       "152                                user@example.com  \n",
       "153  tom.petty.tue29sep2020092338gmt288@example.com  \n",
       "154  tom.petty.wed19aug2020051117gmt986@example.com  \n",
       "155  tom.petty.wed19aug2020051117gmt986@example.com  \n",
       "156  tom.petty.wed19aug2020051117gmt986@example.com  \n",
       "206     tom.petty.mon31aug2020054035gmt@example.com  \n",
       "247  tom.petty.tue29sep2020074254gmt126@example.com  \n",
       "301  tom.petty.wed19aug2020051117gmt986@example.com  "
      ],
      "text/html": [
       "<div>\n",
       "<style scoped>\n",
       "    .dataframe tbody tr th:only-of-type {\n",
       "        vertical-align: middle;\n",
       "    }\n",
       "\n",
       "    .dataframe tbody tr th {\n",
       "        vertical-align: top;\n",
       "    }\n",
       "\n",
       "    .dataframe thead th {\n",
       "        text-align: right;\n",
       "    }\n",
       "</style>\n",
       "<table border=\"1\" class=\"dataframe\">\n",
       "  <thead>\n",
       "    <tr style=\"text-align: right;\">\n",
       "      <th></th>\n",
       "      <th>id</th>\n",
       "      <th>projectId</th>\n",
       "      <th>title</th>\n",
       "      <th>type</th>\n",
       "      <th>status</th>\n",
       "      <th>externalId</th>\n",
       "      <th>dueDate</th>\n",
       "      <th>priorityId</th>\n",
       "      <th>assigneeId</th>\n",
       "      <th>assigneeName</th>\n",
       "    </tr>\n",
       "  </thead>\n",
       "  <tbody>\n",
       "    <tr>\n",
       "      <th>100</th>\n",
       "      <td>f986af95-33d9-4c73-8c2f-b71d4109b3e4</td>\n",
       "      <td>17a825f9-b4b5-4685-8396-59d5c80dc15c</td>\n",
       "      <td>Ensure Project Team Members Access to the SAP ...</td>\n",
       "      <td>CALMTMPL</td>\n",
       "      <td>CIPTKCLOSE</td>\n",
       "      <td>None</td>\n",
       "      <td>2021-09-03</td>\n",
       "      <td>30</td>\n",
       "      <td>user@example.com</td>\n",
       "      <td>user@example.com</td>\n",
       "    </tr>\n",
       "    <tr>\n",
       "      <th>103</th>\n",
       "      <td>34d651da-6827-40b2-89a2-7472c4e3c9ab</td>\n",
       "      <td>17a825f9-b4b5-4685-8396-59d5c80dc15c</td>\n",
       "      <td>Create Scopes and Define Business Processes Scope</td>\n",
       "      <td>CALMTMPL</td>\n",
       "      <td>CIPTKCLOSE</td>\n",
       "      <td>None</td>\n",
       "      <td>2021-09-03</td>\n",
       "      <td>30</td>\n",
       "      <td>user@example.com</td>\n",
       "      <td>user@example.com</td>\n",
       "    </tr>\n",
       "    <tr>\n",
       "      <th>104</th>\n",
       "      <td>d264410a-91ee-4d71-a940-bf70f2be8413</td>\n",
       "      <td>17a825f9-b4b5-4685-8396-59d5c80dc15c</td>\n",
       "      <td>Review Overview Documentation</td>\n",
       "      <td>CALMTMPL</td>\n",
       "      <td>CIPTKCLOSE</td>\n",
       "      <td>None</td>\n",
       "      <td>2021-08-20</td>\n",
       "      <td>30</td>\n",
       "      <td>user@example.com</td>\n",
       "      <td>user@example.com</td>\n",
       "    </tr>\n",
       "    <tr>\n",
       "      <th>106</th>\n",
       "      <td>9e997bbb-f999-4159-8fd9-e60d242482f9</td>\n",
       "      <td>17a825f9-b4b5-4685-8396-59d5c80dc15c</td>\n",
       "      <td>Setup Central Business Configuration Integrati...</td>\n",
       "      <td>CALMTMPL</td>\n",
       "      <td>CIPTKINP</td>\n",
       "      <td>None</td>\n",
       "      <td>2021-08-20</td>\n",
       "      <td>10</td>\n",
       "      <td>tom.petty.tue29sep2020080002gmt446@example.com</td>\n",
       "      <td>tom.petty.tue29sep2020080002gmt446@example.com</td>\n",
       "    </tr>\n",
       "    <tr>\n",
       "      <th>108</th>\n",
       "      <td>9c75f79e-dc51-4ea4-a027-d29bfa599f6f</td>\n",
       "      <td>17a825f9-b4b5-4685-8396-59d5c80dc15c</td>\n",
       "      <td>Assign Team Members</td>\n",
       "      <td>CALMTMPL</td>\n",
       "      <td>CIPTKOPEN</td>\n",
       "      <td>None</td>\n",
       "      <td>2021-10-01</td>\n",
       "      <td>10</td>\n",
       "      <td>tom.petty.tue29sep2020090935gmt36@example.com</td>\n",
       "      <td>tom.petty.tue29sep2020090935gmt36@example.com</td>\n",
       "    </tr>\n",
       "    <tr>\n",
       "      <th>109</th>\n",
       "      <td>4e46043b-9b00-4551-a7af-61e7de72cbef</td>\n",
       "      <td>17a825f9-b4b5-4685-8396-59d5c80dc15c</td>\n",
       "      <td>Setup Central Business Configuration Integrati...</td>\n",
       "      <td>CALMTMPL</td>\n",
       "      <td>CIPTKINP</td>\n",
       "      <td>None</td>\n",
       "      <td>2021-10-01</td>\n",
       "      <td>10</td>\n",
       "      <td>tom.petty.tue29sep2020074254gmt127@example.com</td>\n",
       "      <td>tom.petty.tue29sep2020074254gmt127@example.com</td>\n",
       "    </tr>\n",
       "    <tr>\n",
       "      <th>111</th>\n",
       "      <td>df1de9c0-2589-4c73-adb9-91701e717136</td>\n",
       "      <td>17a825f9-b4b5-4685-8396-59d5c80dc15c</td>\n",
       "      <td>Collect Details for Extensions</td>\n",
       "      <td>CALMTMPL</td>\n",
       "      <td>CIPTKOPEN</td>\n",
       "      <td>None</td>\n",
       "      <td>2021-09-17</td>\n",
       "      <td>30</td>\n",
       "      <td>user@example.com</td>\n",
       "      <td>user@example.com</td>\n",
       "    </tr>\n",
       "    <tr>\n",
       "      <th>122</th>\n",
       "      <td>8edbf876-2545-468c-983d-0cf9a0f4dca7</td>\n",
       "      <td>17a825f9-b4b5-4685-8396-59d5c80dc15c</td>\n",
       "      <td>Create Scopes and Define Business Processes Scope</td>\n",
       "      <td>CALMTMPL</td>\n",
       "      <td>CIPTKOPEN</td>\n",
       "      <td>None</td>\n",
       "      <td>2021-08-14</td>\n",
       "      <td>40</td>\n",
       "      <td>tom.petty.wed19aug2020051117gmt986@example.com</td>\n",
       "      <td>tom.petty.wed19aug2020051117gmt986@example.com</td>\n",
       "    </tr>\n",
       "    <tr>\n",
       "      <th>149</th>\n",
       "      <td>7c5b595d-85c4-4a81-a701-ba08bf603c71</td>\n",
       "      <td>17a825f9-b4b5-4685-8396-59d5c80dc15c</td>\n",
       "      <td>Confirm Backlog</td>\n",
       "      <td>CALMTMPL</td>\n",
       "      <td>CIPTKOPEN</td>\n",
       "      <td>None</td>\n",
       "      <td>2021-08-14</td>\n",
       "      <td>30</td>\n",
       "      <td>user@example.com</td>\n",
       "      <td>user@example.com</td>\n",
       "    </tr>\n",
       "    <tr>\n",
       "      <th>150</th>\n",
       "      <td>880e9613-8f12-4754-848d-11626c088f38</td>\n",
       "      <td>17a825f9-b4b5-4685-8396-59d5c80dc15c</td>\n",
       "      <td>Execute Standard Business Processes</td>\n",
       "      <td>CALMTMPL</td>\n",
       "      <td>CIPTKOPEN</td>\n",
       "      <td>None</td>\n",
       "      <td>2021-07-31</td>\n",
       "      <td>30</td>\n",
       "      <td>user@example.com</td>\n",
       "      <td>user@example.com</td>\n",
       "    </tr>\n",
       "    <tr>\n",
       "      <th>151</th>\n",
       "      <td>4d13d51c-f1bd-4d58-b455-e22125c8df3e</td>\n",
       "      <td>17a825f9-b4b5-4685-8396-59d5c80dc15c</td>\n",
       "      <td>Verify Fit-to-Standard System</td>\n",
       "      <td>CALMTMPL</td>\n",
       "      <td>CIPTKINP</td>\n",
       "      <td>None</td>\n",
       "      <td>2021-07-25</td>\n",
       "      <td>30</td>\n",
       "      <td>user@example.com</td>\n",
       "      <td>user@example.com</td>\n",
       "    </tr>\n",
       "    <tr>\n",
       "      <th>152</th>\n",
       "      <td>6f600fb3-a60b-4463-bee2-145b6e582f41</td>\n",
       "      <td>17a825f9-b4b5-4685-8396-59d5c80dc15c</td>\n",
       "      <td>Assign Team Members</td>\n",
       "      <td>CALMTMPL</td>\n",
       "      <td>CIPTKOPEN</td>\n",
       "      <td>None</td>\n",
       "      <td>2021-08-06</td>\n",
       "      <td>10</td>\n",
       "      <td>user@example.com</td>\n",
       "      <td>user@example.com</td>\n",
       "    </tr>\n",
       "    <tr>\n",
       "      <th>153</th>\n",
       "      <td>d78b2677-8ede-43ce-b352-699eed661377</td>\n",
       "      <td>17a825f9-b4b5-4685-8396-59d5c80dc15c</td>\n",
       "      <td>Assign Landscape</td>\n",
       "      <td>CALMTMPL</td>\n",
       "      <td>CIPTKOPEN</td>\n",
       "      <td>None</td>\n",
       "      <td>2021-07-31</td>\n",
       "      <td>10</td>\n",
       "      <td>tom.petty.tue29sep2020092338gmt288@example.com</td>\n",
       "      <td>tom.petty.tue29sep2020092338gmt288@example.com</td>\n",
       "    </tr>\n",
       "    <tr>\n",
       "      <th>154</th>\n",
       "      <td>f45e9297-8748-4fab-88ba-52dd3d79a27d</td>\n",
       "      <td>17a825f9-b4b5-4685-8396-59d5c80dc15c</td>\n",
       "      <td>Assign Team Members</td>\n",
       "      <td>CALMTMPL</td>\n",
       "      <td>CIPTKOPEN</td>\n",
       "      <td>None</td>\n",
       "      <td>2021-08-06</td>\n",
       "      <td>10</td>\n",
       "      <td>tom.petty.wed19aug2020051117gmt986@example.com</td>\n",
       "      <td>tom.petty.wed19aug2020051117gmt986@example.com</td>\n",
       "    </tr>\n",
       "    <tr>\n",
       "      <th>155</th>\n",
       "      <td>1d4b6e22-9696-43c3-a8ab-4d06e1bed28a</td>\n",
       "      <td>17a825f9-b4b5-4685-8396-59d5c80dc15c</td>\n",
       "      <td>Create Scopes and Define Business Processes Scope</td>\n",
       "      <td>CALMTMPL</td>\n",
       "      <td>CIPTKOPEN</td>\n",
       "      <td>None</td>\n",
       "      <td>2021-07-31</td>\n",
       "      <td>10</td>\n",
       "      <td>tom.petty.wed19aug2020051117gmt986@example.com</td>\n",
       "      <td>tom.petty.wed19aug2020051117gmt986@example.com</td>\n",
       "    </tr>\n",
       "    <tr>\n",
       "      <th>156</th>\n",
       "      <td>fc71d6ce-dbc0-4696-8491-6d235c9970ff</td>\n",
       "      <td>17a825f9-b4b5-4685-8396-59d5c80dc15c</td>\n",
       "      <td>Assign Landscape</td>\n",
       "      <td>CALMTMPL</td>\n",
       "      <td>CIPTKOPEN</td>\n",
       "      <td>None</td>\n",
       "      <td>2021-07-25</td>\n",
       "      <td>10</td>\n",
       "      <td>tom.petty.wed19aug2020051117gmt986@example.com</td>\n",
       "      <td>tom.petty.wed19aug2020051117gmt986@example.com</td>\n",
       "    </tr>\n",
       "    <tr>\n",
       "      <th>206</th>\n",
       "      <td>acab8a17-734d-41c1-a9d5-8f3ea15c85b1</td>\n",
       "      <td>17a825f9-b4b5-4685-8396-59d5c80dc15c</td>\n",
       "      <td>Setup Project</td>\n",
       "      <td>CALMTMPL</td>\n",
       "      <td>CIPTKINP</td>\n",
       "      <td>None</td>\n",
       "      <td>2021-07-23</td>\n",
       "      <td>20</td>\n",
       "      <td>tom.petty.mon31aug2020054035gmt@example.com</td>\n",
       "      <td>tom.petty.mon31aug2020054035gmt@example.com</td>\n",
       "    </tr>\n",
       "    <tr>\n",
       "      <th>247</th>\n",
       "      <td>76f7d4ca-a23f-423c-adcf-5bcfdd301eeb</td>\n",
       "      <td>17a825f9-b4b5-4685-8396-59d5c80dc15c</td>\n",
       "      <td>Setup Central Business Configuration Integrati...</td>\n",
       "      <td>CALMTMPL</td>\n",
       "      <td>CIPTKINP</td>\n",
       "      <td>None</td>\n",
       "      <td>2021-07-31</td>\n",
       "      <td>20</td>\n",
       "      <td>tom.petty.tue29sep2020074254gmt126@example.com</td>\n",
       "      <td>tom.petty.tue29sep2020074254gmt126@example.com</td>\n",
       "    </tr>\n",
       "    <tr>\n",
       "      <th>301</th>\n",
       "      <td>82b76247-e5c9-4a71-b7b0-00d70df8d178</td>\n",
       "      <td>17a825f9-b4b5-4685-8396-59d5c80dc15c</td>\n",
       "      <td>Notebook API test task 2021-07-22T17:06:17.018721</td>\n",
       "      <td>CALMTASK</td>\n",
       "      <td>CIPTKOPEN</td>\n",
       "      <td>null</td>\n",
       "      <td>2021-08-07</td>\n",
       "      <td>30</td>\n",
       "      <td>tom.petty.wed19aug2020051117gmt986@example.com</td>\n",
       "      <td>tom.petty.wed19aug2020051117gmt986@example.com</td>\n",
       "    </tr>\n",
       "  </tbody>\n",
       "</table>\n",
       "</div>"
      ]
     },
     "metadata": {},
     "execution_count": 53
    }
   ],
   "metadata": {}
  },
  {
   "cell_type": "markdown",
   "source": [
    "### Get Timebox Information\n",
    "\n",
    "Call task details API for each task we want to examine."
   ],
   "metadata": {}
  },
  {
   "cell_type": "code",
   "execution_count": 54,
   "source": [
    "for index, row in df_assigned_tasks.iterrows():\r\n",
    "    taskURL = base_url + '/api/calm-tasks/v1/tasks/' + row[\"id\"]\r\n",
    "\r\n",
    "    response = requests.get(taskURL, headers=hed)\r\n",
    "\r\n",
    "    taskDetails = response.json()\r\n",
    "\r\n",
    "    df_assigned_tasks.loc[index, 'timeboxStartDate'] = taskDetails[\"timeboxStartDate\"]\r\n",
    "    df_assigned_tasks.loc[index, 'timeboxEndDate'] = taskDetails[\"timeboxEndDate\"]\r\n",
    "    df_assigned_tasks.loc[index, 'timeboxName'] = taskDetails[\"timeboxName\"]\r\n",
    "\r\n",
    "df_assigned_tasks"
   ],
   "outputs": [
    {
     "output_type": "execute_result",
     "data": {
      "text/plain": [
       "                                       id  \\\n",
       "100  f986af95-33d9-4c73-8c2f-b71d4109b3e4   \n",
       "103  34d651da-6827-40b2-89a2-7472c4e3c9ab   \n",
       "104  d264410a-91ee-4d71-a940-bf70f2be8413   \n",
       "106  9e997bbb-f999-4159-8fd9-e60d242482f9   \n",
       "108  9c75f79e-dc51-4ea4-a027-d29bfa599f6f   \n",
       "109  4e46043b-9b00-4551-a7af-61e7de72cbef   \n",
       "111  df1de9c0-2589-4c73-adb9-91701e717136   \n",
       "122  8edbf876-2545-468c-983d-0cf9a0f4dca7   \n",
       "149  7c5b595d-85c4-4a81-a701-ba08bf603c71   \n",
       "150  880e9613-8f12-4754-848d-11626c088f38   \n",
       "151  4d13d51c-f1bd-4d58-b455-e22125c8df3e   \n",
       "152  6f600fb3-a60b-4463-bee2-145b6e582f41   \n",
       "153  d78b2677-8ede-43ce-b352-699eed661377   \n",
       "154  f45e9297-8748-4fab-88ba-52dd3d79a27d   \n",
       "155  1d4b6e22-9696-43c3-a8ab-4d06e1bed28a   \n",
       "156  fc71d6ce-dbc0-4696-8491-6d235c9970ff   \n",
       "206  acab8a17-734d-41c1-a9d5-8f3ea15c85b1   \n",
       "247  76f7d4ca-a23f-423c-adcf-5bcfdd301eeb   \n",
       "301  82b76247-e5c9-4a71-b7b0-00d70df8d178   \n",
       "\n",
       "                                projectId  \\\n",
       "100  17a825f9-b4b5-4685-8396-59d5c80dc15c   \n",
       "103  17a825f9-b4b5-4685-8396-59d5c80dc15c   \n",
       "104  17a825f9-b4b5-4685-8396-59d5c80dc15c   \n",
       "106  17a825f9-b4b5-4685-8396-59d5c80dc15c   \n",
       "108  17a825f9-b4b5-4685-8396-59d5c80dc15c   \n",
       "109  17a825f9-b4b5-4685-8396-59d5c80dc15c   \n",
       "111  17a825f9-b4b5-4685-8396-59d5c80dc15c   \n",
       "122  17a825f9-b4b5-4685-8396-59d5c80dc15c   \n",
       "149  17a825f9-b4b5-4685-8396-59d5c80dc15c   \n",
       "150  17a825f9-b4b5-4685-8396-59d5c80dc15c   \n",
       "151  17a825f9-b4b5-4685-8396-59d5c80dc15c   \n",
       "152  17a825f9-b4b5-4685-8396-59d5c80dc15c   \n",
       "153  17a825f9-b4b5-4685-8396-59d5c80dc15c   \n",
       "154  17a825f9-b4b5-4685-8396-59d5c80dc15c   \n",
       "155  17a825f9-b4b5-4685-8396-59d5c80dc15c   \n",
       "156  17a825f9-b4b5-4685-8396-59d5c80dc15c   \n",
       "206  17a825f9-b4b5-4685-8396-59d5c80dc15c   \n",
       "247  17a825f9-b4b5-4685-8396-59d5c80dc15c   \n",
       "301  17a825f9-b4b5-4685-8396-59d5c80dc15c   \n",
       "\n",
       "                                                 title      type      status  \\\n",
       "100  Ensure Project Team Members Access to the SAP ...  CALMTMPL  CIPTKCLOSE   \n",
       "103  Create Scopes and Define Business Processes Scope  CALMTMPL  CIPTKCLOSE   \n",
       "104                      Review Overview Documentation  CALMTMPL  CIPTKCLOSE   \n",
       "106  Setup Central Business Configuration Integrati...  CALMTMPL    CIPTKINP   \n",
       "108                                Assign Team Members  CALMTMPL   CIPTKOPEN   \n",
       "109  Setup Central Business Configuration Integrati...  CALMTMPL    CIPTKINP   \n",
       "111                     Collect Details for Extensions  CALMTMPL   CIPTKOPEN   \n",
       "122  Create Scopes and Define Business Processes Scope  CALMTMPL   CIPTKOPEN   \n",
       "149                                    Confirm Backlog  CALMTMPL   CIPTKOPEN   \n",
       "150                Execute Standard Business Processes  CALMTMPL   CIPTKOPEN   \n",
       "151                      Verify Fit-to-Standard System  CALMTMPL    CIPTKINP   \n",
       "152                                Assign Team Members  CALMTMPL   CIPTKOPEN   \n",
       "153                                   Assign Landscape  CALMTMPL   CIPTKOPEN   \n",
       "154                                Assign Team Members  CALMTMPL   CIPTKOPEN   \n",
       "155  Create Scopes and Define Business Processes Scope  CALMTMPL   CIPTKOPEN   \n",
       "156                                   Assign Landscape  CALMTMPL   CIPTKOPEN   \n",
       "206                                      Setup Project  CALMTMPL    CIPTKINP   \n",
       "247  Setup Central Business Configuration Integrati...  CALMTMPL    CIPTKINP   \n",
       "301  Notebook API test task 2021-07-22T17:06:17.018721  CALMTASK   CIPTKOPEN   \n",
       "\n",
       "    externalId     dueDate  priorityId  \\\n",
       "100       None  2021-09-03          30   \n",
       "103       None  2021-09-03          30   \n",
       "104       None  2021-08-20          30   \n",
       "106       None  2021-08-20          10   \n",
       "108       None  2021-10-01          10   \n",
       "109       None  2021-10-01          10   \n",
       "111       None  2021-09-17          30   \n",
       "122       None  2021-08-14          40   \n",
       "149       None  2021-08-14          30   \n",
       "150       None  2021-07-31          30   \n",
       "151       None  2021-07-25          30   \n",
       "152       None  2021-08-06          10   \n",
       "153       None  2021-07-31          10   \n",
       "154       None  2021-08-06          10   \n",
       "155       None  2021-07-31          10   \n",
       "156       None  2021-07-25          10   \n",
       "206       None  2021-07-23          20   \n",
       "247       None  2021-07-31          20   \n",
       "301       null  2021-08-07          30   \n",
       "\n",
       "                                         assigneeId  \\\n",
       "100                                user@example.com   \n",
       "103                                user@example.com   \n",
       "104                                user@example.com   \n",
       "106  tom.petty.tue29sep2020080002gmt446@example.com   \n",
       "108   tom.petty.tue29sep2020090935gmt36@example.com   \n",
       "109  tom.petty.tue29sep2020074254gmt127@example.com   \n",
       "111                                user@example.com   \n",
       "122  tom.petty.wed19aug2020051117gmt986@example.com   \n",
       "149                                user@example.com   \n",
       "150                                user@example.com   \n",
       "151                                user@example.com   \n",
       "152                                user@example.com   \n",
       "153  tom.petty.tue29sep2020092338gmt288@example.com   \n",
       "154  tom.petty.wed19aug2020051117gmt986@example.com   \n",
       "155  tom.petty.wed19aug2020051117gmt986@example.com   \n",
       "156  tom.petty.wed19aug2020051117gmt986@example.com   \n",
       "206     tom.petty.mon31aug2020054035gmt@example.com   \n",
       "247  tom.petty.tue29sep2020074254gmt126@example.com   \n",
       "301  tom.petty.wed19aug2020051117gmt986@example.com   \n",
       "\n",
       "                                       assigneeName timeboxStartDate  \\\n",
       "100                                user@example.com       2021-08-23   \n",
       "103                                user@example.com       2021-08-23   \n",
       "104                                user@example.com       2021-08-09   \n",
       "106  tom.petty.tue29sep2020080002gmt446@example.com       2021-08-09   \n",
       "108   tom.petty.tue29sep2020090935gmt36@example.com             None   \n",
       "109  tom.petty.tue29sep2020074254gmt127@example.com             None   \n",
       "111                                user@example.com       2021-08-15   \n",
       "122  tom.petty.wed19aug2020051117gmt986@example.com       2021-08-08   \n",
       "149                                user@example.com       2021-08-08   \n",
       "150                                user@example.com       2021-07-26   \n",
       "151                                user@example.com       2021-07-19   \n",
       "152                                user@example.com       2021-07-26   \n",
       "153  tom.petty.tue29sep2020092338gmt288@example.com       2021-07-26   \n",
       "154  tom.petty.wed19aug2020051117gmt986@example.com       2021-07-26   \n",
       "155  tom.petty.wed19aug2020051117gmt986@example.com       2021-07-26   \n",
       "156  tom.petty.wed19aug2020051117gmt986@example.com       2021-07-19   \n",
       "206     tom.petty.mon31aug2020054035gmt@example.com       2021-07-19   \n",
       "247  tom.petty.tue29sep2020074254gmt126@example.com       2021-07-26   \n",
       "301  tom.petty.wed19aug2020051117gmt986@example.com       2021-08-01   \n",
       "\n",
       "    timeboxEndDate timeboxName  \n",
       "100     2021-09-03   Sprint 17  \n",
       "103     2021-09-03   Sprint 17  \n",
       "104     2021-08-20   Sprint 16  \n",
       "106     2021-08-20   Sprint 16  \n",
       "108     2021-10-01      Q3 End  \n",
       "109     2021-10-01      Q3 End  \n",
       "111     2021-09-17         Run  \n",
       "122     2021-08-14      Deploy  \n",
       "149     2021-08-14      Deploy  \n",
       "150     2021-07-31     Explore  \n",
       "151     2021-07-25     Prepare  \n",
       "152     2021-08-06   Sprint 15  \n",
       "153     2021-07-31     Explore  \n",
       "154     2021-08-06   Sprint 15  \n",
       "155     2021-07-31     Explore  \n",
       "156     2021-07-25     Prepare  \n",
       "206     2021-07-25     Prepare  \n",
       "247     2021-07-31     Explore  \n",
       "301     2021-08-07     Realize  "
      ],
      "text/html": [
       "<div>\n",
       "<style scoped>\n",
       "    .dataframe tbody tr th:only-of-type {\n",
       "        vertical-align: middle;\n",
       "    }\n",
       "\n",
       "    .dataframe tbody tr th {\n",
       "        vertical-align: top;\n",
       "    }\n",
       "\n",
       "    .dataframe thead th {\n",
       "        text-align: right;\n",
       "    }\n",
       "</style>\n",
       "<table border=\"1\" class=\"dataframe\">\n",
       "  <thead>\n",
       "    <tr style=\"text-align: right;\">\n",
       "      <th></th>\n",
       "      <th>id</th>\n",
       "      <th>projectId</th>\n",
       "      <th>title</th>\n",
       "      <th>type</th>\n",
       "      <th>status</th>\n",
       "      <th>externalId</th>\n",
       "      <th>dueDate</th>\n",
       "      <th>priorityId</th>\n",
       "      <th>assigneeId</th>\n",
       "      <th>assigneeName</th>\n",
       "      <th>timeboxStartDate</th>\n",
       "      <th>timeboxEndDate</th>\n",
       "      <th>timeboxName</th>\n",
       "    </tr>\n",
       "  </thead>\n",
       "  <tbody>\n",
       "    <tr>\n",
       "      <th>100</th>\n",
       "      <td>f986af95-33d9-4c73-8c2f-b71d4109b3e4</td>\n",
       "      <td>17a825f9-b4b5-4685-8396-59d5c80dc15c</td>\n",
       "      <td>Ensure Project Team Members Access to the SAP ...</td>\n",
       "      <td>CALMTMPL</td>\n",
       "      <td>CIPTKCLOSE</td>\n",
       "      <td>None</td>\n",
       "      <td>2021-09-03</td>\n",
       "      <td>30</td>\n",
       "      <td>user@example.com</td>\n",
       "      <td>user@example.com</td>\n",
       "      <td>2021-08-23</td>\n",
       "      <td>2021-09-03</td>\n",
       "      <td>Sprint 17</td>\n",
       "    </tr>\n",
       "    <tr>\n",
       "      <th>103</th>\n",
       "      <td>34d651da-6827-40b2-89a2-7472c4e3c9ab</td>\n",
       "      <td>17a825f9-b4b5-4685-8396-59d5c80dc15c</td>\n",
       "      <td>Create Scopes and Define Business Processes Scope</td>\n",
       "      <td>CALMTMPL</td>\n",
       "      <td>CIPTKCLOSE</td>\n",
       "      <td>None</td>\n",
       "      <td>2021-09-03</td>\n",
       "      <td>30</td>\n",
       "      <td>user@example.com</td>\n",
       "      <td>user@example.com</td>\n",
       "      <td>2021-08-23</td>\n",
       "      <td>2021-09-03</td>\n",
       "      <td>Sprint 17</td>\n",
       "    </tr>\n",
       "    <tr>\n",
       "      <th>104</th>\n",
       "      <td>d264410a-91ee-4d71-a940-bf70f2be8413</td>\n",
       "      <td>17a825f9-b4b5-4685-8396-59d5c80dc15c</td>\n",
       "      <td>Review Overview Documentation</td>\n",
       "      <td>CALMTMPL</td>\n",
       "      <td>CIPTKCLOSE</td>\n",
       "      <td>None</td>\n",
       "      <td>2021-08-20</td>\n",
       "      <td>30</td>\n",
       "      <td>user@example.com</td>\n",
       "      <td>user@example.com</td>\n",
       "      <td>2021-08-09</td>\n",
       "      <td>2021-08-20</td>\n",
       "      <td>Sprint 16</td>\n",
       "    </tr>\n",
       "    <tr>\n",
       "      <th>106</th>\n",
       "      <td>9e997bbb-f999-4159-8fd9-e60d242482f9</td>\n",
       "      <td>17a825f9-b4b5-4685-8396-59d5c80dc15c</td>\n",
       "      <td>Setup Central Business Configuration Integrati...</td>\n",
       "      <td>CALMTMPL</td>\n",
       "      <td>CIPTKINP</td>\n",
       "      <td>None</td>\n",
       "      <td>2021-08-20</td>\n",
       "      <td>10</td>\n",
       "      <td>tom.petty.tue29sep2020080002gmt446@example.com</td>\n",
       "      <td>tom.petty.tue29sep2020080002gmt446@example.com</td>\n",
       "      <td>2021-08-09</td>\n",
       "      <td>2021-08-20</td>\n",
       "      <td>Sprint 16</td>\n",
       "    </tr>\n",
       "    <tr>\n",
       "      <th>108</th>\n",
       "      <td>9c75f79e-dc51-4ea4-a027-d29bfa599f6f</td>\n",
       "      <td>17a825f9-b4b5-4685-8396-59d5c80dc15c</td>\n",
       "      <td>Assign Team Members</td>\n",
       "      <td>CALMTMPL</td>\n",
       "      <td>CIPTKOPEN</td>\n",
       "      <td>None</td>\n",
       "      <td>2021-10-01</td>\n",
       "      <td>10</td>\n",
       "      <td>tom.petty.tue29sep2020090935gmt36@example.com</td>\n",
       "      <td>tom.petty.tue29sep2020090935gmt36@example.com</td>\n",
       "      <td>None</td>\n",
       "      <td>2021-10-01</td>\n",
       "      <td>Q3 End</td>\n",
       "    </tr>\n",
       "    <tr>\n",
       "      <th>109</th>\n",
       "      <td>4e46043b-9b00-4551-a7af-61e7de72cbef</td>\n",
       "      <td>17a825f9-b4b5-4685-8396-59d5c80dc15c</td>\n",
       "      <td>Setup Central Business Configuration Integrati...</td>\n",
       "      <td>CALMTMPL</td>\n",
       "      <td>CIPTKINP</td>\n",
       "      <td>None</td>\n",
       "      <td>2021-10-01</td>\n",
       "      <td>10</td>\n",
       "      <td>tom.petty.tue29sep2020074254gmt127@example.com</td>\n",
       "      <td>tom.petty.tue29sep2020074254gmt127@example.com</td>\n",
       "      <td>None</td>\n",
       "      <td>2021-10-01</td>\n",
       "      <td>Q3 End</td>\n",
       "    </tr>\n",
       "    <tr>\n",
       "      <th>111</th>\n",
       "      <td>df1de9c0-2589-4c73-adb9-91701e717136</td>\n",
       "      <td>17a825f9-b4b5-4685-8396-59d5c80dc15c</td>\n",
       "      <td>Collect Details for Extensions</td>\n",
       "      <td>CALMTMPL</td>\n",
       "      <td>CIPTKOPEN</td>\n",
       "      <td>None</td>\n",
       "      <td>2021-09-17</td>\n",
       "      <td>30</td>\n",
       "      <td>user@example.com</td>\n",
       "      <td>user@example.com</td>\n",
       "      <td>2021-08-15</td>\n",
       "      <td>2021-09-17</td>\n",
       "      <td>Run</td>\n",
       "    </tr>\n",
       "    <tr>\n",
       "      <th>122</th>\n",
       "      <td>8edbf876-2545-468c-983d-0cf9a0f4dca7</td>\n",
       "      <td>17a825f9-b4b5-4685-8396-59d5c80dc15c</td>\n",
       "      <td>Create Scopes and Define Business Processes Scope</td>\n",
       "      <td>CALMTMPL</td>\n",
       "      <td>CIPTKOPEN</td>\n",
       "      <td>None</td>\n",
       "      <td>2021-08-14</td>\n",
       "      <td>40</td>\n",
       "      <td>tom.petty.wed19aug2020051117gmt986@example.com</td>\n",
       "      <td>tom.petty.wed19aug2020051117gmt986@example.com</td>\n",
       "      <td>2021-08-08</td>\n",
       "      <td>2021-08-14</td>\n",
       "      <td>Deploy</td>\n",
       "    </tr>\n",
       "    <tr>\n",
       "      <th>149</th>\n",
       "      <td>7c5b595d-85c4-4a81-a701-ba08bf603c71</td>\n",
       "      <td>17a825f9-b4b5-4685-8396-59d5c80dc15c</td>\n",
       "      <td>Confirm Backlog</td>\n",
       "      <td>CALMTMPL</td>\n",
       "      <td>CIPTKOPEN</td>\n",
       "      <td>None</td>\n",
       "      <td>2021-08-14</td>\n",
       "      <td>30</td>\n",
       "      <td>user@example.com</td>\n",
       "      <td>user@example.com</td>\n",
       "      <td>2021-08-08</td>\n",
       "      <td>2021-08-14</td>\n",
       "      <td>Deploy</td>\n",
       "    </tr>\n",
       "    <tr>\n",
       "      <th>150</th>\n",
       "      <td>880e9613-8f12-4754-848d-11626c088f38</td>\n",
       "      <td>17a825f9-b4b5-4685-8396-59d5c80dc15c</td>\n",
       "      <td>Execute Standard Business Processes</td>\n",
       "      <td>CALMTMPL</td>\n",
       "      <td>CIPTKOPEN</td>\n",
       "      <td>None</td>\n",
       "      <td>2021-07-31</td>\n",
       "      <td>30</td>\n",
       "      <td>user@example.com</td>\n",
       "      <td>user@example.com</td>\n",
       "      <td>2021-07-26</td>\n",
       "      <td>2021-07-31</td>\n",
       "      <td>Explore</td>\n",
       "    </tr>\n",
       "    <tr>\n",
       "      <th>151</th>\n",
       "      <td>4d13d51c-f1bd-4d58-b455-e22125c8df3e</td>\n",
       "      <td>17a825f9-b4b5-4685-8396-59d5c80dc15c</td>\n",
       "      <td>Verify Fit-to-Standard System</td>\n",
       "      <td>CALMTMPL</td>\n",
       "      <td>CIPTKINP</td>\n",
       "      <td>None</td>\n",
       "      <td>2021-07-25</td>\n",
       "      <td>30</td>\n",
       "      <td>user@example.com</td>\n",
       "      <td>user@example.com</td>\n",
       "      <td>2021-07-19</td>\n",
       "      <td>2021-07-25</td>\n",
       "      <td>Prepare</td>\n",
       "    </tr>\n",
       "    <tr>\n",
       "      <th>152</th>\n",
       "      <td>6f600fb3-a60b-4463-bee2-145b6e582f41</td>\n",
       "      <td>17a825f9-b4b5-4685-8396-59d5c80dc15c</td>\n",
       "      <td>Assign Team Members</td>\n",
       "      <td>CALMTMPL</td>\n",
       "      <td>CIPTKOPEN</td>\n",
       "      <td>None</td>\n",
       "      <td>2021-08-06</td>\n",
       "      <td>10</td>\n",
       "      <td>user@example.com</td>\n",
       "      <td>user@example.com</td>\n",
       "      <td>2021-07-26</td>\n",
       "      <td>2021-08-06</td>\n",
       "      <td>Sprint 15</td>\n",
       "    </tr>\n",
       "    <tr>\n",
       "      <th>153</th>\n",
       "      <td>d78b2677-8ede-43ce-b352-699eed661377</td>\n",
       "      <td>17a825f9-b4b5-4685-8396-59d5c80dc15c</td>\n",
       "      <td>Assign Landscape</td>\n",
       "      <td>CALMTMPL</td>\n",
       "      <td>CIPTKOPEN</td>\n",
       "      <td>None</td>\n",
       "      <td>2021-07-31</td>\n",
       "      <td>10</td>\n",
       "      <td>tom.petty.tue29sep2020092338gmt288@example.com</td>\n",
       "      <td>tom.petty.tue29sep2020092338gmt288@example.com</td>\n",
       "      <td>2021-07-26</td>\n",
       "      <td>2021-07-31</td>\n",
       "      <td>Explore</td>\n",
       "    </tr>\n",
       "    <tr>\n",
       "      <th>154</th>\n",
       "      <td>f45e9297-8748-4fab-88ba-52dd3d79a27d</td>\n",
       "      <td>17a825f9-b4b5-4685-8396-59d5c80dc15c</td>\n",
       "      <td>Assign Team Members</td>\n",
       "      <td>CALMTMPL</td>\n",
       "      <td>CIPTKOPEN</td>\n",
       "      <td>None</td>\n",
       "      <td>2021-08-06</td>\n",
       "      <td>10</td>\n",
       "      <td>tom.petty.wed19aug2020051117gmt986@example.com</td>\n",
       "      <td>tom.petty.wed19aug2020051117gmt986@example.com</td>\n",
       "      <td>2021-07-26</td>\n",
       "      <td>2021-08-06</td>\n",
       "      <td>Sprint 15</td>\n",
       "    </tr>\n",
       "    <tr>\n",
       "      <th>155</th>\n",
       "      <td>1d4b6e22-9696-43c3-a8ab-4d06e1bed28a</td>\n",
       "      <td>17a825f9-b4b5-4685-8396-59d5c80dc15c</td>\n",
       "      <td>Create Scopes and Define Business Processes Scope</td>\n",
       "      <td>CALMTMPL</td>\n",
       "      <td>CIPTKOPEN</td>\n",
       "      <td>None</td>\n",
       "      <td>2021-07-31</td>\n",
       "      <td>10</td>\n",
       "      <td>tom.petty.wed19aug2020051117gmt986@example.com</td>\n",
       "      <td>tom.petty.wed19aug2020051117gmt986@example.com</td>\n",
       "      <td>2021-07-26</td>\n",
       "      <td>2021-07-31</td>\n",
       "      <td>Explore</td>\n",
       "    </tr>\n",
       "    <tr>\n",
       "      <th>156</th>\n",
       "      <td>fc71d6ce-dbc0-4696-8491-6d235c9970ff</td>\n",
       "      <td>17a825f9-b4b5-4685-8396-59d5c80dc15c</td>\n",
       "      <td>Assign Landscape</td>\n",
       "      <td>CALMTMPL</td>\n",
       "      <td>CIPTKOPEN</td>\n",
       "      <td>None</td>\n",
       "      <td>2021-07-25</td>\n",
       "      <td>10</td>\n",
       "      <td>tom.petty.wed19aug2020051117gmt986@example.com</td>\n",
       "      <td>tom.petty.wed19aug2020051117gmt986@example.com</td>\n",
       "      <td>2021-07-19</td>\n",
       "      <td>2021-07-25</td>\n",
       "      <td>Prepare</td>\n",
       "    </tr>\n",
       "    <tr>\n",
       "      <th>206</th>\n",
       "      <td>acab8a17-734d-41c1-a9d5-8f3ea15c85b1</td>\n",
       "      <td>17a825f9-b4b5-4685-8396-59d5c80dc15c</td>\n",
       "      <td>Setup Project</td>\n",
       "      <td>CALMTMPL</td>\n",
       "      <td>CIPTKINP</td>\n",
       "      <td>None</td>\n",
       "      <td>2021-07-23</td>\n",
       "      <td>20</td>\n",
       "      <td>tom.petty.mon31aug2020054035gmt@example.com</td>\n",
       "      <td>tom.petty.mon31aug2020054035gmt@example.com</td>\n",
       "      <td>2021-07-19</td>\n",
       "      <td>2021-07-25</td>\n",
       "      <td>Prepare</td>\n",
       "    </tr>\n",
       "    <tr>\n",
       "      <th>247</th>\n",
       "      <td>76f7d4ca-a23f-423c-adcf-5bcfdd301eeb</td>\n",
       "      <td>17a825f9-b4b5-4685-8396-59d5c80dc15c</td>\n",
       "      <td>Setup Central Business Configuration Integrati...</td>\n",
       "      <td>CALMTMPL</td>\n",
       "      <td>CIPTKINP</td>\n",
       "      <td>None</td>\n",
       "      <td>2021-07-31</td>\n",
       "      <td>20</td>\n",
       "      <td>tom.petty.tue29sep2020074254gmt126@example.com</td>\n",
       "      <td>tom.petty.tue29sep2020074254gmt126@example.com</td>\n",
       "      <td>2021-07-26</td>\n",
       "      <td>2021-07-31</td>\n",
       "      <td>Explore</td>\n",
       "    </tr>\n",
       "    <tr>\n",
       "      <th>301</th>\n",
       "      <td>82b76247-e5c9-4a71-b7b0-00d70df8d178</td>\n",
       "      <td>17a825f9-b4b5-4685-8396-59d5c80dc15c</td>\n",
       "      <td>Notebook API test task 2021-07-22T17:06:17.018721</td>\n",
       "      <td>CALMTASK</td>\n",
       "      <td>CIPTKOPEN</td>\n",
       "      <td>null</td>\n",
       "      <td>2021-08-07</td>\n",
       "      <td>30</td>\n",
       "      <td>tom.petty.wed19aug2020051117gmt986@example.com</td>\n",
       "      <td>tom.petty.wed19aug2020051117gmt986@example.com</td>\n",
       "      <td>2021-08-01</td>\n",
       "      <td>2021-08-07</td>\n",
       "      <td>Realize</td>\n",
       "    </tr>\n",
       "  </tbody>\n",
       "</table>\n",
       "</div>"
      ]
     },
     "metadata": {},
     "execution_count": 54
    }
   ],
   "metadata": {}
  },
  {
   "cell_type": "markdown",
   "source": [
    "### Filter Only Tasks with Timebox Start Dates\n",
    "\n",
    "Remove any tasks which do not have timebox dates assigned."
   ],
   "metadata": {}
  },
  {
   "cell_type": "code",
   "execution_count": 55,
   "source": [
    "df_assigned_tasks = df_assigned_tasks.loc[df_assigned_tasks['timeboxStartDate'].notnull()]\r\n",
    "df_assigned_tasks"
   ],
   "outputs": [
    {
     "output_type": "execute_result",
     "data": {
      "text/plain": [
       "                                       id  \\\n",
       "100  f986af95-33d9-4c73-8c2f-b71d4109b3e4   \n",
       "103  34d651da-6827-40b2-89a2-7472c4e3c9ab   \n",
       "104  d264410a-91ee-4d71-a940-bf70f2be8413   \n",
       "106  9e997bbb-f999-4159-8fd9-e60d242482f9   \n",
       "111  df1de9c0-2589-4c73-adb9-91701e717136   \n",
       "122  8edbf876-2545-468c-983d-0cf9a0f4dca7   \n",
       "149  7c5b595d-85c4-4a81-a701-ba08bf603c71   \n",
       "150  880e9613-8f12-4754-848d-11626c088f38   \n",
       "151  4d13d51c-f1bd-4d58-b455-e22125c8df3e   \n",
       "152  6f600fb3-a60b-4463-bee2-145b6e582f41   \n",
       "153  d78b2677-8ede-43ce-b352-699eed661377   \n",
       "154  f45e9297-8748-4fab-88ba-52dd3d79a27d   \n",
       "155  1d4b6e22-9696-43c3-a8ab-4d06e1bed28a   \n",
       "156  fc71d6ce-dbc0-4696-8491-6d235c9970ff   \n",
       "206  acab8a17-734d-41c1-a9d5-8f3ea15c85b1   \n",
       "247  76f7d4ca-a23f-423c-adcf-5bcfdd301eeb   \n",
       "301  82b76247-e5c9-4a71-b7b0-00d70df8d178   \n",
       "\n",
       "                                projectId  \\\n",
       "100  17a825f9-b4b5-4685-8396-59d5c80dc15c   \n",
       "103  17a825f9-b4b5-4685-8396-59d5c80dc15c   \n",
       "104  17a825f9-b4b5-4685-8396-59d5c80dc15c   \n",
       "106  17a825f9-b4b5-4685-8396-59d5c80dc15c   \n",
       "111  17a825f9-b4b5-4685-8396-59d5c80dc15c   \n",
       "122  17a825f9-b4b5-4685-8396-59d5c80dc15c   \n",
       "149  17a825f9-b4b5-4685-8396-59d5c80dc15c   \n",
       "150  17a825f9-b4b5-4685-8396-59d5c80dc15c   \n",
       "151  17a825f9-b4b5-4685-8396-59d5c80dc15c   \n",
       "152  17a825f9-b4b5-4685-8396-59d5c80dc15c   \n",
       "153  17a825f9-b4b5-4685-8396-59d5c80dc15c   \n",
       "154  17a825f9-b4b5-4685-8396-59d5c80dc15c   \n",
       "155  17a825f9-b4b5-4685-8396-59d5c80dc15c   \n",
       "156  17a825f9-b4b5-4685-8396-59d5c80dc15c   \n",
       "206  17a825f9-b4b5-4685-8396-59d5c80dc15c   \n",
       "247  17a825f9-b4b5-4685-8396-59d5c80dc15c   \n",
       "301  17a825f9-b4b5-4685-8396-59d5c80dc15c   \n",
       "\n",
       "                                                 title      type      status  \\\n",
       "100  Ensure Project Team Members Access to the SAP ...  CALMTMPL  CIPTKCLOSE   \n",
       "103  Create Scopes and Define Business Processes Scope  CALMTMPL  CIPTKCLOSE   \n",
       "104                      Review Overview Documentation  CALMTMPL  CIPTKCLOSE   \n",
       "106  Setup Central Business Configuration Integrati...  CALMTMPL    CIPTKINP   \n",
       "111                     Collect Details for Extensions  CALMTMPL   CIPTKOPEN   \n",
       "122  Create Scopes and Define Business Processes Scope  CALMTMPL   CIPTKOPEN   \n",
       "149                                    Confirm Backlog  CALMTMPL   CIPTKOPEN   \n",
       "150                Execute Standard Business Processes  CALMTMPL   CIPTKOPEN   \n",
       "151                      Verify Fit-to-Standard System  CALMTMPL    CIPTKINP   \n",
       "152                                Assign Team Members  CALMTMPL   CIPTKOPEN   \n",
       "153                                   Assign Landscape  CALMTMPL   CIPTKOPEN   \n",
       "154                                Assign Team Members  CALMTMPL   CIPTKOPEN   \n",
       "155  Create Scopes and Define Business Processes Scope  CALMTMPL   CIPTKOPEN   \n",
       "156                                   Assign Landscape  CALMTMPL   CIPTKOPEN   \n",
       "206                                      Setup Project  CALMTMPL    CIPTKINP   \n",
       "247  Setup Central Business Configuration Integrati...  CALMTMPL    CIPTKINP   \n",
       "301  Notebook API test task 2021-07-22T17:06:17.018721  CALMTASK   CIPTKOPEN   \n",
       "\n",
       "    externalId     dueDate  priorityId  \\\n",
       "100       None  2021-09-03          30   \n",
       "103       None  2021-09-03          30   \n",
       "104       None  2021-08-20          30   \n",
       "106       None  2021-08-20          10   \n",
       "111       None  2021-09-17          30   \n",
       "122       None  2021-08-14          40   \n",
       "149       None  2021-08-14          30   \n",
       "150       None  2021-07-31          30   \n",
       "151       None  2021-07-25          30   \n",
       "152       None  2021-08-06          10   \n",
       "153       None  2021-07-31          10   \n",
       "154       None  2021-08-06          10   \n",
       "155       None  2021-07-31          10   \n",
       "156       None  2021-07-25          10   \n",
       "206       None  2021-07-23          20   \n",
       "247       None  2021-07-31          20   \n",
       "301       null  2021-08-07          30   \n",
       "\n",
       "                                         assigneeId  \\\n",
       "100                                user@example.com   \n",
       "103                                user@example.com   \n",
       "104                                user@example.com   \n",
       "106  tom.petty.tue29sep2020080002gmt446@example.com   \n",
       "111                                user@example.com   \n",
       "122  tom.petty.wed19aug2020051117gmt986@example.com   \n",
       "149                                user@example.com   \n",
       "150                                user@example.com   \n",
       "151                                user@example.com   \n",
       "152                                user@example.com   \n",
       "153  tom.petty.tue29sep2020092338gmt288@example.com   \n",
       "154  tom.petty.wed19aug2020051117gmt986@example.com   \n",
       "155  tom.petty.wed19aug2020051117gmt986@example.com   \n",
       "156  tom.petty.wed19aug2020051117gmt986@example.com   \n",
       "206     tom.petty.mon31aug2020054035gmt@example.com   \n",
       "247  tom.petty.tue29sep2020074254gmt126@example.com   \n",
       "301  tom.petty.wed19aug2020051117gmt986@example.com   \n",
       "\n",
       "                                       assigneeName timeboxStartDate  \\\n",
       "100                                user@example.com       2021-08-23   \n",
       "103                                user@example.com       2021-08-23   \n",
       "104                                user@example.com       2021-08-09   \n",
       "106  tom.petty.tue29sep2020080002gmt446@example.com       2021-08-09   \n",
       "111                                user@example.com       2021-08-15   \n",
       "122  tom.petty.wed19aug2020051117gmt986@example.com       2021-08-08   \n",
       "149                                user@example.com       2021-08-08   \n",
       "150                                user@example.com       2021-07-26   \n",
       "151                                user@example.com       2021-07-19   \n",
       "152                                user@example.com       2021-07-26   \n",
       "153  tom.petty.tue29sep2020092338gmt288@example.com       2021-07-26   \n",
       "154  tom.petty.wed19aug2020051117gmt986@example.com       2021-07-26   \n",
       "155  tom.petty.wed19aug2020051117gmt986@example.com       2021-07-26   \n",
       "156  tom.petty.wed19aug2020051117gmt986@example.com       2021-07-19   \n",
       "206     tom.petty.mon31aug2020054035gmt@example.com       2021-07-19   \n",
       "247  tom.petty.tue29sep2020074254gmt126@example.com       2021-07-26   \n",
       "301  tom.petty.wed19aug2020051117gmt986@example.com       2021-08-01   \n",
       "\n",
       "    timeboxEndDate timeboxName  \n",
       "100     2021-09-03   Sprint 17  \n",
       "103     2021-09-03   Sprint 17  \n",
       "104     2021-08-20   Sprint 16  \n",
       "106     2021-08-20   Sprint 16  \n",
       "111     2021-09-17         Run  \n",
       "122     2021-08-14      Deploy  \n",
       "149     2021-08-14      Deploy  \n",
       "150     2021-07-31     Explore  \n",
       "151     2021-07-25     Prepare  \n",
       "152     2021-08-06   Sprint 15  \n",
       "153     2021-07-31     Explore  \n",
       "154     2021-08-06   Sprint 15  \n",
       "155     2021-07-31     Explore  \n",
       "156     2021-07-25     Prepare  \n",
       "206     2021-07-25     Prepare  \n",
       "247     2021-07-31     Explore  \n",
       "301     2021-08-07     Realize  "
      ],
      "text/html": [
       "<div>\n",
       "<style scoped>\n",
       "    .dataframe tbody tr th:only-of-type {\n",
       "        vertical-align: middle;\n",
       "    }\n",
       "\n",
       "    .dataframe tbody tr th {\n",
       "        vertical-align: top;\n",
       "    }\n",
       "\n",
       "    .dataframe thead th {\n",
       "        text-align: right;\n",
       "    }\n",
       "</style>\n",
       "<table border=\"1\" class=\"dataframe\">\n",
       "  <thead>\n",
       "    <tr style=\"text-align: right;\">\n",
       "      <th></th>\n",
       "      <th>id</th>\n",
       "      <th>projectId</th>\n",
       "      <th>title</th>\n",
       "      <th>type</th>\n",
       "      <th>status</th>\n",
       "      <th>externalId</th>\n",
       "      <th>dueDate</th>\n",
       "      <th>priorityId</th>\n",
       "      <th>assigneeId</th>\n",
       "      <th>assigneeName</th>\n",
       "      <th>timeboxStartDate</th>\n",
       "      <th>timeboxEndDate</th>\n",
       "      <th>timeboxName</th>\n",
       "    </tr>\n",
       "  </thead>\n",
       "  <tbody>\n",
       "    <tr>\n",
       "      <th>100</th>\n",
       "      <td>f986af95-33d9-4c73-8c2f-b71d4109b3e4</td>\n",
       "      <td>17a825f9-b4b5-4685-8396-59d5c80dc15c</td>\n",
       "      <td>Ensure Project Team Members Access to the SAP ...</td>\n",
       "      <td>CALMTMPL</td>\n",
       "      <td>CIPTKCLOSE</td>\n",
       "      <td>None</td>\n",
       "      <td>2021-09-03</td>\n",
       "      <td>30</td>\n",
       "      <td>user@example.com</td>\n",
       "      <td>user@example.com</td>\n",
       "      <td>2021-08-23</td>\n",
       "      <td>2021-09-03</td>\n",
       "      <td>Sprint 17</td>\n",
       "    </tr>\n",
       "    <tr>\n",
       "      <th>103</th>\n",
       "      <td>34d651da-6827-40b2-89a2-7472c4e3c9ab</td>\n",
       "      <td>17a825f9-b4b5-4685-8396-59d5c80dc15c</td>\n",
       "      <td>Create Scopes and Define Business Processes Scope</td>\n",
       "      <td>CALMTMPL</td>\n",
       "      <td>CIPTKCLOSE</td>\n",
       "      <td>None</td>\n",
       "      <td>2021-09-03</td>\n",
       "      <td>30</td>\n",
       "      <td>user@example.com</td>\n",
       "      <td>user@example.com</td>\n",
       "      <td>2021-08-23</td>\n",
       "      <td>2021-09-03</td>\n",
       "      <td>Sprint 17</td>\n",
       "    </tr>\n",
       "    <tr>\n",
       "      <th>104</th>\n",
       "      <td>d264410a-91ee-4d71-a940-bf70f2be8413</td>\n",
       "      <td>17a825f9-b4b5-4685-8396-59d5c80dc15c</td>\n",
       "      <td>Review Overview Documentation</td>\n",
       "      <td>CALMTMPL</td>\n",
       "      <td>CIPTKCLOSE</td>\n",
       "      <td>None</td>\n",
       "      <td>2021-08-20</td>\n",
       "      <td>30</td>\n",
       "      <td>user@example.com</td>\n",
       "      <td>user@example.com</td>\n",
       "      <td>2021-08-09</td>\n",
       "      <td>2021-08-20</td>\n",
       "      <td>Sprint 16</td>\n",
       "    </tr>\n",
       "    <tr>\n",
       "      <th>106</th>\n",
       "      <td>9e997bbb-f999-4159-8fd9-e60d242482f9</td>\n",
       "      <td>17a825f9-b4b5-4685-8396-59d5c80dc15c</td>\n",
       "      <td>Setup Central Business Configuration Integrati...</td>\n",
       "      <td>CALMTMPL</td>\n",
       "      <td>CIPTKINP</td>\n",
       "      <td>None</td>\n",
       "      <td>2021-08-20</td>\n",
       "      <td>10</td>\n",
       "      <td>tom.petty.tue29sep2020080002gmt446@example.com</td>\n",
       "      <td>tom.petty.tue29sep2020080002gmt446@example.com</td>\n",
       "      <td>2021-08-09</td>\n",
       "      <td>2021-08-20</td>\n",
       "      <td>Sprint 16</td>\n",
       "    </tr>\n",
       "    <tr>\n",
       "      <th>111</th>\n",
       "      <td>df1de9c0-2589-4c73-adb9-91701e717136</td>\n",
       "      <td>17a825f9-b4b5-4685-8396-59d5c80dc15c</td>\n",
       "      <td>Collect Details for Extensions</td>\n",
       "      <td>CALMTMPL</td>\n",
       "      <td>CIPTKOPEN</td>\n",
       "      <td>None</td>\n",
       "      <td>2021-09-17</td>\n",
       "      <td>30</td>\n",
       "      <td>user@example.com</td>\n",
       "      <td>user@example.com</td>\n",
       "      <td>2021-08-15</td>\n",
       "      <td>2021-09-17</td>\n",
       "      <td>Run</td>\n",
       "    </tr>\n",
       "    <tr>\n",
       "      <th>122</th>\n",
       "      <td>8edbf876-2545-468c-983d-0cf9a0f4dca7</td>\n",
       "      <td>17a825f9-b4b5-4685-8396-59d5c80dc15c</td>\n",
       "      <td>Create Scopes and Define Business Processes Scope</td>\n",
       "      <td>CALMTMPL</td>\n",
       "      <td>CIPTKOPEN</td>\n",
       "      <td>None</td>\n",
       "      <td>2021-08-14</td>\n",
       "      <td>40</td>\n",
       "      <td>tom.petty.wed19aug2020051117gmt986@example.com</td>\n",
       "      <td>tom.petty.wed19aug2020051117gmt986@example.com</td>\n",
       "      <td>2021-08-08</td>\n",
       "      <td>2021-08-14</td>\n",
       "      <td>Deploy</td>\n",
       "    </tr>\n",
       "    <tr>\n",
       "      <th>149</th>\n",
       "      <td>7c5b595d-85c4-4a81-a701-ba08bf603c71</td>\n",
       "      <td>17a825f9-b4b5-4685-8396-59d5c80dc15c</td>\n",
       "      <td>Confirm Backlog</td>\n",
       "      <td>CALMTMPL</td>\n",
       "      <td>CIPTKOPEN</td>\n",
       "      <td>None</td>\n",
       "      <td>2021-08-14</td>\n",
       "      <td>30</td>\n",
       "      <td>user@example.com</td>\n",
       "      <td>user@example.com</td>\n",
       "      <td>2021-08-08</td>\n",
       "      <td>2021-08-14</td>\n",
       "      <td>Deploy</td>\n",
       "    </tr>\n",
       "    <tr>\n",
       "      <th>150</th>\n",
       "      <td>880e9613-8f12-4754-848d-11626c088f38</td>\n",
       "      <td>17a825f9-b4b5-4685-8396-59d5c80dc15c</td>\n",
       "      <td>Execute Standard Business Processes</td>\n",
       "      <td>CALMTMPL</td>\n",
       "      <td>CIPTKOPEN</td>\n",
       "      <td>None</td>\n",
       "      <td>2021-07-31</td>\n",
       "      <td>30</td>\n",
       "      <td>user@example.com</td>\n",
       "      <td>user@example.com</td>\n",
       "      <td>2021-07-26</td>\n",
       "      <td>2021-07-31</td>\n",
       "      <td>Explore</td>\n",
       "    </tr>\n",
       "    <tr>\n",
       "      <th>151</th>\n",
       "      <td>4d13d51c-f1bd-4d58-b455-e22125c8df3e</td>\n",
       "      <td>17a825f9-b4b5-4685-8396-59d5c80dc15c</td>\n",
       "      <td>Verify Fit-to-Standard System</td>\n",
       "      <td>CALMTMPL</td>\n",
       "      <td>CIPTKINP</td>\n",
       "      <td>None</td>\n",
       "      <td>2021-07-25</td>\n",
       "      <td>30</td>\n",
       "      <td>user@example.com</td>\n",
       "      <td>user@example.com</td>\n",
       "      <td>2021-07-19</td>\n",
       "      <td>2021-07-25</td>\n",
       "      <td>Prepare</td>\n",
       "    </tr>\n",
       "    <tr>\n",
       "      <th>152</th>\n",
       "      <td>6f600fb3-a60b-4463-bee2-145b6e582f41</td>\n",
       "      <td>17a825f9-b4b5-4685-8396-59d5c80dc15c</td>\n",
       "      <td>Assign Team Members</td>\n",
       "      <td>CALMTMPL</td>\n",
       "      <td>CIPTKOPEN</td>\n",
       "      <td>None</td>\n",
       "      <td>2021-08-06</td>\n",
       "      <td>10</td>\n",
       "      <td>user@example.com</td>\n",
       "      <td>user@example.com</td>\n",
       "      <td>2021-07-26</td>\n",
       "      <td>2021-08-06</td>\n",
       "      <td>Sprint 15</td>\n",
       "    </tr>\n",
       "    <tr>\n",
       "      <th>153</th>\n",
       "      <td>d78b2677-8ede-43ce-b352-699eed661377</td>\n",
       "      <td>17a825f9-b4b5-4685-8396-59d5c80dc15c</td>\n",
       "      <td>Assign Landscape</td>\n",
       "      <td>CALMTMPL</td>\n",
       "      <td>CIPTKOPEN</td>\n",
       "      <td>None</td>\n",
       "      <td>2021-07-31</td>\n",
       "      <td>10</td>\n",
       "      <td>tom.petty.tue29sep2020092338gmt288@example.com</td>\n",
       "      <td>tom.petty.tue29sep2020092338gmt288@example.com</td>\n",
       "      <td>2021-07-26</td>\n",
       "      <td>2021-07-31</td>\n",
       "      <td>Explore</td>\n",
       "    </tr>\n",
       "    <tr>\n",
       "      <th>154</th>\n",
       "      <td>f45e9297-8748-4fab-88ba-52dd3d79a27d</td>\n",
       "      <td>17a825f9-b4b5-4685-8396-59d5c80dc15c</td>\n",
       "      <td>Assign Team Members</td>\n",
       "      <td>CALMTMPL</td>\n",
       "      <td>CIPTKOPEN</td>\n",
       "      <td>None</td>\n",
       "      <td>2021-08-06</td>\n",
       "      <td>10</td>\n",
       "      <td>tom.petty.wed19aug2020051117gmt986@example.com</td>\n",
       "      <td>tom.petty.wed19aug2020051117gmt986@example.com</td>\n",
       "      <td>2021-07-26</td>\n",
       "      <td>2021-08-06</td>\n",
       "      <td>Sprint 15</td>\n",
       "    </tr>\n",
       "    <tr>\n",
       "      <th>155</th>\n",
       "      <td>1d4b6e22-9696-43c3-a8ab-4d06e1bed28a</td>\n",
       "      <td>17a825f9-b4b5-4685-8396-59d5c80dc15c</td>\n",
       "      <td>Create Scopes and Define Business Processes Scope</td>\n",
       "      <td>CALMTMPL</td>\n",
       "      <td>CIPTKOPEN</td>\n",
       "      <td>None</td>\n",
       "      <td>2021-07-31</td>\n",
       "      <td>10</td>\n",
       "      <td>tom.petty.wed19aug2020051117gmt986@example.com</td>\n",
       "      <td>tom.petty.wed19aug2020051117gmt986@example.com</td>\n",
       "      <td>2021-07-26</td>\n",
       "      <td>2021-07-31</td>\n",
       "      <td>Explore</td>\n",
       "    </tr>\n",
       "    <tr>\n",
       "      <th>156</th>\n",
       "      <td>fc71d6ce-dbc0-4696-8491-6d235c9970ff</td>\n",
       "      <td>17a825f9-b4b5-4685-8396-59d5c80dc15c</td>\n",
       "      <td>Assign Landscape</td>\n",
       "      <td>CALMTMPL</td>\n",
       "      <td>CIPTKOPEN</td>\n",
       "      <td>None</td>\n",
       "      <td>2021-07-25</td>\n",
       "      <td>10</td>\n",
       "      <td>tom.petty.wed19aug2020051117gmt986@example.com</td>\n",
       "      <td>tom.petty.wed19aug2020051117gmt986@example.com</td>\n",
       "      <td>2021-07-19</td>\n",
       "      <td>2021-07-25</td>\n",
       "      <td>Prepare</td>\n",
       "    </tr>\n",
       "    <tr>\n",
       "      <th>206</th>\n",
       "      <td>acab8a17-734d-41c1-a9d5-8f3ea15c85b1</td>\n",
       "      <td>17a825f9-b4b5-4685-8396-59d5c80dc15c</td>\n",
       "      <td>Setup Project</td>\n",
       "      <td>CALMTMPL</td>\n",
       "      <td>CIPTKINP</td>\n",
       "      <td>None</td>\n",
       "      <td>2021-07-23</td>\n",
       "      <td>20</td>\n",
       "      <td>tom.petty.mon31aug2020054035gmt@example.com</td>\n",
       "      <td>tom.petty.mon31aug2020054035gmt@example.com</td>\n",
       "      <td>2021-07-19</td>\n",
       "      <td>2021-07-25</td>\n",
       "      <td>Prepare</td>\n",
       "    </tr>\n",
       "    <tr>\n",
       "      <th>247</th>\n",
       "      <td>76f7d4ca-a23f-423c-adcf-5bcfdd301eeb</td>\n",
       "      <td>17a825f9-b4b5-4685-8396-59d5c80dc15c</td>\n",
       "      <td>Setup Central Business Configuration Integrati...</td>\n",
       "      <td>CALMTMPL</td>\n",
       "      <td>CIPTKINP</td>\n",
       "      <td>None</td>\n",
       "      <td>2021-07-31</td>\n",
       "      <td>20</td>\n",
       "      <td>tom.petty.tue29sep2020074254gmt126@example.com</td>\n",
       "      <td>tom.petty.tue29sep2020074254gmt126@example.com</td>\n",
       "      <td>2021-07-26</td>\n",
       "      <td>2021-07-31</td>\n",
       "      <td>Explore</td>\n",
       "    </tr>\n",
       "    <tr>\n",
       "      <th>301</th>\n",
       "      <td>82b76247-e5c9-4a71-b7b0-00d70df8d178</td>\n",
       "      <td>17a825f9-b4b5-4685-8396-59d5c80dc15c</td>\n",
       "      <td>Notebook API test task 2021-07-22T17:06:17.018721</td>\n",
       "      <td>CALMTASK</td>\n",
       "      <td>CIPTKOPEN</td>\n",
       "      <td>null</td>\n",
       "      <td>2021-08-07</td>\n",
       "      <td>30</td>\n",
       "      <td>tom.petty.wed19aug2020051117gmt986@example.com</td>\n",
       "      <td>tom.petty.wed19aug2020051117gmt986@example.com</td>\n",
       "      <td>2021-08-01</td>\n",
       "      <td>2021-08-07</td>\n",
       "      <td>Realize</td>\n",
       "    </tr>\n",
       "  </tbody>\n",
       "</table>\n",
       "</div>"
      ]
     },
     "metadata": {},
     "execution_count": 55
    }
   ],
   "metadata": {}
  },
  {
   "cell_type": "markdown",
   "source": [
    "### Create Gantt Chart\r\n",
    "\r\n",
    "Now that we've collected the data, we just have to plot the tasks on a timeline."
   ],
   "metadata": {}
  },
  {
   "cell_type": "code",
   "execution_count": 56,
   "source": [
    "fig = px.timeline(df_assigned_tasks, x_start=\"timeboxStartDate\", x_end=\"timeboxEndDate\", y=\"title\", color=\"assigneeName\", width=1500, height=600)\r\n",
    "fig.update_yaxes(autorange=\"reversed\")\r\n",
    "fig.show()"
   ],
   "outputs": [
    {
     "output_type": "display_data",
     "data": {
      "application/vnd.plotly.v1+json": {
       "config": {
        "plotlyServerURL": "https://plot.ly"
       },
       "data": [
        {
         "alignmentgroup": "True",
         "base": [
          "2021-08-23",
          "2021-08-23",
          "2021-08-09",
          "2021-08-15",
          "2021-08-08",
          "2021-07-26",
          "2021-07-19",
          "2021-07-26"
         ],
         "hovertemplate": "assigneeName=user@example.com<br>timeboxStartDate=%{base}<br>timeboxEndDate=%{x}<br>title=%{y}<extra></extra>",
         "legendgroup": "user@example.com",
         "marker": {
          "color": "#636efa"
         },
         "name": "user@example.com",
         "offsetgroup": "user@example.com",
         "orientation": "h",
         "showlegend": true,
         "textposition": "auto",
         "type": "bar",
         "x": [
          950400000,
          950400000,
          950400000,
          2851200000,
          518400000,
          432000000,
          518400000,
          950400000
         ],
         "xaxis": "x",
         "y": [
          "Ensure Project Team Members Access to the SAP Learning Hub",
          "Create Scopes and Define Business Processes Scope",
          "Review Overview Documentation",
          "Collect Details for Extensions",
          "Confirm Backlog",
          "Execute Standard Business Processes",
          "Verify Fit-to-Standard System",
          "Assign Team Members"
         ],
         "yaxis": "y"
        },
        {
         "alignmentgroup": "True",
         "base": [
          "2021-08-09"
         ],
         "hovertemplate": "assigneeName=tom.petty.tue29sep2020080002gmt446@example.com<br>timeboxStartDate=%{base}<br>timeboxEndDate=%{x}<br>title=%{y}<extra></extra>",
         "legendgroup": "tom.petty.tue29sep2020080002gmt446@example.com",
         "marker": {
          "color": "#EF553B"
         },
         "name": "tom.petty.tue29sep2020080002gmt446@example.com",
         "offsetgroup": "tom.petty.tue29sep2020080002gmt446@example.com",
         "orientation": "h",
         "showlegend": true,
         "textposition": "auto",
         "type": "bar",
         "x": [
          950400000
         ],
         "xaxis": "x",
         "y": [
          "Setup Central Business Configuration Integration (Optional)"
         ],
         "yaxis": "y"
        },
        {
         "alignmentgroup": "True",
         "base": [
          "2021-08-08",
          "2021-07-26",
          "2021-07-26",
          "2021-07-19",
          "2021-08-01"
         ],
         "hovertemplate": "assigneeName=tom.petty.wed19aug2020051117gmt986@example.com<br>timeboxStartDate=%{base}<br>timeboxEndDate=%{x}<br>title=%{y}<extra></extra>",
         "legendgroup": "tom.petty.wed19aug2020051117gmt986@example.com",
         "marker": {
          "color": "#00cc96"
         },
         "name": "tom.petty.wed19aug2020051117gmt986@example.com",
         "offsetgroup": "tom.petty.wed19aug2020051117gmt986@example.com",
         "orientation": "h",
         "showlegend": true,
         "textposition": "auto",
         "type": "bar",
         "x": [
          518400000,
          950400000,
          432000000,
          518400000,
          518400000
         ],
         "xaxis": "x",
         "y": [
          "Create Scopes and Define Business Processes Scope",
          "Assign Team Members",
          "Create Scopes and Define Business Processes Scope",
          "Assign Landscape",
          "Notebook API test task 2021-07-22T17:06:17.018721"
         ],
         "yaxis": "y"
        },
        {
         "alignmentgroup": "True",
         "base": [
          "2021-07-26"
         ],
         "hovertemplate": "assigneeName=tom.petty.tue29sep2020092338gmt288@example.com<br>timeboxStartDate=%{base}<br>timeboxEndDate=%{x}<br>title=%{y}<extra></extra>",
         "legendgroup": "tom.petty.tue29sep2020092338gmt288@example.com",
         "marker": {
          "color": "#ab63fa"
         },
         "name": "tom.petty.tue29sep2020092338gmt288@example.com",
         "offsetgroup": "tom.petty.tue29sep2020092338gmt288@example.com",
         "orientation": "h",
         "showlegend": true,
         "textposition": "auto",
         "type": "bar",
         "x": [
          432000000
         ],
         "xaxis": "x",
         "y": [
          "Assign Landscape"
         ],
         "yaxis": "y"
        },
        {
         "alignmentgroup": "True",
         "base": [
          "2021-07-19"
         ],
         "hovertemplate": "assigneeName=tom.petty.mon31aug2020054035gmt@example.com<br>timeboxStartDate=%{base}<br>timeboxEndDate=%{x}<br>title=%{y}<extra></extra>",
         "legendgroup": "tom.petty.mon31aug2020054035gmt@example.com",
         "marker": {
          "color": "#FFA15A"
         },
         "name": "tom.petty.mon31aug2020054035gmt@example.com",
         "offsetgroup": "tom.petty.mon31aug2020054035gmt@example.com",
         "orientation": "h",
         "showlegend": true,
         "textposition": "auto",
         "type": "bar",
         "x": [
          518400000
         ],
         "xaxis": "x",
         "y": [
          "Setup Project"
         ],
         "yaxis": "y"
        },
        {
         "alignmentgroup": "True",
         "base": [
          "2021-07-26"
         ],
         "hovertemplate": "assigneeName=tom.petty.tue29sep2020074254gmt126@example.com<br>timeboxStartDate=%{base}<br>timeboxEndDate=%{x}<br>title=%{y}<extra></extra>",
         "legendgroup": "tom.petty.tue29sep2020074254gmt126@example.com",
         "marker": {
          "color": "#19d3f3"
         },
         "name": "tom.petty.tue29sep2020074254gmt126@example.com",
         "offsetgroup": "tom.petty.tue29sep2020074254gmt126@example.com",
         "orientation": "h",
         "showlegend": true,
         "textposition": "auto",
         "type": "bar",
         "x": [
          432000000
         ],
         "xaxis": "x",
         "y": [
          "Setup Central Business Configuration Integration (Optional)"
         ],
         "yaxis": "y"
        }
       ],
       "layout": {
        "barmode": "overlay",
        "height": 600,
        "legend": {
         "title": {
          "text": "assigneeName"
         },
         "tracegroupgap": 0
        },
        "margin": {
         "t": 60
        },
        "template": {
         "data": {
          "bar": [
           {
            "error_x": {
             "color": "#2a3f5f"
            },
            "error_y": {
             "color": "#2a3f5f"
            },
            "marker": {
             "line": {
              "color": "#E5ECF6",
              "width": 0.5
             }
            },
            "type": "bar"
           }
          ],
          "barpolar": [
           {
            "marker": {
             "line": {
              "color": "#E5ECF6",
              "width": 0.5
             }
            },
            "type": "barpolar"
           }
          ],
          "carpet": [
           {
            "aaxis": {
             "endlinecolor": "#2a3f5f",
             "gridcolor": "white",
             "linecolor": "white",
             "minorgridcolor": "white",
             "startlinecolor": "#2a3f5f"
            },
            "baxis": {
             "endlinecolor": "#2a3f5f",
             "gridcolor": "white",
             "linecolor": "white",
             "minorgridcolor": "white",
             "startlinecolor": "#2a3f5f"
            },
            "type": "carpet"
           }
          ],
          "choropleth": [
           {
            "colorbar": {
             "outlinewidth": 0,
             "ticks": ""
            },
            "type": "choropleth"
           }
          ],
          "contour": [
           {
            "colorbar": {
             "outlinewidth": 0,
             "ticks": ""
            },
            "colorscale": [
             [
              0,
              "#0d0887"
             ],
             [
              0.1111111111111111,
              "#46039f"
             ],
             [
              0.2222222222222222,
              "#7201a8"
             ],
             [
              0.3333333333333333,
              "#9c179e"
             ],
             [
              0.4444444444444444,
              "#bd3786"
             ],
             [
              0.5555555555555556,
              "#d8576b"
             ],
             [
              0.6666666666666666,
              "#ed7953"
             ],
             [
              0.7777777777777778,
              "#fb9f3a"
             ],
             [
              0.8888888888888888,
              "#fdca26"
             ],
             [
              1,
              "#f0f921"
             ]
            ],
            "type": "contour"
           }
          ],
          "contourcarpet": [
           {
            "colorbar": {
             "outlinewidth": 0,
             "ticks": ""
            },
            "type": "contourcarpet"
           }
          ],
          "heatmap": [
           {
            "colorbar": {
             "outlinewidth": 0,
             "ticks": ""
            },
            "colorscale": [
             [
              0,
              "#0d0887"
             ],
             [
              0.1111111111111111,
              "#46039f"
             ],
             [
              0.2222222222222222,
              "#7201a8"
             ],
             [
              0.3333333333333333,
              "#9c179e"
             ],
             [
              0.4444444444444444,
              "#bd3786"
             ],
             [
              0.5555555555555556,
              "#d8576b"
             ],
             [
              0.6666666666666666,
              "#ed7953"
             ],
             [
              0.7777777777777778,
              "#fb9f3a"
             ],
             [
              0.8888888888888888,
              "#fdca26"
             ],
             [
              1,
              "#f0f921"
             ]
            ],
            "type": "heatmap"
           }
          ],
          "heatmapgl": [
           {
            "colorbar": {
             "outlinewidth": 0,
             "ticks": ""
            },
            "colorscale": [
             [
              0,
              "#0d0887"
             ],
             [
              0.1111111111111111,
              "#46039f"
             ],
             [
              0.2222222222222222,
              "#7201a8"
             ],
             [
              0.3333333333333333,
              "#9c179e"
             ],
             [
              0.4444444444444444,
              "#bd3786"
             ],
             [
              0.5555555555555556,
              "#d8576b"
             ],
             [
              0.6666666666666666,
              "#ed7953"
             ],
             [
              0.7777777777777778,
              "#fb9f3a"
             ],
             [
              0.8888888888888888,
              "#fdca26"
             ],
             [
              1,
              "#f0f921"
             ]
            ],
            "type": "heatmapgl"
           }
          ],
          "histogram": [
           {
            "marker": {
             "colorbar": {
              "outlinewidth": 0,
              "ticks": ""
             }
            },
            "type": "histogram"
           }
          ],
          "histogram2d": [
           {
            "colorbar": {
             "outlinewidth": 0,
             "ticks": ""
            },
            "colorscale": [
             [
              0,
              "#0d0887"
             ],
             [
              0.1111111111111111,
              "#46039f"
             ],
             [
              0.2222222222222222,
              "#7201a8"
             ],
             [
              0.3333333333333333,
              "#9c179e"
             ],
             [
              0.4444444444444444,
              "#bd3786"
             ],
             [
              0.5555555555555556,
              "#d8576b"
             ],
             [
              0.6666666666666666,
              "#ed7953"
             ],
             [
              0.7777777777777778,
              "#fb9f3a"
             ],
             [
              0.8888888888888888,
              "#fdca26"
             ],
             [
              1,
              "#f0f921"
             ]
            ],
            "type": "histogram2d"
           }
          ],
          "histogram2dcontour": [
           {
            "colorbar": {
             "outlinewidth": 0,
             "ticks": ""
            },
            "colorscale": [
             [
              0,
              "#0d0887"
             ],
             [
              0.1111111111111111,
              "#46039f"
             ],
             [
              0.2222222222222222,
              "#7201a8"
             ],
             [
              0.3333333333333333,
              "#9c179e"
             ],
             [
              0.4444444444444444,
              "#bd3786"
             ],
             [
              0.5555555555555556,
              "#d8576b"
             ],
             [
              0.6666666666666666,
              "#ed7953"
             ],
             [
              0.7777777777777778,
              "#fb9f3a"
             ],
             [
              0.8888888888888888,
              "#fdca26"
             ],
             [
              1,
              "#f0f921"
             ]
            ],
            "type": "histogram2dcontour"
           }
          ],
          "mesh3d": [
           {
            "colorbar": {
             "outlinewidth": 0,
             "ticks": ""
            },
            "type": "mesh3d"
           }
          ],
          "parcoords": [
           {
            "line": {
             "colorbar": {
              "outlinewidth": 0,
              "ticks": ""
             }
            },
            "type": "parcoords"
           }
          ],
          "pie": [
           {
            "automargin": true,
            "type": "pie"
           }
          ],
          "scatter": [
           {
            "marker": {
             "colorbar": {
              "outlinewidth": 0,
              "ticks": ""
             }
            },
            "type": "scatter"
           }
          ],
          "scatter3d": [
           {
            "line": {
             "colorbar": {
              "outlinewidth": 0,
              "ticks": ""
             }
            },
            "marker": {
             "colorbar": {
              "outlinewidth": 0,
              "ticks": ""
             }
            },
            "type": "scatter3d"
           }
          ],
          "scattercarpet": [
           {
            "marker": {
             "colorbar": {
              "outlinewidth": 0,
              "ticks": ""
             }
            },
            "type": "scattercarpet"
           }
          ],
          "scattergeo": [
           {
            "marker": {
             "colorbar": {
              "outlinewidth": 0,
              "ticks": ""
             }
            },
            "type": "scattergeo"
           }
          ],
          "scattergl": [
           {
            "marker": {
             "colorbar": {
              "outlinewidth": 0,
              "ticks": ""
             }
            },
            "type": "scattergl"
           }
          ],
          "scattermapbox": [
           {
            "marker": {
             "colorbar": {
              "outlinewidth": 0,
              "ticks": ""
             }
            },
            "type": "scattermapbox"
           }
          ],
          "scatterpolar": [
           {
            "marker": {
             "colorbar": {
              "outlinewidth": 0,
              "ticks": ""
             }
            },
            "type": "scatterpolar"
           }
          ],
          "scatterpolargl": [
           {
            "marker": {
             "colorbar": {
              "outlinewidth": 0,
              "ticks": ""
             }
            },
            "type": "scatterpolargl"
           }
          ],
          "scatterternary": [
           {
            "marker": {
             "colorbar": {
              "outlinewidth": 0,
              "ticks": ""
             }
            },
            "type": "scatterternary"
           }
          ],
          "surface": [
           {
            "colorbar": {
             "outlinewidth": 0,
             "ticks": ""
            },
            "colorscale": [
             [
              0,
              "#0d0887"
             ],
             [
              0.1111111111111111,
              "#46039f"
             ],
             [
              0.2222222222222222,
              "#7201a8"
             ],
             [
              0.3333333333333333,
              "#9c179e"
             ],
             [
              0.4444444444444444,
              "#bd3786"
             ],
             [
              0.5555555555555556,
              "#d8576b"
             ],
             [
              0.6666666666666666,
              "#ed7953"
             ],
             [
              0.7777777777777778,
              "#fb9f3a"
             ],
             [
              0.8888888888888888,
              "#fdca26"
             ],
             [
              1,
              "#f0f921"
             ]
            ],
            "type": "surface"
           }
          ],
          "table": [
           {
            "cells": {
             "fill": {
              "color": "#EBF0F8"
             },
             "line": {
              "color": "white"
             }
            },
            "header": {
             "fill": {
              "color": "#C8D4E3"
             },
             "line": {
              "color": "white"
             }
            },
            "type": "table"
           }
          ]
         },
         "layout": {
          "annotationdefaults": {
           "arrowcolor": "#2a3f5f",
           "arrowhead": 0,
           "arrowwidth": 1
          },
          "autotypenumbers": "strict",
          "coloraxis": {
           "colorbar": {
            "outlinewidth": 0,
            "ticks": ""
           }
          },
          "colorscale": {
           "diverging": [
            [
             0,
             "#8e0152"
            ],
            [
             0.1,
             "#c51b7d"
            ],
            [
             0.2,
             "#de77ae"
            ],
            [
             0.3,
             "#f1b6da"
            ],
            [
             0.4,
             "#fde0ef"
            ],
            [
             0.5,
             "#f7f7f7"
            ],
            [
             0.6,
             "#e6f5d0"
            ],
            [
             0.7,
             "#b8e186"
            ],
            [
             0.8,
             "#7fbc41"
            ],
            [
             0.9,
             "#4d9221"
            ],
            [
             1,
             "#276419"
            ]
           ],
           "sequential": [
            [
             0,
             "#0d0887"
            ],
            [
             0.1111111111111111,
             "#46039f"
            ],
            [
             0.2222222222222222,
             "#7201a8"
            ],
            [
             0.3333333333333333,
             "#9c179e"
            ],
            [
             0.4444444444444444,
             "#bd3786"
            ],
            [
             0.5555555555555556,
             "#d8576b"
            ],
            [
             0.6666666666666666,
             "#ed7953"
            ],
            [
             0.7777777777777778,
             "#fb9f3a"
            ],
            [
             0.8888888888888888,
             "#fdca26"
            ],
            [
             1,
             "#f0f921"
            ]
           ],
           "sequentialminus": [
            [
             0,
             "#0d0887"
            ],
            [
             0.1111111111111111,
             "#46039f"
            ],
            [
             0.2222222222222222,
             "#7201a8"
            ],
            [
             0.3333333333333333,
             "#9c179e"
            ],
            [
             0.4444444444444444,
             "#bd3786"
            ],
            [
             0.5555555555555556,
             "#d8576b"
            ],
            [
             0.6666666666666666,
             "#ed7953"
            ],
            [
             0.7777777777777778,
             "#fb9f3a"
            ],
            [
             0.8888888888888888,
             "#fdca26"
            ],
            [
             1,
             "#f0f921"
            ]
           ]
          },
          "colorway": [
           "#636efa",
           "#EF553B",
           "#00cc96",
           "#ab63fa",
           "#FFA15A",
           "#19d3f3",
           "#FF6692",
           "#B6E880",
           "#FF97FF",
           "#FECB52"
          ],
          "font": {
           "color": "#2a3f5f"
          },
          "geo": {
           "bgcolor": "white",
           "lakecolor": "white",
           "landcolor": "#E5ECF6",
           "showlakes": true,
           "showland": true,
           "subunitcolor": "white"
          },
          "hoverlabel": {
           "align": "left"
          },
          "hovermode": "closest",
          "mapbox": {
           "style": "light"
          },
          "paper_bgcolor": "white",
          "plot_bgcolor": "#E5ECF6",
          "polar": {
           "angularaxis": {
            "gridcolor": "white",
            "linecolor": "white",
            "ticks": ""
           },
           "bgcolor": "#E5ECF6",
           "radialaxis": {
            "gridcolor": "white",
            "linecolor": "white",
            "ticks": ""
           }
          },
          "scene": {
           "xaxis": {
            "backgroundcolor": "#E5ECF6",
            "gridcolor": "white",
            "gridwidth": 2,
            "linecolor": "white",
            "showbackground": true,
            "ticks": "",
            "zerolinecolor": "white"
           },
           "yaxis": {
            "backgroundcolor": "#E5ECF6",
            "gridcolor": "white",
            "gridwidth": 2,
            "linecolor": "white",
            "showbackground": true,
            "ticks": "",
            "zerolinecolor": "white"
           },
           "zaxis": {
            "backgroundcolor": "#E5ECF6",
            "gridcolor": "white",
            "gridwidth": 2,
            "linecolor": "white",
            "showbackground": true,
            "ticks": "",
            "zerolinecolor": "white"
           }
          },
          "shapedefaults": {
           "line": {
            "color": "#2a3f5f"
           }
          },
          "ternary": {
           "aaxis": {
            "gridcolor": "white",
            "linecolor": "white",
            "ticks": ""
           },
           "baxis": {
            "gridcolor": "white",
            "linecolor": "white",
            "ticks": ""
           },
           "bgcolor": "#E5ECF6",
           "caxis": {
            "gridcolor": "white",
            "linecolor": "white",
            "ticks": ""
           }
          },
          "title": {
           "x": 0.05
          },
          "xaxis": {
           "automargin": true,
           "gridcolor": "white",
           "linecolor": "white",
           "ticks": "",
           "title": {
            "standoff": 15
           },
           "zerolinecolor": "white",
           "zerolinewidth": 2
          },
          "yaxis": {
           "automargin": true,
           "gridcolor": "white",
           "linecolor": "white",
           "ticks": "",
           "title": {
            "standoff": 15
           },
           "zerolinecolor": "white",
           "zerolinewidth": 2
          }
         }
        },
        "width": 1500,
        "xaxis": {
         "anchor": "y",
         "domain": [
          0,
          1
         ],
         "type": "date"
        },
        "yaxis": {
         "anchor": "x",
         "autorange": "reversed",
         "domain": [
          0,
          1
         ],
         "title": {
          "text": "title"
         }
        }
       }
      }
     },
     "metadata": {}
    }
   ],
   "metadata": {}
  },
  {
   "cell_type": "markdown",
   "source": [
    "\r\n",
    "---\r\n",
    "\r\n",
    "## Create Project\r\n",
    "\r\n",
    "JSON format example for creating a project:\r\n",
    "\r\n",
    "```\r\n",
    "{\r\n",
    "  \"name\": \"string\"\r\n",
    "}\r\n",
    "```\r\n",
    "\r\n",
    "Expected response: `201 Created`"
   ],
   "metadata": {}
  },
  {
   "cell_type": "code",
   "execution_count": 57,
   "source": [
    "newProj = {\r\n",
    "  \"name\": \"Notebook API proj \" + datetime.datetime.now().isoformat()\r\n",
    "}\r\n",
    "\r\n",
    "response = requests.post(base_url + '/api/calm-projects/v1/projects', headers=hed, json=newProj)\r\n",
    "\r\n",
    "print(response.status_code, response.reason)\r\n",
    "\r\n",
    "newProjID = response.json()['id']\r\n",
    "print(\"New project ID:\", newProjID)"
   ],
   "outputs": [
    {
     "output_type": "stream",
     "name": "stdout",
     "text": [
      "201 Created\n",
      "New project ID: 702add6a-cc05-4814-a038-21a97183955b\n"
     ]
    }
   ],
   "metadata": {}
  },
  {
   "cell_type": "markdown",
   "source": [
    "### Add tasks to new project\r\n",
    "\r\n",
    "**THIS WILL FAIL**\r\n",
    "\r\n",
    "The failure demonstrates that task creation fails if this attempted as the first operation in a newly created project. (This is due to project ID buffering which needs to be updated for the new project, or a similar issue.)\r\n",
    "\r\n",
    "* Run the code cell after this cell to reread the project list, and tasks from a project\r\n",
    "\r\n",
    "Expected response on success: `201 Created`\r\n",
    "\r\n",
    "On failure, which currenly is the case, you'll get a python runtime error, since the response JSON is empty."
   ],
   "metadata": {}
  },
  {
   "cell_type": "code",
   "execution_count": 58,
   "source": [
    "taskCreateURL = base_url + '/api/calm-tasks/v1/tasks'\r\n",
    "\r\n",
    "taskData = {\r\n",
    "    \"projectId\": newProjID,\r\n",
    "    \"title\": \"Notebook API test task \" + datetime.datetime.now().isoformat(),\r\n",
    "    \"type\": \"CALMTASK\",\r\n",
    "    \"description\": \"test description. hello world\"\r\n",
    "}\r\n",
    "\r\n",
    "response = requests.post(taskURL, headers=hed, json=taskData)\r\n",
    "\r\n",
    "print(response.status_code, response.reason)\r\n",
    "\r\n",
    "newTaskID = response.json()['id']\r\n",
    "print(\"New task ID:\", newTaskID)"
   ],
   "outputs": [
    {
     "output_type": "stream",
     "name": "stdout",
     "text": [
      "405 Method Not Allowed\n"
     ]
    },
    {
     "output_type": "error",
     "ename": "KeyError",
     "evalue": "'id'",
     "traceback": [
      "\u001b[1;31m---------------------------------------------------------------------------\u001b[0m",
      "\u001b[1;31mKeyError\u001b[0m                                  Traceback (most recent call last)",
      "\u001b[1;32m<ipython-input-58-bd50d21c2b61>\u001b[0m in \u001b[0;36m<module>\u001b[1;34m\u001b[0m\n\u001b[0;32m     12\u001b[0m \u001b[0mprint\u001b[0m\u001b[1;33m(\u001b[0m\u001b[0mresponse\u001b[0m\u001b[1;33m.\u001b[0m\u001b[0mstatus_code\u001b[0m\u001b[1;33m,\u001b[0m \u001b[0mresponse\u001b[0m\u001b[1;33m.\u001b[0m\u001b[0mreason\u001b[0m\u001b[1;33m)\u001b[0m\u001b[1;33m\u001b[0m\u001b[1;33m\u001b[0m\u001b[0m\n\u001b[0;32m     13\u001b[0m \u001b[1;33m\u001b[0m\u001b[0m\n\u001b[1;32m---> 14\u001b[1;33m \u001b[0mnewTaskID\u001b[0m \u001b[1;33m=\u001b[0m \u001b[0mresponse\u001b[0m\u001b[1;33m.\u001b[0m\u001b[0mjson\u001b[0m\u001b[1;33m(\u001b[0m\u001b[1;33m)\u001b[0m\u001b[1;33m[\u001b[0m\u001b[1;34m'id'\u001b[0m\u001b[1;33m]\u001b[0m\u001b[1;33m\u001b[0m\u001b[1;33m\u001b[0m\u001b[0m\n\u001b[0m\u001b[0;32m     15\u001b[0m \u001b[0mprint\u001b[0m\u001b[1;33m(\u001b[0m\u001b[1;34m\"New task ID:\"\u001b[0m\u001b[1;33m,\u001b[0m \u001b[0mnewTaskID\u001b[0m\u001b[1;33m)\u001b[0m\u001b[1;33m\u001b[0m\u001b[1;33m\u001b[0m\u001b[0m\n",
      "\u001b[1;31mKeyError\u001b[0m: 'id'"
     ]
    }
   ],
   "metadata": {}
  },
  {
   "cell_type": "markdown",
   "source": [
    "### Reread Project, tasks from project\n",
    "\n",
    "Run this, then the above cell again if the create task operation in the above cell fails."
   ],
   "metadata": {}
  },
  {
   "cell_type": "code",
   "execution_count": null,
   "source": [
    "response = requests.get(base_url + '/api/calm-projects/v1/projects', headers=hed)\r\n",
    "\r\n",
    "print(response.status_code, response.reason)\r\n",
    "\r\n",
    "\r\n",
    "taskURL = base_url + '/api/calm-tasks/v1/tasks?projectId=' + newProjID\r\n",
    "\r\n",
    "response = requests.get(taskURL, headers=hed)\r\n",
    "\r\n",
    "print(response.status_code, response.reason)\r\n",
    "\r\n"
   ],
   "outputs": [
    {
     "output_type": "stream",
     "name": "stdout",
     "text": [
      "200 OK\n",
      "200 OK\n"
     ]
    }
   ],
   "metadata": {}
  },
  {
   "cell_type": "markdown",
   "source": [
    "### Create 10 tasks in project\n",
    "\n",
    "Use tasks API to create multiple new tasks, by calling API in a for loop.\n",
    "\n",
    "Expected response: 10 x `201 Created`"
   ],
   "metadata": {}
  },
  {
   "cell_type": "code",
   "execution_count": null,
   "source": [
    "for i in range(10):\r\n",
    "    print(\"Creating task\", str(i))\r\n",
    "\r\n",
    "    taskData = {\r\n",
    "        \"projectId\": newProjID,\r\n",
    "        \"title\": \"Notebook API test task \" + str(i),\r\n",
    "        \"type\": \"CALMTASK\",\r\n",
    "        \"description\": \"test description. hello world\"\r\n",
    "    }\r\n",
    "\r\n",
    "    response = requests.post(taskURL, headers=hed, json=taskData)\r\n",
    "\r\n",
    "    print(response.status_code, response.reason)\r\n",
    "\r\n",
    "    newTaskID = response.json()['id']\r\n",
    "    print(\"New task ID:\", newTaskID)\r\n",
    "\r\n"
   ],
   "outputs": [
    {
     "output_type": "stream",
     "name": "stdout",
     "text": [
      "Creating task 0\n",
      "201 Created\n",
      "New task ID: 56595dfd-7808-41db-a7f5-24283fcecee3\n",
      "Creating task 1\n",
      "201 Created\n",
      "New task ID: c067d816-6fee-44ee-8382-1220795ccf0d\n",
      "Creating task 2\n",
      "201 Created\n",
      "New task ID: 7aa0fb24-bdc8-41d3-9d85-8a5994a14132\n",
      "Creating task 3\n",
      "201 Created\n",
      "New task ID: 8093881f-3fb8-486c-b133-f095a3e0b79e\n",
      "Creating task 4\n",
      "201 Created\n",
      "New task ID: 5f5ffbd7-9072-4720-b266-1a3eaa21c381\n",
      "Creating task 5\n",
      "201 Created\n",
      "New task ID: d3dd5e9e-3aba-42b0-a8fa-08b3314f29a3\n",
      "Creating task 6\n",
      "201 Created\n",
      "New task ID: 60797e94-4d35-484d-9bfc-b4693f98fd24\n",
      "Creating task 7\n",
      "201 Created\n",
      "New task ID: c8aafb8d-1205-43b5-b1a1-9b8b444a63c6\n",
      "Creating task 8\n",
      "201 Created\n",
      "New task ID: 2e19e08e-0014-4d08-9817-53a00d3db99d\n",
      "Creating task 9\n",
      "201 Created\n",
      "New task ID: d97f741c-2837-4b2b-a908-c8bd1f4d1aae\n"
     ]
    }
   ],
   "metadata": {}
  },
  {
   "cell_type": "markdown",
   "source": [
    "### Create 10 user stories in project\n",
    "\n",
    "Change type parameter to 'CALMUS' to have the API create user stories instead of tasks.\n",
    "\n",
    "Expected response: 10 x `201 Created`"
   ],
   "metadata": {}
  },
  {
   "cell_type": "code",
   "execution_count": null,
   "source": [
    "for i in range(10):\r\n",
    "    print(\"Creating user story\", str(i))\r\n",
    "\r\n",
    "    taskData = {\r\n",
    "        \"projectId\": newProjID,\r\n",
    "        \"title\": \"Gordon API test user story \" + str(i),\r\n",
    "        \"type\": \"CALMUS\",\r\n",
    "        \"description\": \"test description. <b>hello world</b>\"\r\n",
    "    }\r\n",
    "\r\n",
    "    response = requests.post(taskURL, headers=hed, json=taskData)\r\n",
    "\r\n",
    "    print(response.status_code, response.reason)\r\n",
    "\r\n",
    "    newTaskID = response.json()['id']\r\n",
    "    print(\"New task ID:\", newTaskID)"
   ],
   "outputs": [
    {
     "output_type": "stream",
     "name": "stdout",
     "text": [
      "Creating user story 0\n",
      "201 Created\n",
      "New task ID: 2f92da53-1d89-4a15-8231-a9641110de15\n",
      "Creating user story 1\n",
      "201 Created\n",
      "New task ID: 092c765c-a558-432d-8a6c-525b478f34be\n",
      "Creating user story 2\n",
      "201 Created\n",
      "New task ID: 6f26a93f-d947-47da-8631-e28c248e8759\n",
      "Creating user story 3\n",
      "201 Created\n",
      "New task ID: c69a65b9-5b1e-47ab-a6b2-12004b2c3351\n",
      "Creating user story 4\n",
      "201 Created\n",
      "New task ID: fc704138-c29e-4100-bc26-b10b683e4431\n",
      "Creating user story 5\n",
      "201 Created\n",
      "New task ID: d99a0d66-4df8-4077-a2f3-66f3430244a9\n",
      "Creating user story 6\n",
      "201 Created\n",
      "New task ID: cb82ded1-a2f5-4d2e-83b6-b271d06a5637\n",
      "Creating user story 7\n",
      "201 Created\n",
      "New task ID: c48fac08-1af7-4638-bd8d-ab40ac6789ad\n",
      "Creating user story 8\n",
      "201 Created\n",
      "New task ID: d77f5997-a384-4bcb-9414-7451ae4fc9f7\n",
      "Creating user story 9\n",
      "201 Created\n",
      "New task ID: e7af06ac-8478-4f51-a591-7d3ed8c58cc3\n"
     ]
    }
   ],
   "metadata": {}
  }
 ]
}