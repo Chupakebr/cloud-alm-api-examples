{
 "metadata": {
  "language_info": {
   "codemirror_mode": {
    "name": "ipython",
    "version": 3
   },
   "file_extension": ".py",
   "mimetype": "text/x-python",
   "name": "python",
   "nbconvert_exporter": "python",
   "pygments_lexer": "ipython3",
   "version": "3.8.1"
  },
  "orig_nbformat": 2,
  "kernelspec": {
   "name": "python3",
   "display_name": "Python 3.8.1 64-bit"
  },
  "metadata": {
   "interpreter": {
    "hash": "2db524e06e9f5f4ffedc911c917cb75e12dbc923643829bf417064a77eb14d37"
   }
  },
  "interpreter": {
   "hash": "2db524e06e9f5f4ffedc911c917cb75e12dbc923643829bf417064a77eb14d37"
  }
 },
 "nbformat": 4,
 "nbformat_minor": 2,
 "cells": [
  {
   "source": [
    "# SAP Cloud ALM Project and Task API Test and Demo\n",
    "\n",
    "This notebook contains examples of SAP Business Hub API calls for SAP Cloud ALM for Implementation. The specific APIs shown below are for Projects and Tasks.\n",
    "\n",
    "The API information and specification is available here:\n",
    "\n",
    "* https://api.sap.com/package/SAPCloudALM/rest - SAP Cloud ALM\n",
    "* https://api.sap.com/api/CALM_PJM/overview - SAP Cloud ALM Projects\n",
    "* https://api.sap.com/api/CALM_TKM/overview - SAP Cloud ALM Tasks\n",
    "\n",
    "Please note the license and other terms and conditions contained in this notebook's repository: https://github.com/SAP-samples/cloud-alm-api-examples\n",
    "\n",
    "## Python Dependencies Required\n",
    "\n",
    "In order to run the samples in this notebook, install the following dependencies:\n",
    "\n",
    "* Jupyter integration in Visual Studio Code: https://code.visualstudio.com/docs/python/jupyter-support \n",
    "* Python 3, a recent version, is Required. Python 3.8 was used here.\n",
    "* Requests - for handling HTTP GET/POST/PATCH/DELETE Requests - https://docs.python-requests.org/en/latest/user/install/#install\n",
    "* Requests-OAuthlib - for authentication with requests - https://requests-oauthlib.readthedocs.io/en/latest/index.html#installation\n",
    "* Pandas - Python data analysis - https://pandas.pydata.org/docs/getting_started/install.html\n",
    "* Plotly - for plotting interactive charts - https://plotly.com/python/getting-started/\n",
    "\n",
    "## APIs called\n",
    "\n",
    "API to get projects: https://<tenant url\\>/api/imp-pjm-srv/v1/projects\n",
    "\n",
    "API to get tasks: https://<tenant url\\>/api/imp-tkm-srv/v1/tasks?projectId=<project ID\\>\n"
   ],
   "cell_type": "markdown",
   "metadata": {}
  },
  {
   "source": [
    "## Authentication information\n",
    "\n",
    "You must create a python module file called `apidata.py` and put the information specific to your tenant there. This inclduds\n",
    "\n",
    "* OAuth2 client ID and secret\n",
    "* Token url\n",
    "* Base URL for API calls\n",
    "\n",
    "Get client ID and secret variables from an external module: this information is senstive.\n",
    "\n",
    "These items can be retrieved from the BTP Cockpit \n",
    "\n",
    "### Format of module apidata.py for import\n",
    "\n",
    "```python\n",
    "ptm_all_client_id = r'get your client ID from BTP Cockpit'\n",
    "ptm_all_client_secret = r'get your client secret from BTP Cockpit'\n",
    "token_url = 'your token url'\n",
    "base_url = 'your base url'\n",
    "```\n"
   ],
   "cell_type": "markdown",
   "metadata": {}
  },
  {
   "cell_type": "code",
   "execution_count": 75,
   "metadata": {},
   "outputs": [],
   "source": [
    "import apidata as ad\n",
    "\n",
    "client_id = ad.ptm_all_client_id\n",
    "client_secret = ad.ptm_all_client_secret\n",
    "token_url = ad.token_url\n",
    "base_url = ad.base_url"
   ]
  },
  {
   "source": [
    "### Get token for authentication\n",
    "\n",
    "Call OAuth token API with credential information. Add the resulting header to all requests.\n",
    "\n",
    "See Requests-OAuthlib documentation for Backend Application Flow:\n",
    "\n",
    "* https://requests-oauthlib.readthedocs.io/en/latest/oauth2_workflow.html#backend-application-flow"
   ],
   "cell_type": "markdown",
   "metadata": {}
  },
  {
   "cell_type": "code",
   "execution_count": 76,
   "metadata": {},
   "outputs": [],
   "source": [
    "import requests\n",
    "from requests_oauthlib import OAuth2Session\n",
    "from oauthlib.oauth2 import BackendApplicationClient\n",
    "\n",
    "client = BackendApplicationClient(client_id=client_id)\n",
    "oauth = OAuth2Session(client=client)\n",
    "token = oauth.fetch_token(token_url=token_url, client_id=client_id,\n",
    "        client_secret=client_secret)\n",
    "\n",
    "hed = {'Authorization': 'Bearer ' + token['access_token']}        "
   ]
  },
  {
   "source": [
    "## Perform GET request to retrieve list of all projects\n",
    "\n",
    "Expected response: \"200 OK\""
   ],
   "cell_type": "markdown",
   "metadata": {}
  },
  {
   "cell_type": "code",
   "execution_count": 77,
   "metadata": {},
   "outputs": [
    {
     "output_type": "stream",
     "name": "stdout",
     "text": [
      "200 OK\n"
     ]
    }
   ],
   "source": [
    "\n",
    "response = requests.get(base_url + '/api/calm-projects/v1/projects', headers=hed)\n",
    "\n",
    "print(response.status_code, response.reason)"
   ]
  },
  {
   "source": [
    "## Parse JSON into Pandas Dataframe\n",
    "\n",
    "This takes the data returned from the projects API, which is in JSON format, and places it into a dataframe for further processing and analysis."
   ],
   "cell_type": "markdown",
   "metadata": {}
  },
  {
   "cell_type": "code",
   "execution_count": 78,
   "metadata": {},
   "outputs": [
    {
     "output_type": "execute_result",
     "data": {
      "text/plain": [
       "                                       id  \\\n",
       "0    5e013b69-d603-4f59-afee-ea2024392a28   \n",
       "1    8687a39a-ab90-4dbc-b3e3-f6ab8a1b89c6   \n",
       "2    2495d431-04c8-4550-bd63-d8d3bc9cacbc   \n",
       "3    4f5798c4-75f1-4a88-acd0-8ece2acc4b65   \n",
       "4    8719b16c-9911-4682-a1d3-1699599fa081   \n",
       "..                                    ...   \n",
       "210  fcadf2d6-127a-4830-bd06-f7cb0ab31e87   \n",
       "211  68ed870f-3427-48ef-9d6c-861167106532   \n",
       "212  83903145-23c1-4f32-b0ce-e30a20bd83c0   \n",
       "213  f05ce3ad-73ee-48a2-956e-00171ac54d85   \n",
       "214  f78e43b8-ba14-4d03-88e4-3e86bc1597b5   \n",
       "\n",
       "                                             name status  \n",
       "0                             Juni test project 3      O  \n",
       "1                                 chenxiao_test_1      O  \n",
       "2                                        fixIssue      C  \n",
       "3                                      Jekk_Test1      O  \n",
       "4                                           test4      C  \n",
       "..                                            ...    ...  \n",
       "210                                       qqqqqqq      O  \n",
       "211                                        333333      C  \n",
       "212                                       2222222      C  \n",
       "213                                         44444      C  \n",
       "214  Notebook API proj 2021-07-15T19:15:31.267660      O  \n",
       "\n",
       "[215 rows x 3 columns]"
      ],
      "text/html": "<div>\n<style scoped>\n    .dataframe tbody tr th:only-of-type {\n        vertical-align: middle;\n    }\n\n    .dataframe tbody tr th {\n        vertical-align: top;\n    }\n\n    .dataframe thead th {\n        text-align: right;\n    }\n</style>\n<table border=\"1\" class=\"dataframe\">\n  <thead>\n    <tr style=\"text-align: right;\">\n      <th></th>\n      <th>id</th>\n      <th>name</th>\n      <th>status</th>\n    </tr>\n  </thead>\n  <tbody>\n    <tr>\n      <th>0</th>\n      <td>5e013b69-d603-4f59-afee-ea2024392a28</td>\n      <td>Juni test project 3</td>\n      <td>O</td>\n    </tr>\n    <tr>\n      <th>1</th>\n      <td>8687a39a-ab90-4dbc-b3e3-f6ab8a1b89c6</td>\n      <td>chenxiao_test_1</td>\n      <td>O</td>\n    </tr>\n    <tr>\n      <th>2</th>\n      <td>2495d431-04c8-4550-bd63-d8d3bc9cacbc</td>\n      <td>fixIssue</td>\n      <td>C</td>\n    </tr>\n    <tr>\n      <th>3</th>\n      <td>4f5798c4-75f1-4a88-acd0-8ece2acc4b65</td>\n      <td>Jekk_Test1</td>\n      <td>O</td>\n    </tr>\n    <tr>\n      <th>4</th>\n      <td>8719b16c-9911-4682-a1d3-1699599fa081</td>\n      <td>test4</td>\n      <td>C</td>\n    </tr>\n    <tr>\n      <th>...</th>\n      <td>...</td>\n      <td>...</td>\n      <td>...</td>\n    </tr>\n    <tr>\n      <th>210</th>\n      <td>fcadf2d6-127a-4830-bd06-f7cb0ab31e87</td>\n      <td>qqqqqqq</td>\n      <td>O</td>\n    </tr>\n    <tr>\n      <th>211</th>\n      <td>68ed870f-3427-48ef-9d6c-861167106532</td>\n      <td>333333</td>\n      <td>C</td>\n    </tr>\n    <tr>\n      <th>212</th>\n      <td>83903145-23c1-4f32-b0ce-e30a20bd83c0</td>\n      <td>2222222</td>\n      <td>C</td>\n    </tr>\n    <tr>\n      <th>213</th>\n      <td>f05ce3ad-73ee-48a2-956e-00171ac54d85</td>\n      <td>44444</td>\n      <td>C</td>\n    </tr>\n    <tr>\n      <th>214</th>\n      <td>f78e43b8-ba14-4d03-88e4-3e86bc1597b5</td>\n      <td>Notebook API proj 2021-07-15T19:15:31.267660</td>\n      <td>O</td>\n    </tr>\n  </tbody>\n</table>\n<p>215 rows × 3 columns</p>\n</div>"
     },
     "metadata": {},
     "execution_count": 78
    }
   ],
   "source": [
    "import pandas as pd\n",
    "\n",
    "df = pd.json_normalize(response.json())\n",
    "\n",
    "df"
   ]
  },
  {
   "source": [
    "### Example Pie Chart from dataframe\n",
    "\n",
    "This uses the built-in matplotlib functions from pandas: https://pandas.pydata.org/pandas-docs/stable/user_guide/visualization.html\n",
    "\n",
    "matplotlib should have been installed as a dependency of pandas. If not, you may need to install it separately."
   ],
   "cell_type": "markdown",
   "metadata": {}
  },
  {
   "cell_type": "code",
   "execution_count": 79,
   "metadata": {},
   "outputs": [
    {
     "output_type": "execute_result",
     "data": {
      "text/plain": [
       "<AxesSubplot:title={'center':'Open and Hidden Projects'}, ylabel='status'>"
      ]
     },
     "metadata": {},
     "execution_count": 79
    },
    {
     "output_type": "display_data",
     "data": {
      "text/plain": "<Figure size 432x288 with 1 Axes>",
      "image/svg+xml": "<?xml version=\"1.0\" encoding=\"utf-8\" standalone=\"no\"?>\r\n<!DOCTYPE svg PUBLIC \"-//W3C//DTD SVG 1.1//EN\"\r\n  \"http://www.w3.org/Graphics/SVG/1.1/DTD/svg11.dtd\">\r\n<!-- Created with matplotlib (https://matplotlib.org/) -->\r\n<svg height=\"246.958125pt\" version=\"1.1\" viewBox=\"0 0 245.518125 246.958125\" width=\"245.518125pt\" xmlns=\"http://www.w3.org/2000/svg\" xmlns:xlink=\"http://www.w3.org/1999/xlink\">\r\n <metadata>\r\n  <rdf:RDF xmlns:cc=\"http://creativecommons.org/ns#\" xmlns:dc=\"http://purl.org/dc/elements/1.1/\" xmlns:rdf=\"http://www.w3.org/1999/02/22-rdf-syntax-ns#\">\r\n   <cc:Work>\r\n    <dc:type rdf:resource=\"http://purl.org/dc/dcmitype/StillImage\"/>\r\n    <dc:date>2021-07-16T10:32:44.696782</dc:date>\r\n    <dc:format>image/svg+xml</dc:format>\r\n    <dc:creator>\r\n     <cc:Agent>\r\n      <dc:title>Matplotlib v3.3.1, https://matplotlib.org/</dc:title>\r\n     </cc:Agent>\r\n    </dc:creator>\r\n   </cc:Work>\r\n  </rdf:RDF>\r\n </metadata>\r\n <defs>\r\n  <style type=\"text/css\">*{stroke-linecap:butt;stroke-linejoin:round;}</style>\r\n </defs>\r\n <g id=\"figure_1\">\r\n  <g id=\"patch_1\">\r\n   <path d=\"M 0 246.958125 \r\nL 245.518125 246.958125 \r\nL 245.518125 0 \r\nL 0 0 \r\nz\r\n\" style=\"fill:none;\"/>\r\n  </g>\r\n  <g id=\"axes_1\">\r\n   <g id=\"patch_2\">\r\n    <path d=\"M 216.574125 131.038125 \r\nC 216.574125 115.484486 212.402014 100.211899 204.494351 86.818447 \r\nC 196.586688 73.424995 185.229253 62.394714 171.610459 54.881783 \r\nC 157.991664 47.368852 142.60369 43.644787 127.056692 44.099263 \r\nC 111.509694 44.553739 96.365537 49.170333 83.208866 57.465975 \r\nC 70.052194 65.761618 59.358486 77.436507 52.246704 91.269014 \r\nC 45.134921 105.10152 41.862082 120.591741 42.770646 136.118821 \r\nC 43.679211 151.6459 48.736344 166.648694 57.412881 179.55735 \r\nC 66.089419 192.466005 78.071792 202.814008 92.106198 209.518568 \r\nL 129.598125 131.038125 \r\nL 216.574125 131.038125 \r\nz\r\n\" style=\"fill:#1f77b4;\"/>\r\n   </g>\r\n   <g id=\"patch_3\">\r\n    <path d=\"M 92.106198 209.518568 \r\nC 105.363369 215.851826 120.011641 218.723852 134.678821 217.865604 \r\nC 149.346 217.007356 163.559338 212.446499 175.987384 204.610275 \r\nC 188.415431 196.77405 198.657607 185.915035 205.754467 173.050459 \r\nC 212.851327 160.185882 216.574125 145.730393 216.574125 131.038125 \r\nL 129.598125 131.038125 \r\nL 92.106198 209.518568 \r\nz\r\n\" style=\"fill:#ff7f0e;\"/>\r\n   </g>\r\n   <g id=\"matplotlib.axis_1\"/>\r\n   <g id=\"matplotlib.axis_2\">\r\n    <g id=\"text_1\">\r\n     <!-- status -->\r\n     <g transform=\"translate(14.798438 146.400625)rotate(-90)scale(0.1 -0.1)\">\r\n      <defs>\r\n       <path d=\"M 44.28125 53.078125 \r\nL 44.28125 44.578125 \r\nQ 40.484375 46.53125 36.375 47.5 \r\nQ 32.28125 48.484375 27.875 48.484375 \r\nQ 21.1875 48.484375 17.84375 46.4375 \r\nQ 14.5 44.390625 14.5 40.28125 \r\nQ 14.5 37.15625 16.890625 35.375 \r\nQ 19.28125 33.59375 26.515625 31.984375 \r\nL 29.59375 31.296875 \r\nQ 39.15625 29.25 43.1875 25.515625 \r\nQ 47.21875 21.78125 47.21875 15.09375 \r\nQ 47.21875 7.46875 41.1875 3.015625 \r\nQ 35.15625 -1.421875 24.609375 -1.421875 \r\nQ 20.21875 -1.421875 15.453125 -0.5625 \r\nQ 10.6875 0.296875 5.421875 2 \r\nL 5.421875 11.28125 \r\nQ 10.40625 8.6875 15.234375 7.390625 \r\nQ 20.0625 6.109375 24.8125 6.109375 \r\nQ 31.15625 6.109375 34.5625 8.28125 \r\nQ 37.984375 10.453125 37.984375 14.40625 \r\nQ 37.984375 18.0625 35.515625 20.015625 \r\nQ 33.0625 21.96875 24.703125 23.78125 \r\nL 21.578125 24.515625 \r\nQ 13.234375 26.265625 9.515625 29.90625 \r\nQ 5.8125 33.546875 5.8125 39.890625 \r\nQ 5.8125 47.609375 11.28125 51.796875 \r\nQ 16.75 56 26.8125 56 \r\nQ 31.78125 56 36.171875 55.265625 \r\nQ 40.578125 54.546875 44.28125 53.078125 \r\nz\r\n\" id=\"DejaVuSans-115\"/>\r\n       <path d=\"M 18.3125 70.21875 \r\nL 18.3125 54.6875 \r\nL 36.8125 54.6875 \r\nL 36.8125 47.703125 \r\nL 18.3125 47.703125 \r\nL 18.3125 18.015625 \r\nQ 18.3125 11.328125 20.140625 9.421875 \r\nQ 21.96875 7.515625 27.59375 7.515625 \r\nL 36.8125 7.515625 \r\nL 36.8125 0 \r\nL 27.59375 0 \r\nQ 17.1875 0 13.234375 3.875 \r\nQ 9.28125 7.765625 9.28125 18.015625 \r\nL 9.28125 47.703125 \r\nL 2.6875 47.703125 \r\nL 2.6875 54.6875 \r\nL 9.28125 54.6875 \r\nL 9.28125 70.21875 \r\nz\r\n\" id=\"DejaVuSans-116\"/>\r\n       <path d=\"M 34.28125 27.484375 \r\nQ 23.390625 27.484375 19.1875 25 \r\nQ 14.984375 22.515625 14.984375 16.5 \r\nQ 14.984375 11.71875 18.140625 8.90625 \r\nQ 21.296875 6.109375 26.703125 6.109375 \r\nQ 34.1875 6.109375 38.703125 11.40625 \r\nQ 43.21875 16.703125 43.21875 25.484375 \r\nL 43.21875 27.484375 \r\nz\r\nM 52.203125 31.203125 \r\nL 52.203125 0 \r\nL 43.21875 0 \r\nL 43.21875 8.296875 \r\nQ 40.140625 3.328125 35.546875 0.953125 \r\nQ 30.953125 -1.421875 24.3125 -1.421875 \r\nQ 15.921875 -1.421875 10.953125 3.296875 \r\nQ 6 8.015625 6 15.921875 \r\nQ 6 25.140625 12.171875 29.828125 \r\nQ 18.359375 34.515625 30.609375 34.515625 \r\nL 43.21875 34.515625 \r\nL 43.21875 35.40625 \r\nQ 43.21875 41.609375 39.140625 45 \r\nQ 35.0625 48.390625 27.6875 48.390625 \r\nQ 23 48.390625 18.546875 47.265625 \r\nQ 14.109375 46.140625 10.015625 43.890625 \r\nL 10.015625 52.203125 \r\nQ 14.9375 54.109375 19.578125 55.046875 \r\nQ 24.21875 56 28.609375 56 \r\nQ 40.484375 56 46.34375 49.84375 \r\nQ 52.203125 43.703125 52.203125 31.203125 \r\nz\r\n\" id=\"DejaVuSans-97\"/>\r\n       <path d=\"M 8.5 21.578125 \r\nL 8.5 54.6875 \r\nL 17.484375 54.6875 \r\nL 17.484375 21.921875 \r\nQ 17.484375 14.15625 20.5 10.265625 \r\nQ 23.53125 6.390625 29.59375 6.390625 \r\nQ 36.859375 6.390625 41.078125 11.03125 \r\nQ 45.3125 15.671875 45.3125 23.6875 \r\nL 45.3125 54.6875 \r\nL 54.296875 54.6875 \r\nL 54.296875 0 \r\nL 45.3125 0 \r\nL 45.3125 8.40625 \r\nQ 42.046875 3.421875 37.71875 1 \r\nQ 33.40625 -1.421875 27.6875 -1.421875 \r\nQ 18.265625 -1.421875 13.375 4.4375 \r\nQ 8.5 10.296875 8.5 21.578125 \r\nz\r\nM 31.109375 56 \r\nz\r\n\" id=\"DejaVuSans-117\"/>\r\n      </defs>\r\n      <use xlink:href=\"#DejaVuSans-115\"/>\r\n      <use x=\"52.099609\" xlink:href=\"#DejaVuSans-116\"/>\r\n      <use x=\"91.308594\" xlink:href=\"#DejaVuSans-97\"/>\r\n      <use x=\"152.587891\" xlink:href=\"#DejaVuSans-116\"/>\r\n      <use x=\"191.796875\" xlink:href=\"#DejaVuSans-117\"/>\r\n      <use x=\"255.175781\" xlink:href=\"#DejaVuSans-115\"/>\r\n     </g>\r\n    </g>\r\n   </g>\r\n   <g id=\"text_2\">\r\n    <!-- C -->\r\n    <g transform=\"translate(71.587127 52.868135)scale(0.1 -0.1)\">\r\n     <defs>\r\n      <path d=\"M 64.40625 67.28125 \r\nL 64.40625 56.890625 \r\nQ 59.421875 61.53125 53.78125 63.8125 \r\nQ 48.140625 66.109375 41.796875 66.109375 \r\nQ 29.296875 66.109375 22.65625 58.46875 \r\nQ 16.015625 50.828125 16.015625 36.375 \r\nQ 16.015625 21.96875 22.65625 14.328125 \r\nQ 29.296875 6.6875 41.796875 6.6875 \r\nQ 48.140625 6.6875 53.78125 8.984375 \r\nQ 59.421875 11.28125 64.40625 15.921875 \r\nL 64.40625 5.609375 \r\nQ 59.234375 2.09375 53.4375 0.328125 \r\nQ 47.65625 -1.421875 41.21875 -1.421875 \r\nQ 24.65625 -1.421875 15.125 8.703125 \r\nQ 5.609375 18.84375 5.609375 36.375 \r\nQ 5.609375 53.953125 15.125 64.078125 \r\nQ 24.65625 74.21875 41.21875 74.21875 \r\nQ 47.75 74.21875 53.53125 72.484375 \r\nQ 59.328125 70.75 64.40625 67.28125 \r\nz\r\n\" id=\"DejaVuSans-67\"/>\r\n     </defs>\r\n     <use xlink:href=\"#DejaVuSans-67\"/>\r\n    </g>\r\n   </g>\r\n   <g id=\"text_3\">\r\n    <!-- O -->\r\n    <g transform=\"translate(180.62631 214.726865)scale(0.1 -0.1)\">\r\n     <defs>\r\n      <path d=\"M 39.40625 66.21875 \r\nQ 28.65625 66.21875 22.328125 58.203125 \r\nQ 16.015625 50.203125 16.015625 36.375 \r\nQ 16.015625 22.609375 22.328125 14.59375 \r\nQ 28.65625 6.59375 39.40625 6.59375 \r\nQ 50.140625 6.59375 56.421875 14.59375 \r\nQ 62.703125 22.609375 62.703125 36.375 \r\nQ 62.703125 50.203125 56.421875 58.203125 \r\nQ 50.140625 66.21875 39.40625 66.21875 \r\nz\r\nM 39.40625 74.21875 \r\nQ 54.734375 74.21875 63.90625 63.9375 \r\nQ 73.09375 53.65625 73.09375 36.375 \r\nQ 73.09375 19.140625 63.90625 8.859375 \r\nQ 54.734375 -1.421875 39.40625 -1.421875 \r\nQ 24.03125 -1.421875 14.8125 8.828125 \r\nQ 5.609375 19.09375 5.609375 36.375 \r\nQ 5.609375 53.65625 14.8125 63.9375 \r\nQ 24.03125 74.21875 39.40625 74.21875 \r\nz\r\n\" id=\"DejaVuSans-79\"/>\r\n     </defs>\r\n     <use xlink:href=\"#DejaVuSans-79\"/>\r\n    </g>\r\n   </g>\r\n   <g id=\"text_4\">\r\n    <!-- Open and Hidden Projects -->\r\n    <g transform=\"translate(51.619688 16.318125)scale(0.12 -0.12)\">\r\n     <defs>\r\n      <path d=\"M 18.109375 8.203125 \r\nL 18.109375 -20.796875 \r\nL 9.078125 -20.796875 \r\nL 9.078125 54.6875 \r\nL 18.109375 54.6875 \r\nL 18.109375 46.390625 \r\nQ 20.953125 51.265625 25.265625 53.625 \r\nQ 29.59375 56 35.59375 56 \r\nQ 45.5625 56 51.78125 48.09375 \r\nQ 58.015625 40.1875 58.015625 27.296875 \r\nQ 58.015625 14.40625 51.78125 6.484375 \r\nQ 45.5625 -1.421875 35.59375 -1.421875 \r\nQ 29.59375 -1.421875 25.265625 0.953125 \r\nQ 20.953125 3.328125 18.109375 8.203125 \r\nz\r\nM 48.6875 27.296875 \r\nQ 48.6875 37.203125 44.609375 42.84375 \r\nQ 40.53125 48.484375 33.40625 48.484375 \r\nQ 26.265625 48.484375 22.1875 42.84375 \r\nQ 18.109375 37.203125 18.109375 27.296875 \r\nQ 18.109375 17.390625 22.1875 11.75 \r\nQ 26.265625 6.109375 33.40625 6.109375 \r\nQ 40.53125 6.109375 44.609375 11.75 \r\nQ 48.6875 17.390625 48.6875 27.296875 \r\nz\r\n\" id=\"DejaVuSans-112\"/>\r\n      <path d=\"M 56.203125 29.59375 \r\nL 56.203125 25.203125 \r\nL 14.890625 25.203125 \r\nQ 15.484375 15.921875 20.484375 11.0625 \r\nQ 25.484375 6.203125 34.421875 6.203125 \r\nQ 39.59375 6.203125 44.453125 7.46875 \r\nQ 49.3125 8.734375 54.109375 11.28125 \r\nL 54.109375 2.78125 \r\nQ 49.265625 0.734375 44.1875 -0.34375 \r\nQ 39.109375 -1.421875 33.890625 -1.421875 \r\nQ 20.796875 -1.421875 13.15625 6.1875 \r\nQ 5.515625 13.8125 5.515625 26.8125 \r\nQ 5.515625 40.234375 12.765625 48.109375 \r\nQ 20.015625 56 32.328125 56 \r\nQ 43.359375 56 49.78125 48.890625 \r\nQ 56.203125 41.796875 56.203125 29.59375 \r\nz\r\nM 47.21875 32.234375 \r\nQ 47.125 39.59375 43.09375 43.984375 \r\nQ 39.0625 48.390625 32.421875 48.390625 \r\nQ 24.90625 48.390625 20.390625 44.140625 \r\nQ 15.875 39.890625 15.1875 32.171875 \r\nz\r\n\" id=\"DejaVuSans-101\"/>\r\n      <path d=\"M 54.890625 33.015625 \r\nL 54.890625 0 \r\nL 45.90625 0 \r\nL 45.90625 32.71875 \r\nQ 45.90625 40.484375 42.875 44.328125 \r\nQ 39.84375 48.1875 33.796875 48.1875 \r\nQ 26.515625 48.1875 22.3125 43.546875 \r\nQ 18.109375 38.921875 18.109375 30.90625 \r\nL 18.109375 0 \r\nL 9.078125 0 \r\nL 9.078125 54.6875 \r\nL 18.109375 54.6875 \r\nL 18.109375 46.1875 \r\nQ 21.34375 51.125 25.703125 53.5625 \r\nQ 30.078125 56 35.796875 56 \r\nQ 45.21875 56 50.046875 50.171875 \r\nQ 54.890625 44.34375 54.890625 33.015625 \r\nz\r\n\" id=\"DejaVuSans-110\"/>\r\n      <path id=\"DejaVuSans-32\"/>\r\n      <path d=\"M 45.40625 46.390625 \r\nL 45.40625 75.984375 \r\nL 54.390625 75.984375 \r\nL 54.390625 0 \r\nL 45.40625 0 \r\nL 45.40625 8.203125 \r\nQ 42.578125 3.328125 38.25 0.953125 \r\nQ 33.9375 -1.421875 27.875 -1.421875 \r\nQ 17.96875 -1.421875 11.734375 6.484375 \r\nQ 5.515625 14.40625 5.515625 27.296875 \r\nQ 5.515625 40.1875 11.734375 48.09375 \r\nQ 17.96875 56 27.875 56 \r\nQ 33.9375 56 38.25 53.625 \r\nQ 42.578125 51.265625 45.40625 46.390625 \r\nz\r\nM 14.796875 27.296875 \r\nQ 14.796875 17.390625 18.875 11.75 \r\nQ 22.953125 6.109375 30.078125 6.109375 \r\nQ 37.203125 6.109375 41.296875 11.75 \r\nQ 45.40625 17.390625 45.40625 27.296875 \r\nQ 45.40625 37.203125 41.296875 42.84375 \r\nQ 37.203125 48.484375 30.078125 48.484375 \r\nQ 22.953125 48.484375 18.875 42.84375 \r\nQ 14.796875 37.203125 14.796875 27.296875 \r\nz\r\n\" id=\"DejaVuSans-100\"/>\r\n      <path d=\"M 9.8125 72.90625 \r\nL 19.671875 72.90625 \r\nL 19.671875 43.015625 \r\nL 55.515625 43.015625 \r\nL 55.515625 72.90625 \r\nL 65.375 72.90625 \r\nL 65.375 0 \r\nL 55.515625 0 \r\nL 55.515625 34.71875 \r\nL 19.671875 34.71875 \r\nL 19.671875 0 \r\nL 9.8125 0 \r\nz\r\n\" id=\"DejaVuSans-72\"/>\r\n      <path d=\"M 9.421875 54.6875 \r\nL 18.40625 54.6875 \r\nL 18.40625 0 \r\nL 9.421875 0 \r\nz\r\nM 9.421875 75.984375 \r\nL 18.40625 75.984375 \r\nL 18.40625 64.59375 \r\nL 9.421875 64.59375 \r\nz\r\n\" id=\"DejaVuSans-105\"/>\r\n      <path d=\"M 19.671875 64.796875 \r\nL 19.671875 37.40625 \r\nL 32.078125 37.40625 \r\nQ 38.96875 37.40625 42.71875 40.96875 \r\nQ 46.484375 44.53125 46.484375 51.125 \r\nQ 46.484375 57.671875 42.71875 61.234375 \r\nQ 38.96875 64.796875 32.078125 64.796875 \r\nz\r\nM 9.8125 72.90625 \r\nL 32.078125 72.90625 \r\nQ 44.34375 72.90625 50.609375 67.359375 \r\nQ 56.890625 61.8125 56.890625 51.125 \r\nQ 56.890625 40.328125 50.609375 34.8125 \r\nQ 44.34375 29.296875 32.078125 29.296875 \r\nL 19.671875 29.296875 \r\nL 19.671875 0 \r\nL 9.8125 0 \r\nz\r\n\" id=\"DejaVuSans-80\"/>\r\n      <path d=\"M 41.109375 46.296875 \r\nQ 39.59375 47.171875 37.8125 47.578125 \r\nQ 36.03125 48 33.890625 48 \r\nQ 26.265625 48 22.1875 43.046875 \r\nQ 18.109375 38.09375 18.109375 28.8125 \r\nL 18.109375 0 \r\nL 9.078125 0 \r\nL 9.078125 54.6875 \r\nL 18.109375 54.6875 \r\nL 18.109375 46.1875 \r\nQ 20.953125 51.171875 25.484375 53.578125 \r\nQ 30.03125 56 36.53125 56 \r\nQ 37.453125 56 38.578125 55.875 \r\nQ 39.703125 55.765625 41.0625 55.515625 \r\nz\r\n\" id=\"DejaVuSans-114\"/>\r\n      <path d=\"M 30.609375 48.390625 \r\nQ 23.390625 48.390625 19.1875 42.75 \r\nQ 14.984375 37.109375 14.984375 27.296875 \r\nQ 14.984375 17.484375 19.15625 11.84375 \r\nQ 23.34375 6.203125 30.609375 6.203125 \r\nQ 37.796875 6.203125 41.984375 11.859375 \r\nQ 46.1875 17.53125 46.1875 27.296875 \r\nQ 46.1875 37.015625 41.984375 42.703125 \r\nQ 37.796875 48.390625 30.609375 48.390625 \r\nz\r\nM 30.609375 56 \r\nQ 42.328125 56 49.015625 48.375 \r\nQ 55.71875 40.765625 55.71875 27.296875 \r\nQ 55.71875 13.875 49.015625 6.21875 \r\nQ 42.328125 -1.421875 30.609375 -1.421875 \r\nQ 18.84375 -1.421875 12.171875 6.21875 \r\nQ 5.515625 13.875 5.515625 27.296875 \r\nQ 5.515625 40.765625 12.171875 48.375 \r\nQ 18.84375 56 30.609375 56 \r\nz\r\n\" id=\"DejaVuSans-111\"/>\r\n      <path d=\"M 9.421875 54.6875 \r\nL 18.40625 54.6875 \r\nL 18.40625 -0.984375 \r\nQ 18.40625 -11.421875 14.421875 -16.109375 \r\nQ 10.453125 -20.796875 1.609375 -20.796875 \r\nL -1.8125 -20.796875 \r\nL -1.8125 -13.1875 \r\nL 0.59375 -13.1875 \r\nQ 5.71875 -13.1875 7.5625 -10.8125 \r\nQ 9.421875 -8.453125 9.421875 -0.984375 \r\nz\r\nM 9.421875 75.984375 \r\nL 18.40625 75.984375 \r\nL 18.40625 64.59375 \r\nL 9.421875 64.59375 \r\nz\r\n\" id=\"DejaVuSans-106\"/>\r\n      <path d=\"M 48.78125 52.59375 \r\nL 48.78125 44.1875 \r\nQ 44.96875 46.296875 41.140625 47.34375 \r\nQ 37.3125 48.390625 33.40625 48.390625 \r\nQ 24.65625 48.390625 19.8125 42.84375 \r\nQ 14.984375 37.3125 14.984375 27.296875 \r\nQ 14.984375 17.28125 19.8125 11.734375 \r\nQ 24.65625 6.203125 33.40625 6.203125 \r\nQ 37.3125 6.203125 41.140625 7.25 \r\nQ 44.96875 8.296875 48.78125 10.40625 \r\nL 48.78125 2.09375 \r\nQ 45.015625 0.34375 40.984375 -0.53125 \r\nQ 36.96875 -1.421875 32.421875 -1.421875 \r\nQ 20.0625 -1.421875 12.78125 6.34375 \r\nQ 5.515625 14.109375 5.515625 27.296875 \r\nQ 5.515625 40.671875 12.859375 48.328125 \r\nQ 20.21875 56 33.015625 56 \r\nQ 37.15625 56 41.109375 55.140625 \r\nQ 45.0625 54.296875 48.78125 52.59375 \r\nz\r\n\" id=\"DejaVuSans-99\"/>\r\n     </defs>\r\n     <use xlink:href=\"#DejaVuSans-79\"/>\r\n     <use x=\"78.710938\" xlink:href=\"#DejaVuSans-112\"/>\r\n     <use x=\"142.1875\" xlink:href=\"#DejaVuSans-101\"/>\r\n     <use x=\"203.710938\" xlink:href=\"#DejaVuSans-110\"/>\r\n     <use x=\"267.089844\" xlink:href=\"#DejaVuSans-32\"/>\r\n     <use x=\"298.876953\" xlink:href=\"#DejaVuSans-97\"/>\r\n     <use x=\"360.15625\" xlink:href=\"#DejaVuSans-110\"/>\r\n     <use x=\"423.535156\" xlink:href=\"#DejaVuSans-100\"/>\r\n     <use x=\"487.011719\" xlink:href=\"#DejaVuSans-32\"/>\r\n     <use x=\"518.798828\" xlink:href=\"#DejaVuSans-72\"/>\r\n     <use x=\"593.994141\" xlink:href=\"#DejaVuSans-105\"/>\r\n     <use x=\"621.777344\" xlink:href=\"#DejaVuSans-100\"/>\r\n     <use x=\"685.253906\" xlink:href=\"#DejaVuSans-100\"/>\r\n     <use x=\"748.730469\" xlink:href=\"#DejaVuSans-101\"/>\r\n     <use x=\"810.253906\" xlink:href=\"#DejaVuSans-110\"/>\r\n     <use x=\"873.632812\" xlink:href=\"#DejaVuSans-32\"/>\r\n     <use x=\"905.419922\" xlink:href=\"#DejaVuSans-80\"/>\r\n     <use x=\"963.972656\" xlink:href=\"#DejaVuSans-114\"/>\r\n     <use x=\"1002.835938\" xlink:href=\"#DejaVuSans-111\"/>\r\n     <use x=\"1064.017578\" xlink:href=\"#DejaVuSans-106\"/>\r\n     <use x=\"1091.800781\" xlink:href=\"#DejaVuSans-101\"/>\r\n     <use x=\"1153.324219\" xlink:href=\"#DejaVuSans-99\"/>\r\n     <use x=\"1208.304688\" xlink:href=\"#DejaVuSans-116\"/>\r\n     <use x=\"1247.513672\" xlink:href=\"#DejaVuSans-115\"/>\r\n    </g>\r\n   </g>\r\n  </g>\r\n </g>\r\n</svg>\r\n",
      "image/png": "[encoded data removed]"
     },
     "metadata": {}
    }
   ],
   "source": [
    "df.status.value_counts().plot.pie(title=\"Open and Hidden Projects\")"
   ]
  },
  {
   "source": [
    "## Get a Project Name \n",
    "\n",
    "You may wish to adjust the code below to set a project name of your choosing, for example 'My API Test Project'. In this sample, we'll just take the first project in the list.\n"
   ],
   "cell_type": "markdown",
   "metadata": {}
  },
  {
   "cell_type": "code",
   "execution_count": 80,
   "metadata": {},
   "outputs": [
    {
     "output_type": "execute_result",
     "data": {
      "text/plain": [
       "'Juni test project 3'"
      ]
     },
     "metadata": {},
     "execution_count": 80
    }
   ],
   "source": [
    "sample_project_name = df.iloc[0]['name'] # First project in the list\n",
    "sample_project_name"
   ]
  },
  {
   "source": [
    "## Get ID of a Selected Project\n",
    "\n",
    "Read ID of project 'Show & Tell 2021-Apr-30' from dataframe"
   ],
   "cell_type": "markdown",
   "metadata": {}
  },
  {
   "cell_type": "code",
   "execution_count": 81,
   "metadata": {},
   "outputs": [
    {
     "output_type": "stream",
     "name": "stdout",
     "text": [
      "Project: Juni test project 3 ID: 5e013b69-d603-4f59-afee-ea2024392a28\n"
     ]
    }
   ],
   "source": [
    "stPrjID = df.loc[df['name'] == sample_project_name]\n",
    "show_tell_prj = stPrjID['id'].values[0]\n",
    "print('Project:', stPrjID['name'].values[0], 'ID:', show_tell_prj)"
   ]
  },
  {
   "source": [
    "## Read Task list from selected project\n",
    "\n",
    "Use GET request from tasks API with selected project ID as input parameter.\n",
    "\n",
    "Expected response \"200 OK\""
   ],
   "cell_type": "markdown",
   "metadata": {}
  },
  {
   "cell_type": "code",
   "execution_count": 82,
   "metadata": {},
   "outputs": [
    {
     "output_type": "stream",
     "name": "stdout",
     "text": [
      "200 OK\n"
     ]
    }
   ],
   "source": [
    "taskURL = base_url + '/api/calm-tasks/v1/tasks?projectId=' + show_tell_prj\n",
    "\n",
    "response = requests.get(taskURL, headers=hed)\n",
    "\n",
    "print(response.status_code, response.reason)"
   ]
  },
  {
   "source": [
    "### Parse project task list JSON into dataframe"
   ],
   "cell_type": "markdown",
   "metadata": {}
  },
  {
   "cell_type": "code",
   "execution_count": 83,
   "metadata": {},
   "outputs": [
    {
     "output_type": "execute_result",
     "data": {
      "text/plain": [
       "                                      id  \\\n",
       "0   067e1f6f-1bbd-43f7-96f1-be55c9bb826b   \n",
       "1   0fe3e334-b3f8-4732-8775-7e9453473a79   \n",
       "2   10db3d59-5804-4bdc-bb76-8a701ac3ad7f   \n",
       "3   12090cd1-da8c-4119-a81b-8217808e9c8a   \n",
       "4   18273093-b19c-4aed-993f-045887ab9f1a   \n",
       "5   1b070666-0fa6-458a-9c8d-5bd1449e5c93   \n",
       "6   2a810cde-99d3-4220-886b-8f982ebe2dd4   \n",
       "7   3c9071a6-b902-409d-97d3-1ce9d547844e   \n",
       "8   40d6d100-c349-4be1-bc9a-d6f24db45c31   \n",
       "9   420d97eb-0cf4-4fa4-856a-67cfa4775605   \n",
       "10  42f2a962-a9c1-420d-8b84-599f90cc7411   \n",
       "11  5cb9cb0e-14c3-4da5-be41-3346c0eeea27   \n",
       "12  5f7b0fcd-0ed0-484b-ba6e-830b6d368919   \n",
       "13  8f46e28c-25ca-495e-bc14-a6af666adeb8   \n",
       "14  ab6ac9ca-c7fc-423c-83db-6979e43029b7   \n",
       "15  af321e43-c422-4e5b-a6df-4722e98f778e   \n",
       "16  d4167de5-56d5-4e98-85d4-5ce22c95af48   \n",
       "17  d9556746-77e2-4457-a0d0-e40880e3390b   \n",
       "18  dad0a23c-88c4-47bd-a05c-74458045c76b   \n",
       "19  dad3bf58-3ce7-4238-8940-339c19f1a45c   \n",
       "20  f4a2e199-51d3-4122-9f6e-c19b96aed4c3   \n",
       "21  f717a6c8-b6ca-4aea-974d-908ffc4c3da4   \n",
       "22  2fab0a7c-b132-4f4c-890c-228deacc9dd4   \n",
       "23  0514925f-268c-470c-9782-08f323208e47   \n",
       "24  b1706e88-4b57-4d4d-bdda-f607d8dccf7c   \n",
       "25  a2ae2f52-4fa4-47cd-9381-cf74ba62c6a6   \n",
       "26  44b3d90b-bae3-4a24-95b0-f48a965e374c   \n",
       "27  bb557389-d8dd-4f79-a8c1-1dd752e09e40   \n",
       "\n",
       "                               projectId  \\\n",
       "0   5e013b69-d603-4f59-afee-ea2024392a28   \n",
       "1   5e013b69-d603-4f59-afee-ea2024392a28   \n",
       "2   5e013b69-d603-4f59-afee-ea2024392a28   \n",
       "3   5e013b69-d603-4f59-afee-ea2024392a28   \n",
       "4   5e013b69-d603-4f59-afee-ea2024392a28   \n",
       "5   5e013b69-d603-4f59-afee-ea2024392a28   \n",
       "6   5e013b69-d603-4f59-afee-ea2024392a28   \n",
       "7   5e013b69-d603-4f59-afee-ea2024392a28   \n",
       "8   5e013b69-d603-4f59-afee-ea2024392a28   \n",
       "9   5e013b69-d603-4f59-afee-ea2024392a28   \n",
       "10  5e013b69-d603-4f59-afee-ea2024392a28   \n",
       "11  5e013b69-d603-4f59-afee-ea2024392a28   \n",
       "12  5e013b69-d603-4f59-afee-ea2024392a28   \n",
       "13  5e013b69-d603-4f59-afee-ea2024392a28   \n",
       "14  5e013b69-d603-4f59-afee-ea2024392a28   \n",
       "15  5e013b69-d603-4f59-afee-ea2024392a28   \n",
       "16  5e013b69-d603-4f59-afee-ea2024392a28   \n",
       "17  5e013b69-d603-4f59-afee-ea2024392a28   \n",
       "18  5e013b69-d603-4f59-afee-ea2024392a28   \n",
       "19  5e013b69-d603-4f59-afee-ea2024392a28   \n",
       "20  5e013b69-d603-4f59-afee-ea2024392a28   \n",
       "21  5e013b69-d603-4f59-afee-ea2024392a28   \n",
       "22  5e013b69-d603-4f59-afee-ea2024392a28   \n",
       "23  5e013b69-d603-4f59-afee-ea2024392a28   \n",
       "24  5e013b69-d603-4f59-afee-ea2024392a28   \n",
       "25  5e013b69-d603-4f59-afee-ea2024392a28   \n",
       "26  5e013b69-d603-4f59-afee-ea2024392a28   \n",
       "27  5e013b69-d603-4f59-afee-ea2024392a28   \n",
       "\n",
       "                                                title      type       status  \\\n",
       "0                    Review and Complete Requirements  CALMTMPL    CIPTKOPEN   \n",
       "1                      Confirm Scope and Requirements  CALMTMPL    CIPTKOPEN   \n",
       "2                  Subtask of &#39;Setup project&#39;    CALMST    CIPTKOPEN   \n",
       "3                                         User story1    CALMUS    CIPUSOPEN   \n",
       "4                                       Setup Project  CALMTMPL   CIPTKCLOSE   \n",
       "5                                              Task A  CALMTASK    CIPTKOPEN   \n",
       "6                                    Assign Landscape  CALMTMPL    CIPTKOPEN   \n",
       "7   Setup Central Business Configuration Integrati...  CALMTMPL    CIPTKOPEN   \n",
       "8                            Schedule Fit to Standard  CALMTMPL    CIPTKOPEN   \n",
       "9                                            Sub task    CALMST    CIPTKOPEN   \n",
       "10                            Conduct Fit to Standard  CALMTMPL    CIPTKOPEN   \n",
       "11                                    Test user story    CALMUS    CIPUSOPEN   \n",
       "12                       toast message save1111111111    CALMUS    CIPUSOPEN   \n",
       "13                                  Define Test Cases  CALMTMPL    CIPTKOPEN   \n",
       "14                 Subtask of &#39;Setup project&#39;    CALMST    CIPTKOPEN   \n",
       "15                 task has a timebox but no due date  CALMTASK    CIPTKOPEN   \n",
       "16                              Copy of Setup Project  CALMTASK    CIPTKOPEN   \n",
       "17  Create Scopes and Define Business Processes Scope  CALMTMPL    CIPTKOPEN   \n",
       "18                                Assign Team Members  CALMTMPL     CIPTKBLK   \n",
       "19  Approve Requirements by Generating Implementat...  CALMTMPL    CIPTKOPEN   \n",
       "20                    Sub-task of Task Name1111111111    CALMST    CIPTKOPEN   \n",
       "21  toast message111111111111111111111111111111111...  CALMTASK     CIPTKINP   \n",
       "22                          US from requirement 11111    CALMUS    CIPUSOPEN   \n",
       "23                                    test attachment  CALMTASK    CIPTKOPEN   \n",
       "24                                       111111111111  CALMREQU  CIPREQUOPEN   \n",
       "25  Requirement - review applications UI and UI Is...  CALMREQU  CIPREQUOPEN   \n",
       "26  Notebook API test task 2021-07-15T19:03:45.106244  CALMTASK    CIPTKOPEN   \n",
       "27  Notebook API test task 2021-07-15T19:06:25.238...  CALMTASK     CIPTKINP   \n",
       "\n",
       "   externalId     dueDate  \n",
       "0        None  2021-07-01  \n",
       "1        None  2021-09-02  \n",
       "2        None  2021-08-10  \n",
       "3        None  2021-07-23  \n",
       "4        None  2021-08-10  \n",
       "5        None  2021-09-02  \n",
       "6        None  2021-07-23  \n",
       "7        None  2021-07-01  \n",
       "8        None        None  \n",
       "9        None  2021-07-09  \n",
       "10       None  2021-07-01  \n",
       "11       None  2021-07-09  \n",
       "12       None  2021-09-02  \n",
       "13       None  2021-09-02  \n",
       "14       None  2021-08-10  \n",
       "15       None  2021-07-23  \n",
       "16       None  2021-08-10  \n",
       "17       None  2021-07-23  \n",
       "18       None  2021-07-23  \n",
       "19       None  2021-07-01  \n",
       "20       None  2021-07-23  \n",
       "21       None  2021-09-02  \n",
       "22       None  2021-09-02  \n",
       "23       None  2021-09-02  \n",
       "24       None  2021-09-02  \n",
       "25       None  2021-07-01  \n",
       "26       None  2021-07-23  \n",
       "27       None  2022-04-09  "
      ],
      "text/html": "<div>\n<style scoped>\n    .dataframe tbody tr th:only-of-type {\n        vertical-align: middle;\n    }\n\n    .dataframe tbody tr th {\n        vertical-align: top;\n    }\n\n    .dataframe thead th {\n        text-align: right;\n    }\n</style>\n<table border=\"1\" class=\"dataframe\">\n  <thead>\n    <tr style=\"text-align: right;\">\n      <th></th>\n      <th>id</th>\n      <th>projectId</th>\n      <th>title</th>\n      <th>type</th>\n      <th>status</th>\n      <th>externalId</th>\n      <th>dueDate</th>\n    </tr>\n  </thead>\n  <tbody>\n    <tr>\n      <th>0</th>\n      <td>067e1f6f-1bbd-43f7-96f1-be55c9bb826b</td>\n      <td>5e013b69-d603-4f59-afee-ea2024392a28</td>\n      <td>Review and Complete Requirements</td>\n      <td>CALMTMPL</td>\n      <td>CIPTKOPEN</td>\n      <td>None</td>\n      <td>2021-07-01</td>\n    </tr>\n    <tr>\n      <th>1</th>\n      <td>0fe3e334-b3f8-4732-8775-7e9453473a79</td>\n      <td>5e013b69-d603-4f59-afee-ea2024392a28</td>\n      <td>Confirm Scope and Requirements</td>\n      <td>CALMTMPL</td>\n      <td>CIPTKOPEN</td>\n      <td>None</td>\n      <td>2021-09-02</td>\n    </tr>\n    <tr>\n      <th>2</th>\n      <td>10db3d59-5804-4bdc-bb76-8a701ac3ad7f</td>\n      <td>5e013b69-d603-4f59-afee-ea2024392a28</td>\n      <td>Subtask of &amp;#39;Setup project&amp;#39;</td>\n      <td>CALMST</td>\n      <td>CIPTKOPEN</td>\n      <td>None</td>\n      <td>2021-08-10</td>\n    </tr>\n    <tr>\n      <th>3</th>\n      <td>12090cd1-da8c-4119-a81b-8217808e9c8a</td>\n      <td>5e013b69-d603-4f59-afee-ea2024392a28</td>\n      <td>User story1</td>\n      <td>CALMUS</td>\n      <td>CIPUSOPEN</td>\n      <td>None</td>\n      <td>2021-07-23</td>\n    </tr>\n    <tr>\n      <th>4</th>\n      <td>18273093-b19c-4aed-993f-045887ab9f1a</td>\n      <td>5e013b69-d603-4f59-afee-ea2024392a28</td>\n      <td>Setup Project</td>\n      <td>CALMTMPL</td>\n      <td>CIPTKCLOSE</td>\n      <td>None</td>\n      <td>2021-08-10</td>\n    </tr>\n    <tr>\n      <th>5</th>\n      <td>1b070666-0fa6-458a-9c8d-5bd1449e5c93</td>\n      <td>5e013b69-d603-4f59-afee-ea2024392a28</td>\n      <td>Task A</td>\n      <td>CALMTASK</td>\n      <td>CIPTKOPEN</td>\n      <td>None</td>\n      <td>2021-09-02</td>\n    </tr>\n    <tr>\n      <th>6</th>\n      <td>2a810cde-99d3-4220-886b-8f982ebe2dd4</td>\n      <td>5e013b69-d603-4f59-afee-ea2024392a28</td>\n      <td>Assign Landscape</td>\n      <td>CALMTMPL</td>\n      <td>CIPTKOPEN</td>\n      <td>None</td>\n      <td>2021-07-23</td>\n    </tr>\n    <tr>\n      <th>7</th>\n      <td>3c9071a6-b902-409d-97d3-1ce9d547844e</td>\n      <td>5e013b69-d603-4f59-afee-ea2024392a28</td>\n      <td>Setup Central Business Configuration Integrati...</td>\n      <td>CALMTMPL</td>\n      <td>CIPTKOPEN</td>\n      <td>None</td>\n      <td>2021-07-01</td>\n    </tr>\n    <tr>\n      <th>8</th>\n      <td>40d6d100-c349-4be1-bc9a-d6f24db45c31</td>\n      <td>5e013b69-d603-4f59-afee-ea2024392a28</td>\n      <td>Schedule Fit to Standard</td>\n      <td>CALMTMPL</td>\n      <td>CIPTKOPEN</td>\n      <td>None</td>\n      <td>None</td>\n    </tr>\n    <tr>\n      <th>9</th>\n      <td>420d97eb-0cf4-4fa4-856a-67cfa4775605</td>\n      <td>5e013b69-d603-4f59-afee-ea2024392a28</td>\n      <td>Sub task</td>\n      <td>CALMST</td>\n      <td>CIPTKOPEN</td>\n      <td>None</td>\n      <td>2021-07-09</td>\n    </tr>\n    <tr>\n      <th>10</th>\n      <td>42f2a962-a9c1-420d-8b84-599f90cc7411</td>\n      <td>5e013b69-d603-4f59-afee-ea2024392a28</td>\n      <td>Conduct Fit to Standard</td>\n      <td>CALMTMPL</td>\n      <td>CIPTKOPEN</td>\n      <td>None</td>\n      <td>2021-07-01</td>\n    </tr>\n    <tr>\n      <th>11</th>\n      <td>5cb9cb0e-14c3-4da5-be41-3346c0eeea27</td>\n      <td>5e013b69-d603-4f59-afee-ea2024392a28</td>\n      <td>Test user story</td>\n      <td>CALMUS</td>\n      <td>CIPUSOPEN</td>\n      <td>None</td>\n      <td>2021-07-09</td>\n    </tr>\n    <tr>\n      <th>12</th>\n      <td>5f7b0fcd-0ed0-484b-ba6e-830b6d368919</td>\n      <td>5e013b69-d603-4f59-afee-ea2024392a28</td>\n      <td>toast message save1111111111</td>\n      <td>CALMUS</td>\n      <td>CIPUSOPEN</td>\n      <td>None</td>\n      <td>2021-09-02</td>\n    </tr>\n    <tr>\n      <th>13</th>\n      <td>8f46e28c-25ca-495e-bc14-a6af666adeb8</td>\n      <td>5e013b69-d603-4f59-afee-ea2024392a28</td>\n      <td>Define Test Cases</td>\n      <td>CALMTMPL</td>\n      <td>CIPTKOPEN</td>\n      <td>None</td>\n      <td>2021-09-02</td>\n    </tr>\n    <tr>\n      <th>14</th>\n      <td>ab6ac9ca-c7fc-423c-83db-6979e43029b7</td>\n      <td>5e013b69-d603-4f59-afee-ea2024392a28</td>\n      <td>Subtask of &amp;#39;Setup project&amp;#39;</td>\n      <td>CALMST</td>\n      <td>CIPTKOPEN</td>\n      <td>None</td>\n      <td>2021-08-10</td>\n    </tr>\n    <tr>\n      <th>15</th>\n      <td>af321e43-c422-4e5b-a6df-4722e98f778e</td>\n      <td>5e013b69-d603-4f59-afee-ea2024392a28</td>\n      <td>task has a timebox but no due date</td>\n      <td>CALMTASK</td>\n      <td>CIPTKOPEN</td>\n      <td>None</td>\n      <td>2021-07-23</td>\n    </tr>\n    <tr>\n      <th>16</th>\n      <td>d4167de5-56d5-4e98-85d4-5ce22c95af48</td>\n      <td>5e013b69-d603-4f59-afee-ea2024392a28</td>\n      <td>Copy of Setup Project</td>\n      <td>CALMTASK</td>\n      <td>CIPTKOPEN</td>\n      <td>None</td>\n      <td>2021-08-10</td>\n    </tr>\n    <tr>\n      <th>17</th>\n      <td>d9556746-77e2-4457-a0d0-e40880e3390b</td>\n      <td>5e013b69-d603-4f59-afee-ea2024392a28</td>\n      <td>Create Scopes and Define Business Processes Scope</td>\n      <td>CALMTMPL</td>\n      <td>CIPTKOPEN</td>\n      <td>None</td>\n      <td>2021-07-23</td>\n    </tr>\n    <tr>\n      <th>18</th>\n      <td>dad0a23c-88c4-47bd-a05c-74458045c76b</td>\n      <td>5e013b69-d603-4f59-afee-ea2024392a28</td>\n      <td>Assign Team Members</td>\n      <td>CALMTMPL</td>\n      <td>CIPTKBLK</td>\n      <td>None</td>\n      <td>2021-07-23</td>\n    </tr>\n    <tr>\n      <th>19</th>\n      <td>dad3bf58-3ce7-4238-8940-339c19f1a45c</td>\n      <td>5e013b69-d603-4f59-afee-ea2024392a28</td>\n      <td>Approve Requirements by Generating Implementat...</td>\n      <td>CALMTMPL</td>\n      <td>CIPTKOPEN</td>\n      <td>None</td>\n      <td>2021-07-01</td>\n    </tr>\n    <tr>\n      <th>20</th>\n      <td>f4a2e199-51d3-4122-9f6e-c19b96aed4c3</td>\n      <td>5e013b69-d603-4f59-afee-ea2024392a28</td>\n      <td>Sub-task of Task Name1111111111</td>\n      <td>CALMST</td>\n      <td>CIPTKOPEN</td>\n      <td>None</td>\n      <td>2021-07-23</td>\n    </tr>\n    <tr>\n      <th>21</th>\n      <td>f717a6c8-b6ca-4aea-974d-908ffc4c3da4</td>\n      <td>5e013b69-d603-4f59-afee-ea2024392a28</td>\n      <td>toast message111111111111111111111111111111111...</td>\n      <td>CALMTASK</td>\n      <td>CIPTKINP</td>\n      <td>None</td>\n      <td>2021-09-02</td>\n    </tr>\n    <tr>\n      <th>22</th>\n      <td>2fab0a7c-b132-4f4c-890c-228deacc9dd4</td>\n      <td>5e013b69-d603-4f59-afee-ea2024392a28</td>\n      <td>US from requirement 11111</td>\n      <td>CALMUS</td>\n      <td>CIPUSOPEN</td>\n      <td>None</td>\n      <td>2021-09-02</td>\n    </tr>\n    <tr>\n      <th>23</th>\n      <td>0514925f-268c-470c-9782-08f323208e47</td>\n      <td>5e013b69-d603-4f59-afee-ea2024392a28</td>\n      <td>test attachment</td>\n      <td>CALMTASK</td>\n      <td>CIPTKOPEN</td>\n      <td>None</td>\n      <td>2021-09-02</td>\n    </tr>\n    <tr>\n      <th>24</th>\n      <td>b1706e88-4b57-4d4d-bdda-f607d8dccf7c</td>\n      <td>5e013b69-d603-4f59-afee-ea2024392a28</td>\n      <td>111111111111</td>\n      <td>CALMREQU</td>\n      <td>CIPREQUOPEN</td>\n      <td>None</td>\n      <td>2021-09-02</td>\n    </tr>\n    <tr>\n      <th>25</th>\n      <td>a2ae2f52-4fa4-47cd-9381-cf74ba62c6a6</td>\n      <td>5e013b69-d603-4f59-afee-ea2024392a28</td>\n      <td>Requirement - review applications UI and UI Is...</td>\n      <td>CALMREQU</td>\n      <td>CIPREQUOPEN</td>\n      <td>None</td>\n      <td>2021-07-01</td>\n    </tr>\n    <tr>\n      <th>26</th>\n      <td>44b3d90b-bae3-4a24-95b0-f48a965e374c</td>\n      <td>5e013b69-d603-4f59-afee-ea2024392a28</td>\n      <td>Notebook API test task 2021-07-15T19:03:45.106244</td>\n      <td>CALMTASK</td>\n      <td>CIPTKOPEN</td>\n      <td>None</td>\n      <td>2021-07-23</td>\n    </tr>\n    <tr>\n      <th>27</th>\n      <td>bb557389-d8dd-4f79-a8c1-1dd752e09e40</td>\n      <td>5e013b69-d603-4f59-afee-ea2024392a28</td>\n      <td>Notebook API test task 2021-07-15T19:06:25.238...</td>\n      <td>CALMTASK</td>\n      <td>CIPTKINP</td>\n      <td>None</td>\n      <td>2022-04-09</td>\n    </tr>\n  </tbody>\n</table>\n</div>"
     },
     "metadata": {},
     "execution_count": 83
    }
   ],
   "source": [
    "df_stTasks = pd.json_normalize(response.json())\n",
    "\n",
    "df_stTasks"
   ]
  },
  {
   "source": [
    "### Barchart plot of tasks by status\n",
    "\n",
    "Use built-in matplotlib of Pandas for quick data exploration"
   ],
   "cell_type": "markdown",
   "metadata": {}
  },
  {
   "cell_type": "code",
   "execution_count": 84,
   "metadata": {},
   "outputs": [
    {
     "output_type": "execute_result",
     "data": {
      "text/plain": [
       "<AxesSubplot:title={'center':'Task Status'}>"
      ]
     },
     "metadata": {},
     "execution_count": 84
    },
    {
     "output_type": "display_data",
     "data": {
      "text/plain": "<Figure size 1296x576 with 1 Axes>",
      "image/svg+xml": "<?xml version=\"1.0\" encoding=\"utf-8\" standalone=\"no\"?>\r\n<!DOCTYPE svg PUBLIC \"-//W3C//DTD SVG 1.1//EN\"\r\n  \"http://www.w3.org/Graphics/SVG/1.1/DTD/svg11.dtd\">\r\n<!-- Created with matplotlib (https://matplotlib.org/) -->\r\n<svg height=\"543.52pt\" version=\"1.1\" viewBox=\"0 0 1048.065625 543.52\" width=\"1048.065625pt\" xmlns=\"http://www.w3.org/2000/svg\" xmlns:xlink=\"http://www.w3.org/1999/xlink\">\r\n <metadata>\r\n  <rdf:RDF xmlns:cc=\"http://creativecommons.org/ns#\" xmlns:dc=\"http://purl.org/dc/elements/1.1/\" xmlns:rdf=\"http://www.w3.org/1999/02/22-rdf-syntax-ns#\">\r\n   <cc:Work>\r\n    <dc:type rdf:resource=\"http://purl.org/dc/dcmitype/StillImage\"/>\r\n    <dc:date>2021-07-16T10:32:45.626112</dc:date>\r\n    <dc:format>image/svg+xml</dc:format>\r\n    <dc:creator>\r\n     <cc:Agent>\r\n      <dc:title>Matplotlib v3.3.1, https://matplotlib.org/</dc:title>\r\n     </cc:Agent>\r\n    </dc:creator>\r\n   </cc:Work>\r\n  </rdf:RDF>\r\n </metadata>\r\n <defs>\r\n  <style type=\"text/css\">*{stroke-linecap:butt;stroke-linejoin:round;}</style>\r\n </defs>\r\n <g id=\"figure_1\">\r\n  <g id=\"patch_1\">\r\n   <path d=\"M 0 543.52 \r\nL 1048.065625 543.52 \r\nL 1048.065625 0 \r\nL 0 0 \r\nz\r\n\" style=\"fill:none;\"/>\r\n  </g>\r\n  <g id=\"axes_1\">\r\n   <g id=\"patch_2\">\r\n    <path d=\"M 36.465625 457.198125 \r\nL 1040.865625 457.198125 \r\nL 1040.865625 22.318125 \r\nL 36.465625 22.318125 \r\nz\r\n\" style=\"fill:#ffffff;\"/>\r\n   </g>\r\n   <g id=\"patch_3\">\r\n    <path clip-path=\"url(#pf248d7092f)\" d=\"M 78.315625 457.198125 \r\nL 162.015625 457.198125 \r\nL 162.015625 43.026696 \r\nL 78.315625 43.026696 \r\nz\r\n\" style=\"fill:#1f77b4;\"/>\r\n   </g>\r\n   <g id=\"patch_4\">\r\n    <path clip-path=\"url(#pf248d7092f)\" d=\"M 245.715625 457.198125 \r\nL 329.415625 457.198125 \r\nL 329.415625 365.16003 \r\nL 245.715625 365.16003 \r\nz\r\n\" style=\"fill:#1f77b4;\"/>\r\n   </g>\r\n   <g id=\"patch_5\">\r\n    <path clip-path=\"url(#pf248d7092f)\" d=\"M 413.115625 457.198125 \r\nL 496.815625 457.198125 \r\nL 496.815625 411.179077 \r\nL 413.115625 411.179077 \r\nz\r\n\" style=\"fill:#1f77b4;\"/>\r\n   </g>\r\n   <g id=\"patch_6\">\r\n    <path clip-path=\"url(#pf248d7092f)\" d=\"M 580.515625 457.198125 \r\nL 664.215625 457.198125 \r\nL 664.215625 411.179077 \r\nL 580.515625 411.179077 \r\nz\r\n\" style=\"fill:#1f77b4;\"/>\r\n   </g>\r\n   <g id=\"patch_7\">\r\n    <path clip-path=\"url(#pf248d7092f)\" d=\"M 747.915625 457.198125 \r\nL 831.615625 457.198125 \r\nL 831.615625 434.188601 \r\nL 747.915625 434.188601 \r\nz\r\n\" style=\"fill:#1f77b4;\"/>\r\n   </g>\r\n   <g id=\"patch_8\">\r\n    <path clip-path=\"url(#pf248d7092f)\" d=\"M 915.315625 457.198125 \r\nL 999.015625 457.198125 \r\nL 999.015625 434.188601 \r\nL 915.315625 434.188601 \r\nz\r\n\" style=\"fill:#1f77b4;\"/>\r\n   </g>\r\n   <g id=\"matplotlib.axis_1\">\r\n    <g id=\"xtick_1\">\r\n     <g id=\"line2d_1\">\r\n      <defs>\r\n       <path d=\"M 0 0 \r\nL 0 3.5 \r\n\" id=\"m2f173ec11f\" style=\"stroke:#000000;stroke-width:0.8;\"/>\r\n      </defs>\r\n      <g>\r\n       <use style=\"stroke:#000000;stroke-width:0.8;\" x=\"120.165625\" xlink:href=\"#m2f173ec11f\" y=\"457.198125\"/>\r\n      </g>\r\n     </g>\r\n     <g id=\"text_1\">\r\n      <!-- CIPTKOPEN -->\r\n      <g transform=\"translate(122.925 519.977812)rotate(-90)scale(0.1 -0.1)\">\r\n       <defs>\r\n        <path d=\"M 64.40625 67.28125 \r\nL 64.40625 56.890625 \r\nQ 59.421875 61.53125 53.78125 63.8125 \r\nQ 48.140625 66.109375 41.796875 66.109375 \r\nQ 29.296875 66.109375 22.65625 58.46875 \r\nQ 16.015625 50.828125 16.015625 36.375 \r\nQ 16.015625 21.96875 22.65625 14.328125 \r\nQ 29.296875 6.6875 41.796875 6.6875 \r\nQ 48.140625 6.6875 53.78125 8.984375 \r\nQ 59.421875 11.28125 64.40625 15.921875 \r\nL 64.40625 5.609375 \r\nQ 59.234375 2.09375 53.4375 0.328125 \r\nQ 47.65625 -1.421875 41.21875 -1.421875 \r\nQ 24.65625 -1.421875 15.125 8.703125 \r\nQ 5.609375 18.84375 5.609375 36.375 \r\nQ 5.609375 53.953125 15.125 64.078125 \r\nQ 24.65625 74.21875 41.21875 74.21875 \r\nQ 47.75 74.21875 53.53125 72.484375 \r\nQ 59.328125 70.75 64.40625 67.28125 \r\nz\r\n\" id=\"DejaVuSans-67\"/>\r\n        <path d=\"M 9.8125 72.90625 \r\nL 19.671875 72.90625 \r\nL 19.671875 0 \r\nL 9.8125 0 \r\nz\r\n\" id=\"DejaVuSans-73\"/>\r\n        <path d=\"M 19.671875 64.796875 \r\nL 19.671875 37.40625 \r\nL 32.078125 37.40625 \r\nQ 38.96875 37.40625 42.71875 40.96875 \r\nQ 46.484375 44.53125 46.484375 51.125 \r\nQ 46.484375 57.671875 42.71875 61.234375 \r\nQ 38.96875 64.796875 32.078125 64.796875 \r\nz\r\nM 9.8125 72.90625 \r\nL 32.078125 72.90625 \r\nQ 44.34375 72.90625 50.609375 67.359375 \r\nQ 56.890625 61.8125 56.890625 51.125 \r\nQ 56.890625 40.328125 50.609375 34.8125 \r\nQ 44.34375 29.296875 32.078125 29.296875 \r\nL 19.671875 29.296875 \r\nL 19.671875 0 \r\nL 9.8125 0 \r\nz\r\n\" id=\"DejaVuSans-80\"/>\r\n        <path d=\"M -0.296875 72.90625 \r\nL 61.375 72.90625 \r\nL 61.375 64.59375 \r\nL 35.5 64.59375 \r\nL 35.5 0 \r\nL 25.59375 0 \r\nL 25.59375 64.59375 \r\nL -0.296875 64.59375 \r\nz\r\n\" id=\"DejaVuSans-84\"/>\r\n        <path d=\"M 9.8125 72.90625 \r\nL 19.671875 72.90625 \r\nL 19.671875 42.09375 \r\nL 52.390625 72.90625 \r\nL 65.09375 72.90625 \r\nL 28.90625 38.921875 \r\nL 67.671875 0 \r\nL 54.6875 0 \r\nL 19.671875 35.109375 \r\nL 19.671875 0 \r\nL 9.8125 0 \r\nz\r\n\" id=\"DejaVuSans-75\"/>\r\n        <path d=\"M 39.40625 66.21875 \r\nQ 28.65625 66.21875 22.328125 58.203125 \r\nQ 16.015625 50.203125 16.015625 36.375 \r\nQ 16.015625 22.609375 22.328125 14.59375 \r\nQ 28.65625 6.59375 39.40625 6.59375 \r\nQ 50.140625 6.59375 56.421875 14.59375 \r\nQ 62.703125 22.609375 62.703125 36.375 \r\nQ 62.703125 50.203125 56.421875 58.203125 \r\nQ 50.140625 66.21875 39.40625 66.21875 \r\nz\r\nM 39.40625 74.21875 \r\nQ 54.734375 74.21875 63.90625 63.9375 \r\nQ 73.09375 53.65625 73.09375 36.375 \r\nQ 73.09375 19.140625 63.90625 8.859375 \r\nQ 54.734375 -1.421875 39.40625 -1.421875 \r\nQ 24.03125 -1.421875 14.8125 8.828125 \r\nQ 5.609375 19.09375 5.609375 36.375 \r\nQ 5.609375 53.65625 14.8125 63.9375 \r\nQ 24.03125 74.21875 39.40625 74.21875 \r\nz\r\n\" id=\"DejaVuSans-79\"/>\r\n        <path d=\"M 9.8125 72.90625 \r\nL 55.90625 72.90625 \r\nL 55.90625 64.59375 \r\nL 19.671875 64.59375 \r\nL 19.671875 43.015625 \r\nL 54.390625 43.015625 \r\nL 54.390625 34.71875 \r\nL 19.671875 34.71875 \r\nL 19.671875 8.296875 \r\nL 56.78125 8.296875 \r\nL 56.78125 0 \r\nL 9.8125 0 \r\nz\r\n\" id=\"DejaVuSans-69\"/>\r\n        <path d=\"M 9.8125 72.90625 \r\nL 23.09375 72.90625 \r\nL 55.421875 11.921875 \r\nL 55.421875 72.90625 \r\nL 64.984375 72.90625 \r\nL 64.984375 0 \r\nL 51.703125 0 \r\nL 19.390625 60.984375 \r\nL 19.390625 0 \r\nL 9.8125 0 \r\nz\r\n\" id=\"DejaVuSans-78\"/>\r\n       </defs>\r\n       <use xlink:href=\"#DejaVuSans-67\"/>\r\n       <use x=\"69.824219\" xlink:href=\"#DejaVuSans-73\"/>\r\n       <use x=\"99.316406\" xlink:href=\"#DejaVuSans-80\"/>\r\n       <use x=\"159.619141\" xlink:href=\"#DejaVuSans-84\"/>\r\n       <use x=\"220.703125\" xlink:href=\"#DejaVuSans-75\"/>\r\n       <use x=\"280.779297\" xlink:href=\"#DejaVuSans-79\"/>\r\n       <use x=\"359.490234\" xlink:href=\"#DejaVuSans-80\"/>\r\n       <use x=\"419.792969\" xlink:href=\"#DejaVuSans-69\"/>\r\n       <use x=\"482.976562\" xlink:href=\"#DejaVuSans-78\"/>\r\n      </g>\r\n     </g>\r\n    </g>\r\n    <g id=\"xtick_2\">\r\n     <g id=\"line2d_2\">\r\n      <g>\r\n       <use style=\"stroke:#000000;stroke-width:0.8;\" x=\"287.565625\" xlink:href=\"#m2f173ec11f\" y=\"457.198125\"/>\r\n      </g>\r\n     </g>\r\n     <g id=\"text_2\">\r\n      <!-- CIPUSOPEN -->\r\n      <g transform=\"translate(290.325 521.529375)rotate(-90)scale(0.1 -0.1)\">\r\n       <defs>\r\n        <path d=\"M 8.6875 72.90625 \r\nL 18.609375 72.90625 \r\nL 18.609375 28.609375 \r\nQ 18.609375 16.890625 22.84375 11.734375 \r\nQ 27.09375 6.59375 36.625 6.59375 \r\nQ 46.09375 6.59375 50.34375 11.734375 \r\nQ 54.59375 16.890625 54.59375 28.609375 \r\nL 54.59375 72.90625 \r\nL 64.5 72.90625 \r\nL 64.5 27.390625 \r\nQ 64.5 13.140625 57.4375 5.859375 \r\nQ 50.390625 -1.421875 36.625 -1.421875 \r\nQ 22.796875 -1.421875 15.734375 5.859375 \r\nQ 8.6875 13.140625 8.6875 27.390625 \r\nz\r\n\" id=\"DejaVuSans-85\"/>\r\n        <path d=\"M 53.515625 70.515625 \r\nL 53.515625 60.890625 \r\nQ 47.90625 63.578125 42.921875 64.890625 \r\nQ 37.9375 66.21875 33.296875 66.21875 \r\nQ 25.25 66.21875 20.875 63.09375 \r\nQ 16.5 59.96875 16.5 54.203125 \r\nQ 16.5 49.359375 19.40625 46.890625 \r\nQ 22.3125 44.4375 30.421875 42.921875 \r\nL 36.375 41.703125 \r\nQ 47.40625 39.59375 52.65625 34.296875 \r\nQ 57.90625 29 57.90625 20.125 \r\nQ 57.90625 9.515625 50.796875 4.046875 \r\nQ 43.703125 -1.421875 29.984375 -1.421875 \r\nQ 24.8125 -1.421875 18.96875 -0.25 \r\nQ 13.140625 0.921875 6.890625 3.21875 \r\nL 6.890625 13.375 \r\nQ 12.890625 10.015625 18.65625 8.296875 \r\nQ 24.421875 6.59375 29.984375 6.59375 \r\nQ 38.421875 6.59375 43.015625 9.90625 \r\nQ 47.609375 13.234375 47.609375 19.390625 \r\nQ 47.609375 24.75 44.3125 27.78125 \r\nQ 41.015625 30.8125 33.5 32.328125 \r\nL 27.484375 33.5 \r\nQ 16.453125 35.6875 11.515625 40.375 \r\nQ 6.59375 45.0625 6.59375 53.421875 \r\nQ 6.59375 63.09375 13.40625 68.65625 \r\nQ 20.21875 74.21875 32.171875 74.21875 \r\nQ 37.3125 74.21875 42.625 73.28125 \r\nQ 47.953125 72.359375 53.515625 70.515625 \r\nz\r\n\" id=\"DejaVuSans-83\"/>\r\n       </defs>\r\n       <use xlink:href=\"#DejaVuSans-67\"/>\r\n       <use x=\"69.824219\" xlink:href=\"#DejaVuSans-73\"/>\r\n       <use x=\"99.316406\" xlink:href=\"#DejaVuSans-80\"/>\r\n       <use x=\"159.619141\" xlink:href=\"#DejaVuSans-85\"/>\r\n       <use x=\"232.8125\" xlink:href=\"#DejaVuSans-83\"/>\r\n       <use x=\"296.289062\" xlink:href=\"#DejaVuSans-79\"/>\r\n       <use x=\"375\" xlink:href=\"#DejaVuSans-80\"/>\r\n       <use x=\"435.302734\" xlink:href=\"#DejaVuSans-69\"/>\r\n       <use x=\"498.486328\" xlink:href=\"#DejaVuSans-78\"/>\r\n      </g>\r\n     </g>\r\n    </g>\r\n    <g id=\"xtick_3\">\r\n     <g id=\"line2d_3\">\r\n      <g>\r\n       <use style=\"stroke:#000000;stroke-width:0.8;\" x=\"454.965625\" xlink:href=\"#m2f173ec11f\" y=\"457.198125\"/>\r\n      </g>\r\n     </g>\r\n     <g id=\"text_3\">\r\n      <!-- CIPTKINP -->\r\n      <g transform=\"translate(457.725 509.287187)rotate(-90)scale(0.1 -0.1)\">\r\n       <use xlink:href=\"#DejaVuSans-67\"/>\r\n       <use x=\"69.824219\" xlink:href=\"#DejaVuSans-73\"/>\r\n       <use x=\"99.316406\" xlink:href=\"#DejaVuSans-80\"/>\r\n       <use x=\"159.619141\" xlink:href=\"#DejaVuSans-84\"/>\r\n       <use x=\"220.703125\" xlink:href=\"#DejaVuSans-75\"/>\r\n       <use x=\"286.279297\" xlink:href=\"#DejaVuSans-73\"/>\r\n       <use x=\"315.771484\" xlink:href=\"#DejaVuSans-78\"/>\r\n       <use x=\"390.576172\" xlink:href=\"#DejaVuSans-80\"/>\r\n      </g>\r\n     </g>\r\n    </g>\r\n    <g id=\"xtick_4\">\r\n     <g id=\"line2d_4\">\r\n      <g>\r\n       <use style=\"stroke:#000000;stroke-width:0.8;\" x=\"622.365625\" xlink:href=\"#m2f173ec11f\" y=\"457.198125\"/>\r\n      </g>\r\n     </g>\r\n     <g id=\"text_4\">\r\n      <!-- CIPREQUOPEN -->\r\n      <g transform=\"translate(625.125 536.32)rotate(-90)scale(0.1 -0.1)\">\r\n       <defs>\r\n        <path d=\"M 44.390625 34.1875 \r\nQ 47.5625 33.109375 50.5625 29.59375 \r\nQ 53.5625 26.078125 56.59375 19.921875 \r\nL 66.609375 0 \r\nL 56 0 \r\nL 46.6875 18.703125 \r\nQ 43.0625 26.03125 39.671875 28.421875 \r\nQ 36.28125 30.8125 30.421875 30.8125 \r\nL 19.671875 30.8125 \r\nL 19.671875 0 \r\nL 9.8125 0 \r\nL 9.8125 72.90625 \r\nL 32.078125 72.90625 \r\nQ 44.578125 72.90625 50.734375 67.671875 \r\nQ 56.890625 62.453125 56.890625 51.90625 \r\nQ 56.890625 45.015625 53.6875 40.46875 \r\nQ 50.484375 35.9375 44.390625 34.1875 \r\nz\r\nM 19.671875 64.796875 \r\nL 19.671875 38.921875 \r\nL 32.078125 38.921875 \r\nQ 39.203125 38.921875 42.84375 42.21875 \r\nQ 46.484375 45.515625 46.484375 51.90625 \r\nQ 46.484375 58.296875 42.84375 61.546875 \r\nQ 39.203125 64.796875 32.078125 64.796875 \r\nz\r\n\" id=\"DejaVuSans-82\"/>\r\n        <path d=\"M 39.40625 66.21875 \r\nQ 28.65625 66.21875 22.328125 58.203125 \r\nQ 16.015625 50.203125 16.015625 36.375 \r\nQ 16.015625 22.609375 22.328125 14.59375 \r\nQ 28.65625 6.59375 39.40625 6.59375 \r\nQ 50.140625 6.59375 56.421875 14.59375 \r\nQ 62.703125 22.609375 62.703125 36.375 \r\nQ 62.703125 50.203125 56.421875 58.203125 \r\nQ 50.140625 66.21875 39.40625 66.21875 \r\nz\r\nM 53.21875 1.3125 \r\nL 66.21875 -12.890625 \r\nL 54.296875 -12.890625 \r\nL 43.5 -1.21875 \r\nQ 41.890625 -1.3125 41.03125 -1.359375 \r\nQ 40.1875 -1.421875 39.40625 -1.421875 \r\nQ 24.03125 -1.421875 14.8125 8.859375 \r\nQ 5.609375 19.140625 5.609375 36.375 \r\nQ 5.609375 53.65625 14.8125 63.9375 \r\nQ 24.03125 74.21875 39.40625 74.21875 \r\nQ 54.734375 74.21875 63.90625 63.9375 \r\nQ 73.09375 53.65625 73.09375 36.375 \r\nQ 73.09375 23.6875 67.984375 14.640625 \r\nQ 62.890625 5.609375 53.21875 1.3125 \r\nz\r\n\" id=\"DejaVuSans-81\"/>\r\n       </defs>\r\n       <use xlink:href=\"#DejaVuSans-67\"/>\r\n       <use x=\"69.824219\" xlink:href=\"#DejaVuSans-73\"/>\r\n       <use x=\"99.316406\" xlink:href=\"#DejaVuSans-80\"/>\r\n       <use x=\"159.619141\" xlink:href=\"#DejaVuSans-82\"/>\r\n       <use x=\"229.101562\" xlink:href=\"#DejaVuSans-69\"/>\r\n       <use x=\"292.285156\" xlink:href=\"#DejaVuSans-81\"/>\r\n       <use x=\"370.996094\" xlink:href=\"#DejaVuSans-85\"/>\r\n       <use x=\"444.189453\" xlink:href=\"#DejaVuSans-79\"/>\r\n       <use x=\"522.900391\" xlink:href=\"#DejaVuSans-80\"/>\r\n       <use x=\"583.203125\" xlink:href=\"#DejaVuSans-69\"/>\r\n       <use x=\"646.386719\" xlink:href=\"#DejaVuSans-78\"/>\r\n      </g>\r\n     </g>\r\n    </g>\r\n    <g id=\"xtick_5\">\r\n     <g id=\"line2d_5\">\r\n      <g>\r\n       <use style=\"stroke:#000000;stroke-width:0.8;\" x=\"789.765625\" xlink:href=\"#m2f173ec11f\" y=\"457.198125\"/>\r\n      </g>\r\n     </g>\r\n     <g id=\"text_5\">\r\n      <!-- CIPTKCLOSE -->\r\n      <g transform=\"translate(792.525 525.0075)rotate(-90)scale(0.1 -0.1)\">\r\n       <defs>\r\n        <path d=\"M 9.8125 72.90625 \r\nL 19.671875 72.90625 \r\nL 19.671875 8.296875 \r\nL 55.171875 8.296875 \r\nL 55.171875 0 \r\nL 9.8125 0 \r\nz\r\n\" id=\"DejaVuSans-76\"/>\r\n       </defs>\r\n       <use xlink:href=\"#DejaVuSans-67\"/>\r\n       <use x=\"69.824219\" xlink:href=\"#DejaVuSans-73\"/>\r\n       <use x=\"99.316406\" xlink:href=\"#DejaVuSans-80\"/>\r\n       <use x=\"159.619141\" xlink:href=\"#DejaVuSans-84\"/>\r\n       <use x=\"220.703125\" xlink:href=\"#DejaVuSans-75\"/>\r\n       <use x=\"280.779297\" xlink:href=\"#DejaVuSans-67\"/>\r\n       <use x=\"350.603516\" xlink:href=\"#DejaVuSans-76\"/>\r\n       <use x=\"402.691406\" xlink:href=\"#DejaVuSans-79\"/>\r\n       <use x=\"481.402344\" xlink:href=\"#DejaVuSans-83\"/>\r\n       <use x=\"544.878906\" xlink:href=\"#DejaVuSans-69\"/>\r\n      </g>\r\n     </g>\r\n    </g>\r\n    <g id=\"xtick_6\">\r\n     <g id=\"line2d_6\">\r\n      <g>\r\n       <use style=\"stroke:#000000;stroke-width:0.8;\" x=\"957.165625\" xlink:href=\"#m2f173ec11f\" y=\"457.198125\"/>\r\n      </g>\r\n     </g>\r\n     <g id=\"text_6\">\r\n      <!-- CIPTKBLK -->\r\n      <g transform=\"translate(959.925 511.816875)rotate(-90)scale(0.1 -0.1)\">\r\n       <defs>\r\n        <path d=\"M 19.671875 34.8125 \r\nL 19.671875 8.109375 \r\nL 35.5 8.109375 \r\nQ 43.453125 8.109375 47.28125 11.40625 \r\nQ 51.125 14.703125 51.125 21.484375 \r\nQ 51.125 28.328125 47.28125 31.5625 \r\nQ 43.453125 34.8125 35.5 34.8125 \r\nz\r\nM 19.671875 64.796875 \r\nL 19.671875 42.828125 \r\nL 34.28125 42.828125 \r\nQ 41.5 42.828125 45.03125 45.53125 \r\nQ 48.578125 48.25 48.578125 53.8125 \r\nQ 48.578125 59.328125 45.03125 62.0625 \r\nQ 41.5 64.796875 34.28125 64.796875 \r\nz\r\nM 9.8125 72.90625 \r\nL 35.015625 72.90625 \r\nQ 46.296875 72.90625 52.390625 68.21875 \r\nQ 58.5 63.53125 58.5 54.890625 \r\nQ 58.5 48.1875 55.375 44.234375 \r\nQ 52.25 40.28125 46.1875 39.3125 \r\nQ 53.46875 37.75 57.5 32.78125 \r\nQ 61.53125 27.828125 61.53125 20.40625 \r\nQ 61.53125 10.640625 54.890625 5.3125 \r\nQ 48.25 0 35.984375 0 \r\nL 9.8125 0 \r\nz\r\n\" id=\"DejaVuSans-66\"/>\r\n       </defs>\r\n       <use xlink:href=\"#DejaVuSans-67\"/>\r\n       <use x=\"69.824219\" xlink:href=\"#DejaVuSans-73\"/>\r\n       <use x=\"99.316406\" xlink:href=\"#DejaVuSans-80\"/>\r\n       <use x=\"159.619141\" xlink:href=\"#DejaVuSans-84\"/>\r\n       <use x=\"220.703125\" xlink:href=\"#DejaVuSans-75\"/>\r\n       <use x=\"286.279297\" xlink:href=\"#DejaVuSans-66\"/>\r\n       <use x=\"354.882812\" xlink:href=\"#DejaVuSans-76\"/>\r\n       <use x=\"410.595703\" xlink:href=\"#DejaVuSans-75\"/>\r\n      </g>\r\n     </g>\r\n    </g>\r\n   </g>\r\n   <g id=\"matplotlib.axis_2\">\r\n    <g id=\"ytick_1\">\r\n     <g id=\"line2d_7\">\r\n      <defs>\r\n       <path d=\"M 0 0 \r\nL -3.5 0 \r\n\" id=\"m5ebeb887a6\" style=\"stroke:#000000;stroke-width:0.8;\"/>\r\n      </defs>\r\n      <g>\r\n       <use style=\"stroke:#000000;stroke-width:0.8;\" x=\"36.465625\" xlink:href=\"#m5ebeb887a6\" y=\"457.198125\"/>\r\n      </g>\r\n     </g>\r\n     <g id=\"text_7\">\r\n      <!-- 0.0 -->\r\n      <g transform=\"translate(13.5625 460.997344)scale(0.1 -0.1)\">\r\n       <defs>\r\n        <path d=\"M 31.78125 66.40625 \r\nQ 24.171875 66.40625 20.328125 58.90625 \r\nQ 16.5 51.421875 16.5 36.375 \r\nQ 16.5 21.390625 20.328125 13.890625 \r\nQ 24.171875 6.390625 31.78125 6.390625 \r\nQ 39.453125 6.390625 43.28125 13.890625 \r\nQ 47.125 21.390625 47.125 36.375 \r\nQ 47.125 51.421875 43.28125 58.90625 \r\nQ 39.453125 66.40625 31.78125 66.40625 \r\nz\r\nM 31.78125 74.21875 \r\nQ 44.046875 74.21875 50.515625 64.515625 \r\nQ 56.984375 54.828125 56.984375 36.375 \r\nQ 56.984375 17.96875 50.515625 8.265625 \r\nQ 44.046875 -1.421875 31.78125 -1.421875 \r\nQ 19.53125 -1.421875 13.0625 8.265625 \r\nQ 6.59375 17.96875 6.59375 36.375 \r\nQ 6.59375 54.828125 13.0625 64.515625 \r\nQ 19.53125 74.21875 31.78125 74.21875 \r\nz\r\n\" id=\"DejaVuSans-48\"/>\r\n        <path d=\"M 10.6875 12.40625 \r\nL 21 12.40625 \r\nL 21 0 \r\nL 10.6875 0 \r\nz\r\n\" id=\"DejaVuSans-46\"/>\r\n       </defs>\r\n       <use xlink:href=\"#DejaVuSans-48\"/>\r\n       <use x=\"63.623047\" xlink:href=\"#DejaVuSans-46\"/>\r\n       <use x=\"95.410156\" xlink:href=\"#DejaVuSans-48\"/>\r\n      </g>\r\n     </g>\r\n    </g>\r\n    <g id=\"ytick_2\">\r\n     <g id=\"line2d_8\">\r\n      <g>\r\n       <use style=\"stroke:#000000;stroke-width:0.8;\" x=\"36.465625\" xlink:href=\"#m5ebeb887a6\" y=\"399.674315\"/>\r\n      </g>\r\n     </g>\r\n     <g id=\"text_8\">\r\n      <!-- 2.5 -->\r\n      <g transform=\"translate(13.5625 403.473534)scale(0.1 -0.1)\">\r\n       <defs>\r\n        <path d=\"M 19.1875 8.296875 \r\nL 53.609375 8.296875 \r\nL 53.609375 0 \r\nL 7.328125 0 \r\nL 7.328125 8.296875 \r\nQ 12.9375 14.109375 22.625 23.890625 \r\nQ 32.328125 33.6875 34.8125 36.53125 \r\nQ 39.546875 41.84375 41.421875 45.53125 \r\nQ 43.3125 49.21875 43.3125 52.78125 \r\nQ 43.3125 58.59375 39.234375 62.25 \r\nQ 35.15625 65.921875 28.609375 65.921875 \r\nQ 23.96875 65.921875 18.8125 64.3125 \r\nQ 13.671875 62.703125 7.8125 59.421875 \r\nL 7.8125 69.390625 \r\nQ 13.765625 71.78125 18.9375 73 \r\nQ 24.125 74.21875 28.421875 74.21875 \r\nQ 39.75 74.21875 46.484375 68.546875 \r\nQ 53.21875 62.890625 53.21875 53.421875 \r\nQ 53.21875 48.921875 51.53125 44.890625 \r\nQ 49.859375 40.875 45.40625 35.40625 \r\nQ 44.1875 33.984375 37.640625 27.21875 \r\nQ 31.109375 20.453125 19.1875 8.296875 \r\nz\r\n\" id=\"DejaVuSans-50\"/>\r\n        <path d=\"M 10.796875 72.90625 \r\nL 49.515625 72.90625 \r\nL 49.515625 64.59375 \r\nL 19.828125 64.59375 \r\nL 19.828125 46.734375 \r\nQ 21.96875 47.46875 24.109375 47.828125 \r\nQ 26.265625 48.1875 28.421875 48.1875 \r\nQ 40.625 48.1875 47.75 41.5 \r\nQ 54.890625 34.8125 54.890625 23.390625 \r\nQ 54.890625 11.625 47.5625 5.09375 \r\nQ 40.234375 -1.421875 26.90625 -1.421875 \r\nQ 22.3125 -1.421875 17.546875 -0.640625 \r\nQ 12.796875 0.140625 7.71875 1.703125 \r\nL 7.71875 11.625 \r\nQ 12.109375 9.234375 16.796875 8.0625 \r\nQ 21.484375 6.890625 26.703125 6.890625 \r\nQ 35.15625 6.890625 40.078125 11.328125 \r\nQ 45.015625 15.765625 45.015625 23.390625 \r\nQ 45.015625 31 40.078125 35.4375 \r\nQ 35.15625 39.890625 26.703125 39.890625 \r\nQ 22.75 39.890625 18.8125 39.015625 \r\nQ 14.890625 38.140625 10.796875 36.28125 \r\nz\r\n\" id=\"DejaVuSans-53\"/>\r\n       </defs>\r\n       <use xlink:href=\"#DejaVuSans-50\"/>\r\n       <use x=\"63.623047\" xlink:href=\"#DejaVuSans-46\"/>\r\n       <use x=\"95.410156\" xlink:href=\"#DejaVuSans-53\"/>\r\n      </g>\r\n     </g>\r\n    </g>\r\n    <g id=\"ytick_3\">\r\n     <g id=\"line2d_9\">\r\n      <g>\r\n       <use style=\"stroke:#000000;stroke-width:0.8;\" x=\"36.465625\" xlink:href=\"#m5ebeb887a6\" y=\"342.150506\"/>\r\n      </g>\r\n     </g>\r\n     <g id=\"text_9\">\r\n      <!-- 5.0 -->\r\n      <g transform=\"translate(13.5625 345.949725)scale(0.1 -0.1)\">\r\n       <use xlink:href=\"#DejaVuSans-53\"/>\r\n       <use x=\"63.623047\" xlink:href=\"#DejaVuSans-46\"/>\r\n       <use x=\"95.410156\" xlink:href=\"#DejaVuSans-48\"/>\r\n      </g>\r\n     </g>\r\n    </g>\r\n    <g id=\"ytick_4\">\r\n     <g id=\"line2d_10\">\r\n      <g>\r\n       <use style=\"stroke:#000000;stroke-width:0.8;\" x=\"36.465625\" xlink:href=\"#m5ebeb887a6\" y=\"284.626696\"/>\r\n      </g>\r\n     </g>\r\n     <g id=\"text_10\">\r\n      <!-- 7.5 -->\r\n      <g transform=\"translate(13.5625 288.425915)scale(0.1 -0.1)\">\r\n       <defs>\r\n        <path d=\"M 8.203125 72.90625 \r\nL 55.078125 72.90625 \r\nL 55.078125 68.703125 \r\nL 28.609375 0 \r\nL 18.3125 0 \r\nL 43.21875 64.59375 \r\nL 8.203125 64.59375 \r\nz\r\n\" id=\"DejaVuSans-55\"/>\r\n       </defs>\r\n       <use xlink:href=\"#DejaVuSans-55\"/>\r\n       <use x=\"63.623047\" xlink:href=\"#DejaVuSans-46\"/>\r\n       <use x=\"95.410156\" xlink:href=\"#DejaVuSans-53\"/>\r\n      </g>\r\n     </g>\r\n    </g>\r\n    <g id=\"ytick_5\">\r\n     <g id=\"line2d_11\">\r\n      <g>\r\n       <use style=\"stroke:#000000;stroke-width:0.8;\" x=\"36.465625\" xlink:href=\"#m5ebeb887a6\" y=\"227.102887\"/>\r\n      </g>\r\n     </g>\r\n     <g id=\"text_11\">\r\n      <!-- 10.0 -->\r\n      <g transform=\"translate(7.2 230.902106)scale(0.1 -0.1)\">\r\n       <defs>\r\n        <path d=\"M 12.40625 8.296875 \r\nL 28.515625 8.296875 \r\nL 28.515625 63.921875 \r\nL 10.984375 60.40625 \r\nL 10.984375 69.390625 \r\nL 28.421875 72.90625 \r\nL 38.28125 72.90625 \r\nL 38.28125 8.296875 \r\nL 54.390625 8.296875 \r\nL 54.390625 0 \r\nL 12.40625 0 \r\nz\r\n\" id=\"DejaVuSans-49\"/>\r\n       </defs>\r\n       <use xlink:href=\"#DejaVuSans-49\"/>\r\n       <use x=\"63.623047\" xlink:href=\"#DejaVuSans-48\"/>\r\n       <use x=\"127.246094\" xlink:href=\"#DejaVuSans-46\"/>\r\n       <use x=\"159.033203\" xlink:href=\"#DejaVuSans-48\"/>\r\n      </g>\r\n     </g>\r\n    </g>\r\n    <g id=\"ytick_6\">\r\n     <g id=\"line2d_12\">\r\n      <g>\r\n       <use style=\"stroke:#000000;stroke-width:0.8;\" x=\"36.465625\" xlink:href=\"#m5ebeb887a6\" y=\"169.579077\"/>\r\n      </g>\r\n     </g>\r\n     <g id=\"text_12\">\r\n      <!-- 12.5 -->\r\n      <g transform=\"translate(7.2 173.378296)scale(0.1 -0.1)\">\r\n       <use xlink:href=\"#DejaVuSans-49\"/>\r\n       <use x=\"63.623047\" xlink:href=\"#DejaVuSans-50\"/>\r\n       <use x=\"127.246094\" xlink:href=\"#DejaVuSans-46\"/>\r\n       <use x=\"159.033203\" xlink:href=\"#DejaVuSans-53\"/>\r\n      </g>\r\n     </g>\r\n    </g>\r\n    <g id=\"ytick_7\">\r\n     <g id=\"line2d_13\">\r\n      <g>\r\n       <use style=\"stroke:#000000;stroke-width:0.8;\" x=\"36.465625\" xlink:href=\"#m5ebeb887a6\" y=\"112.055268\"/>\r\n      </g>\r\n     </g>\r\n     <g id=\"text_13\">\r\n      <!-- 15.0 -->\r\n      <g transform=\"translate(7.2 115.854487)scale(0.1 -0.1)\">\r\n       <use xlink:href=\"#DejaVuSans-49\"/>\r\n       <use x=\"63.623047\" xlink:href=\"#DejaVuSans-53\"/>\r\n       <use x=\"127.246094\" xlink:href=\"#DejaVuSans-46\"/>\r\n       <use x=\"159.033203\" xlink:href=\"#DejaVuSans-48\"/>\r\n      </g>\r\n     </g>\r\n    </g>\r\n    <g id=\"ytick_8\">\r\n     <g id=\"line2d_14\">\r\n      <g>\r\n       <use style=\"stroke:#000000;stroke-width:0.8;\" x=\"36.465625\" xlink:href=\"#m5ebeb887a6\" y=\"54.531458\"/>\r\n      </g>\r\n     </g>\r\n     <g id=\"text_14\">\r\n      <!-- 17.5 -->\r\n      <g transform=\"translate(7.2 58.330677)scale(0.1 -0.1)\">\r\n       <use xlink:href=\"#DejaVuSans-49\"/>\r\n       <use x=\"63.623047\" xlink:href=\"#DejaVuSans-55\"/>\r\n       <use x=\"127.246094\" xlink:href=\"#DejaVuSans-46\"/>\r\n       <use x=\"159.033203\" xlink:href=\"#DejaVuSans-53\"/>\r\n      </g>\r\n     </g>\r\n    </g>\r\n   </g>\r\n   <g id=\"patch_9\">\r\n    <path d=\"M 36.465625 457.198125 \r\nL 36.465625 22.318125 \r\n\" style=\"fill:none;stroke:#000000;stroke-linecap:square;stroke-linejoin:miter;stroke-width:0.8;\"/>\r\n   </g>\r\n   <g id=\"patch_10\">\r\n    <path d=\"M 1040.865625 457.198125 \r\nL 1040.865625 22.318125 \r\n\" style=\"fill:none;stroke:#000000;stroke-linecap:square;stroke-linejoin:miter;stroke-width:0.8;\"/>\r\n   </g>\r\n   <g id=\"patch_11\">\r\n    <path d=\"M 36.465625 457.198125 \r\nL 1040.865625 457.198125 \r\n\" style=\"fill:none;stroke:#000000;stroke-linecap:square;stroke-linejoin:miter;stroke-width:0.8;\"/>\r\n   </g>\r\n   <g id=\"patch_12\">\r\n    <path d=\"M 36.465625 22.318125 \r\nL 1040.865625 22.318125 \r\n\" style=\"fill:none;stroke:#000000;stroke-linecap:square;stroke-linejoin:miter;stroke-width:0.8;\"/>\r\n   </g>\r\n   <g id=\"text_15\">\r\n    <!-- Task Status -->\r\n    <g transform=\"translate(504.68875 16.318125)scale(0.12 -0.12)\">\r\n     <defs>\r\n      <path d=\"M 34.28125 27.484375 \r\nQ 23.390625 27.484375 19.1875 25 \r\nQ 14.984375 22.515625 14.984375 16.5 \r\nQ 14.984375 11.71875 18.140625 8.90625 \r\nQ 21.296875 6.109375 26.703125 6.109375 \r\nQ 34.1875 6.109375 38.703125 11.40625 \r\nQ 43.21875 16.703125 43.21875 25.484375 \r\nL 43.21875 27.484375 \r\nz\r\nM 52.203125 31.203125 \r\nL 52.203125 0 \r\nL 43.21875 0 \r\nL 43.21875 8.296875 \r\nQ 40.140625 3.328125 35.546875 0.953125 \r\nQ 30.953125 -1.421875 24.3125 -1.421875 \r\nQ 15.921875 -1.421875 10.953125 3.296875 \r\nQ 6 8.015625 6 15.921875 \r\nQ 6 25.140625 12.171875 29.828125 \r\nQ 18.359375 34.515625 30.609375 34.515625 \r\nL 43.21875 34.515625 \r\nL 43.21875 35.40625 \r\nQ 43.21875 41.609375 39.140625 45 \r\nQ 35.0625 48.390625 27.6875 48.390625 \r\nQ 23 48.390625 18.546875 47.265625 \r\nQ 14.109375 46.140625 10.015625 43.890625 \r\nL 10.015625 52.203125 \r\nQ 14.9375 54.109375 19.578125 55.046875 \r\nQ 24.21875 56 28.609375 56 \r\nQ 40.484375 56 46.34375 49.84375 \r\nQ 52.203125 43.703125 52.203125 31.203125 \r\nz\r\n\" id=\"DejaVuSans-97\"/>\r\n      <path d=\"M 44.28125 53.078125 \r\nL 44.28125 44.578125 \r\nQ 40.484375 46.53125 36.375 47.5 \r\nQ 32.28125 48.484375 27.875 48.484375 \r\nQ 21.1875 48.484375 17.84375 46.4375 \r\nQ 14.5 44.390625 14.5 40.28125 \r\nQ 14.5 37.15625 16.890625 35.375 \r\nQ 19.28125 33.59375 26.515625 31.984375 \r\nL 29.59375 31.296875 \r\nQ 39.15625 29.25 43.1875 25.515625 \r\nQ 47.21875 21.78125 47.21875 15.09375 \r\nQ 47.21875 7.46875 41.1875 3.015625 \r\nQ 35.15625 -1.421875 24.609375 -1.421875 \r\nQ 20.21875 -1.421875 15.453125 -0.5625 \r\nQ 10.6875 0.296875 5.421875 2 \r\nL 5.421875 11.28125 \r\nQ 10.40625 8.6875 15.234375 7.390625 \r\nQ 20.0625 6.109375 24.8125 6.109375 \r\nQ 31.15625 6.109375 34.5625 8.28125 \r\nQ 37.984375 10.453125 37.984375 14.40625 \r\nQ 37.984375 18.0625 35.515625 20.015625 \r\nQ 33.0625 21.96875 24.703125 23.78125 \r\nL 21.578125 24.515625 \r\nQ 13.234375 26.265625 9.515625 29.90625 \r\nQ 5.8125 33.546875 5.8125 39.890625 \r\nQ 5.8125 47.609375 11.28125 51.796875 \r\nQ 16.75 56 26.8125 56 \r\nQ 31.78125 56 36.171875 55.265625 \r\nQ 40.578125 54.546875 44.28125 53.078125 \r\nz\r\n\" id=\"DejaVuSans-115\"/>\r\n      <path d=\"M 9.078125 75.984375 \r\nL 18.109375 75.984375 \r\nL 18.109375 31.109375 \r\nL 44.921875 54.6875 \r\nL 56.390625 54.6875 \r\nL 27.390625 29.109375 \r\nL 57.625 0 \r\nL 45.90625 0 \r\nL 18.109375 26.703125 \r\nL 18.109375 0 \r\nL 9.078125 0 \r\nz\r\n\" id=\"DejaVuSans-107\"/>\r\n      <path id=\"DejaVuSans-32\"/>\r\n      <path d=\"M 18.3125 70.21875 \r\nL 18.3125 54.6875 \r\nL 36.8125 54.6875 \r\nL 36.8125 47.703125 \r\nL 18.3125 47.703125 \r\nL 18.3125 18.015625 \r\nQ 18.3125 11.328125 20.140625 9.421875 \r\nQ 21.96875 7.515625 27.59375 7.515625 \r\nL 36.8125 7.515625 \r\nL 36.8125 0 \r\nL 27.59375 0 \r\nQ 17.1875 0 13.234375 3.875 \r\nQ 9.28125 7.765625 9.28125 18.015625 \r\nL 9.28125 47.703125 \r\nL 2.6875 47.703125 \r\nL 2.6875 54.6875 \r\nL 9.28125 54.6875 \r\nL 9.28125 70.21875 \r\nz\r\n\" id=\"DejaVuSans-116\"/>\r\n      <path d=\"M 8.5 21.578125 \r\nL 8.5 54.6875 \r\nL 17.484375 54.6875 \r\nL 17.484375 21.921875 \r\nQ 17.484375 14.15625 20.5 10.265625 \r\nQ 23.53125 6.390625 29.59375 6.390625 \r\nQ 36.859375 6.390625 41.078125 11.03125 \r\nQ 45.3125 15.671875 45.3125 23.6875 \r\nL 45.3125 54.6875 \r\nL 54.296875 54.6875 \r\nL 54.296875 0 \r\nL 45.3125 0 \r\nL 45.3125 8.40625 \r\nQ 42.046875 3.421875 37.71875 1 \r\nQ 33.40625 -1.421875 27.6875 -1.421875 \r\nQ 18.265625 -1.421875 13.375 4.4375 \r\nQ 8.5 10.296875 8.5 21.578125 \r\nz\r\nM 31.109375 56 \r\nz\r\n\" id=\"DejaVuSans-117\"/>\r\n     </defs>\r\n     <use xlink:href=\"#DejaVuSans-84\"/>\r\n     <use x=\"44.583984\" xlink:href=\"#DejaVuSans-97\"/>\r\n     <use x=\"105.863281\" xlink:href=\"#DejaVuSans-115\"/>\r\n     <use x=\"157.962891\" xlink:href=\"#DejaVuSans-107\"/>\r\n     <use x=\"215.873047\" xlink:href=\"#DejaVuSans-32\"/>\r\n     <use x=\"247.660156\" xlink:href=\"#DejaVuSans-83\"/>\r\n     <use x=\"311.136719\" xlink:href=\"#DejaVuSans-116\"/>\r\n     <use x=\"350.345703\" xlink:href=\"#DejaVuSans-97\"/>\r\n     <use x=\"411.625\" xlink:href=\"#DejaVuSans-116\"/>\r\n     <use x=\"450.833984\" xlink:href=\"#DejaVuSans-117\"/>\r\n     <use x=\"514.212891\" xlink:href=\"#DejaVuSans-115\"/>\r\n    </g>\r\n   </g>\r\n  </g>\r\n </g>\r\n <defs>\r\n  <clipPath id=\"pf248d7092f\">\r\n   <rect height=\"434.88\" width=\"1004.4\" x=\"36.465625\" y=\"22.318125\"/>\r\n  </clipPath>\r\n </defs>\r\n</svg>\r\n",
      "image/png": "[encoded data removed]"
     },
     "metadata": {
      "needs_background": "light"
     }
    }
   ],
   "source": [
    "df_stTasks.status.value_counts().plot.bar(title=\"Task Status\", figsize=(18,8))"
   ]
  },
  {
   "source": [
    "### Analyze tasks by status and due date\n",
    "\n",
    "Count tasks in each due date/status bin\n"
   ],
   "cell_type": "markdown",
   "metadata": {}
  },
  {
   "cell_type": "code",
   "execution_count": 85,
   "metadata": {},
   "outputs": [
    {
     "output_type": "execute_result",
     "data": {
      "text/plain": [
       "         status     dueDate  count\n",
       "0   CIPREQUOPEN  2021-07-01      1\n",
       "1   CIPREQUOPEN  2021-09-02      1\n",
       "2      CIPTKBLK  2021-07-23      1\n",
       "3    CIPTKCLOSE  2021-08-10      1\n",
       "4      CIPTKINP  2021-09-02      1\n",
       "5      CIPTKINP  2022-04-09      1\n",
       "6     CIPTKOPEN  2021-07-01      4\n",
       "7     CIPTKOPEN  2021-07-09      1\n",
       "8     CIPTKOPEN  2021-07-23      5\n",
       "9     CIPTKOPEN  2021-08-10      3\n",
       "10    CIPTKOPEN  2021-09-02      4\n",
       "11    CIPUSOPEN  2021-07-09      1\n",
       "12    CIPUSOPEN  2021-07-23      1\n",
       "13    CIPUSOPEN  2021-09-02      2"
      ],
      "text/html": "<div>\n<style scoped>\n    .dataframe tbody tr th:only-of-type {\n        vertical-align: middle;\n    }\n\n    .dataframe tbody tr th {\n        vertical-align: top;\n    }\n\n    .dataframe thead th {\n        text-align: right;\n    }\n</style>\n<table border=\"1\" class=\"dataframe\">\n  <thead>\n    <tr style=\"text-align: right;\">\n      <th></th>\n      <th>status</th>\n      <th>dueDate</th>\n      <th>count</th>\n    </tr>\n  </thead>\n  <tbody>\n    <tr>\n      <th>0</th>\n      <td>CIPREQUOPEN</td>\n      <td>2021-07-01</td>\n      <td>1</td>\n    </tr>\n    <tr>\n      <th>1</th>\n      <td>CIPREQUOPEN</td>\n      <td>2021-09-02</td>\n      <td>1</td>\n    </tr>\n    <tr>\n      <th>2</th>\n      <td>CIPTKBLK</td>\n      <td>2021-07-23</td>\n      <td>1</td>\n    </tr>\n    <tr>\n      <th>3</th>\n      <td>CIPTKCLOSE</td>\n      <td>2021-08-10</td>\n      <td>1</td>\n    </tr>\n    <tr>\n      <th>4</th>\n      <td>CIPTKINP</td>\n      <td>2021-09-02</td>\n      <td>1</td>\n    </tr>\n    <tr>\n      <th>5</th>\n      <td>CIPTKINP</td>\n      <td>2022-04-09</td>\n      <td>1</td>\n    </tr>\n    <tr>\n      <th>6</th>\n      <td>CIPTKOPEN</td>\n      <td>2021-07-01</td>\n      <td>4</td>\n    </tr>\n    <tr>\n      <th>7</th>\n      <td>CIPTKOPEN</td>\n      <td>2021-07-09</td>\n      <td>1</td>\n    </tr>\n    <tr>\n      <th>8</th>\n      <td>CIPTKOPEN</td>\n      <td>2021-07-23</td>\n      <td>5</td>\n    </tr>\n    <tr>\n      <th>9</th>\n      <td>CIPTKOPEN</td>\n      <td>2021-08-10</td>\n      <td>3</td>\n    </tr>\n    <tr>\n      <th>10</th>\n      <td>CIPTKOPEN</td>\n      <td>2021-09-02</td>\n      <td>4</td>\n    </tr>\n    <tr>\n      <th>11</th>\n      <td>CIPUSOPEN</td>\n      <td>2021-07-09</td>\n      <td>1</td>\n    </tr>\n    <tr>\n      <th>12</th>\n      <td>CIPUSOPEN</td>\n      <td>2021-07-23</td>\n      <td>1</td>\n    </tr>\n    <tr>\n      <th>13</th>\n      <td>CIPUSOPEN</td>\n      <td>2021-09-02</td>\n      <td>2</td>\n    </tr>\n  </tbody>\n</table>\n</div>"
     },
     "metadata": {},
     "execution_count": 85
    }
   ],
   "source": [
    "df_stTasks_Status = df_stTasks.groupby(by=['status','dueDate'])['id'].count().reset_index()\n",
    "df_stTasks_Status.rename(columns={'id': 'count'}, inplace=True)\n",
    "df_stTasks_Status"
   ]
  },
  {
   "source": [
    "### Demo stacked barchart due date, status count\n",
    "\n",
    "Use plotly to make a quick stacked barchart. X-axis is due date, y axis is task count, colours in legend are task status values."
   ],
   "cell_type": "markdown",
   "metadata": {}
  },
  {
   "cell_type": "code",
   "execution_count": 86,
   "metadata": {},
   "outputs": [
    {
     "output_type": "display_data",
     "data": {
      "application/vnd.plotly.v1+json": {
       "config": {
        "plotlyServerURL": "https://plot.ly"
       },
       "data": [
        {
         "alignmentgroup": "True",
         "hovertemplate": "status=CIPREQUOPEN<br>dueDate=%{x}<br>count=%{y}<extra></extra>",
         "legendgroup": "CIPREQUOPEN",
         "marker": {
          "color": "#636efa"
         },
         "name": "CIPREQUOPEN",
         "offsetgroup": "CIPREQUOPEN",
         "orientation": "v",
         "showlegend": true,
         "textposition": "auto",
         "type": "bar",
         "x": [
          "2021-07-01",
          "2021-09-02"
         ],
         "xaxis": "x",
         "y": [
          1,
          1
         ],
         "yaxis": "y"
        },
        {
         "alignmentgroup": "True",
         "hovertemplate": "status=CIPTKBLK<br>dueDate=%{x}<br>count=%{y}<extra></extra>",
         "legendgroup": "CIPTKBLK",
         "marker": {
          "color": "#EF553B"
         },
         "name": "CIPTKBLK",
         "offsetgroup": "CIPTKBLK",
         "orientation": "v",
         "showlegend": true,
         "textposition": "auto",
         "type": "bar",
         "x": [
          "2021-07-23"
         ],
         "xaxis": "x",
         "y": [
          1
         ],
         "yaxis": "y"
        },
        {
         "alignmentgroup": "True",
         "hovertemplate": "status=CIPTKCLOSE<br>dueDate=%{x}<br>count=%{y}<extra></extra>",
         "legendgroup": "CIPTKCLOSE",
         "marker": {
          "color": "#00cc96"
         },
         "name": "CIPTKCLOSE",
         "offsetgroup": "CIPTKCLOSE",
         "orientation": "v",
         "showlegend": true,
         "textposition": "auto",
         "type": "bar",
         "x": [
          "2021-08-10"
         ],
         "xaxis": "x",
         "y": [
          1
         ],
         "yaxis": "y"
        },
        {
         "alignmentgroup": "True",
         "hovertemplate": "status=CIPTKINP<br>dueDate=%{x}<br>count=%{y}<extra></extra>",
         "legendgroup": "CIPTKINP",
         "marker": {
          "color": "#ab63fa"
         },
         "name": "CIPTKINP",
         "offsetgroup": "CIPTKINP",
         "orientation": "v",
         "showlegend": true,
         "textposition": "auto",
         "type": "bar",
         "x": [
          "2021-09-02",
          "2022-04-09"
         ],
         "xaxis": "x",
         "y": [
          1,
          1
         ],
         "yaxis": "y"
        },
        {
         "alignmentgroup": "True",
         "hovertemplate": "status=CIPTKOPEN<br>dueDate=%{x}<br>count=%{y}<extra></extra>",
         "legendgroup": "CIPTKOPEN",
         "marker": {
          "color": "#FFA15A"
         },
         "name": "CIPTKOPEN",
         "offsetgroup": "CIPTKOPEN",
         "orientation": "v",
         "showlegend": true,
         "textposition": "auto",
         "type": "bar",
         "x": [
          "2021-07-01",
          "2021-07-09",
          "2021-07-23",
          "2021-08-10",
          "2021-09-02"
         ],
         "xaxis": "x",
         "y": [
          4,
          1,
          5,
          3,
          4
         ],
         "yaxis": "y"
        },
        {
         "alignmentgroup": "True",
         "hovertemplate": "status=CIPUSOPEN<br>dueDate=%{x}<br>count=%{y}<extra></extra>",
         "legendgroup": "CIPUSOPEN",
         "marker": {
          "color": "#19d3f3"
         },
         "name": "CIPUSOPEN",
         "offsetgroup": "CIPUSOPEN",
         "orientation": "v",
         "showlegend": true,
         "textposition": "auto",
         "type": "bar",
         "x": [
          "2021-07-09",
          "2021-07-23",
          "2021-09-02"
         ],
         "xaxis": "x",
         "y": [
          1,
          1,
          2
         ],
         "yaxis": "y"
        }
       ],
       "layout": {
        "barmode": "relative",
        "height": 800,
        "legend": {
         "title": {
          "text": "status"
         },
         "tracegroupgap": 0
        },
        "template": {
         "data": {
          "bar": [
           {
            "error_x": {
             "color": "#2a3f5f"
            },
            "error_y": {
             "color": "#2a3f5f"
            },
            "marker": {
             "line": {
              "color": "#E5ECF6",
              "width": 0.5
             }
            },
            "type": "bar"
           }
          ],
          "barpolar": [
           {
            "marker": {
             "line": {
              "color": "#E5ECF6",
              "width": 0.5
             }
            },
            "type": "barpolar"
           }
          ],
          "carpet": [
           {
            "aaxis": {
             "endlinecolor": "#2a3f5f",
             "gridcolor": "white",
             "linecolor": "white",
             "minorgridcolor": "white",
             "startlinecolor": "#2a3f5f"
            },
            "baxis": {
             "endlinecolor": "#2a3f5f",
             "gridcolor": "white",
             "linecolor": "white",
             "minorgridcolor": "white",
             "startlinecolor": "#2a3f5f"
            },
            "type": "carpet"
           }
          ],
          "choropleth": [
           {
            "colorbar": {
             "outlinewidth": 0,
             "ticks": ""
            },
            "type": "choropleth"
           }
          ],
          "contour": [
           {
            "colorbar": {
             "outlinewidth": 0,
             "ticks": ""
            },
            "colorscale": [
             [
              0,
              "#0d0887"
             ],
             [
              0.1111111111111111,
              "#46039f"
             ],
             [
              0.2222222222222222,
              "#7201a8"
             ],
             [
              0.3333333333333333,
              "#9c179e"
             ],
             [
              0.4444444444444444,
              "#bd3786"
             ],
             [
              0.5555555555555556,
              "#d8576b"
             ],
             [
              0.6666666666666666,
              "#ed7953"
             ],
             [
              0.7777777777777778,
              "#fb9f3a"
             ],
             [
              0.8888888888888888,
              "#fdca26"
             ],
             [
              1,
              "#f0f921"
             ]
            ],
            "type": "contour"
           }
          ],
          "contourcarpet": [
           {
            "colorbar": {
             "outlinewidth": 0,
             "ticks": ""
            },
            "type": "contourcarpet"
           }
          ],
          "heatmap": [
           {
            "colorbar": {
             "outlinewidth": 0,
             "ticks": ""
            },
            "colorscale": [
             [
              0,
              "#0d0887"
             ],
             [
              0.1111111111111111,
              "#46039f"
             ],
             [
              0.2222222222222222,
              "#7201a8"
             ],
             [
              0.3333333333333333,
              "#9c179e"
             ],
             [
              0.4444444444444444,
              "#bd3786"
             ],
             [
              0.5555555555555556,
              "#d8576b"
             ],
             [
              0.6666666666666666,
              "#ed7953"
             ],
             [
              0.7777777777777778,
              "#fb9f3a"
             ],
             [
              0.8888888888888888,
              "#fdca26"
             ],
             [
              1,
              "#f0f921"
             ]
            ],
            "type": "heatmap"
           }
          ],
          "heatmapgl": [
           {
            "colorbar": {
             "outlinewidth": 0,
             "ticks": ""
            },
            "colorscale": [
             [
              0,
              "#0d0887"
             ],
             [
              0.1111111111111111,
              "#46039f"
             ],
             [
              0.2222222222222222,
              "#7201a8"
             ],
             [
              0.3333333333333333,
              "#9c179e"
             ],
             [
              0.4444444444444444,
              "#bd3786"
             ],
             [
              0.5555555555555556,
              "#d8576b"
             ],
             [
              0.6666666666666666,
              "#ed7953"
             ],
             [
              0.7777777777777778,
              "#fb9f3a"
             ],
             [
              0.8888888888888888,
              "#fdca26"
             ],
             [
              1,
              "#f0f921"
             ]
            ],
            "type": "heatmapgl"
           }
          ],
          "histogram": [
           {
            "marker": {
             "colorbar": {
              "outlinewidth": 0,
              "ticks": ""
             }
            },
            "type": "histogram"
           }
          ],
          "histogram2d": [
           {
            "colorbar": {
             "outlinewidth": 0,
             "ticks": ""
            },
            "colorscale": [
             [
              0,
              "#0d0887"
             ],
             [
              0.1111111111111111,
              "#46039f"
             ],
             [
              0.2222222222222222,
              "#7201a8"
             ],
             [
              0.3333333333333333,
              "#9c179e"
             ],
             [
              0.4444444444444444,
              "#bd3786"
             ],
             [
              0.5555555555555556,
              "#d8576b"
             ],
             [
              0.6666666666666666,
              "#ed7953"
             ],
             [
              0.7777777777777778,
              "#fb9f3a"
             ],
             [
              0.8888888888888888,
              "#fdca26"
             ],
             [
              1,
              "#f0f921"
             ]
            ],
            "type": "histogram2d"
           }
          ],
          "histogram2dcontour": [
           {
            "colorbar": {
             "outlinewidth": 0,
             "ticks": ""
            },
            "colorscale": [
             [
              0,
              "#0d0887"
             ],
             [
              0.1111111111111111,
              "#46039f"
             ],
             [
              0.2222222222222222,
              "#7201a8"
             ],
             [
              0.3333333333333333,
              "#9c179e"
             ],
             [
              0.4444444444444444,
              "#bd3786"
             ],
             [
              0.5555555555555556,
              "#d8576b"
             ],
             [
              0.6666666666666666,
              "#ed7953"
             ],
             [
              0.7777777777777778,
              "#fb9f3a"
             ],
             [
              0.8888888888888888,
              "#fdca26"
             ],
             [
              1,
              "#f0f921"
             ]
            ],
            "type": "histogram2dcontour"
           }
          ],
          "mesh3d": [
           {
            "colorbar": {
             "outlinewidth": 0,
             "ticks": ""
            },
            "type": "mesh3d"
           }
          ],
          "parcoords": [
           {
            "line": {
             "colorbar": {
              "outlinewidth": 0,
              "ticks": ""
             }
            },
            "type": "parcoords"
           }
          ],
          "pie": [
           {
            "automargin": true,
            "type": "pie"
           }
          ],
          "scatter": [
           {
            "marker": {
             "colorbar": {
              "outlinewidth": 0,
              "ticks": ""
             }
            },
            "type": "scatter"
           }
          ],
          "scatter3d": [
           {
            "line": {
             "colorbar": {
              "outlinewidth": 0,
              "ticks": ""
             }
            },
            "marker": {
             "colorbar": {
              "outlinewidth": 0,
              "ticks": ""
             }
            },
            "type": "scatter3d"
           }
          ],
          "scattercarpet": [
           {
            "marker": {
             "colorbar": {
              "outlinewidth": 0,
              "ticks": ""
             }
            },
            "type": "scattercarpet"
           }
          ],
          "scattergeo": [
           {
            "marker": {
             "colorbar": {
              "outlinewidth": 0,
              "ticks": ""
             }
            },
            "type": "scattergeo"
           }
          ],
          "scattergl": [
           {
            "marker": {
             "colorbar": {
              "outlinewidth": 0,
              "ticks": ""
             }
            },
            "type": "scattergl"
           }
          ],
          "scattermapbox": [
           {
            "marker": {
             "colorbar": {
              "outlinewidth": 0,
              "ticks": ""
             }
            },
            "type": "scattermapbox"
           }
          ],
          "scatterpolar": [
           {
            "marker": {
             "colorbar": {
              "outlinewidth": 0,
              "ticks": ""
             }
            },
            "type": "scatterpolar"
           }
          ],
          "scatterpolargl": [
           {
            "marker": {
             "colorbar": {
              "outlinewidth": 0,
              "ticks": ""
             }
            },
            "type": "scatterpolargl"
           }
          ],
          "scatterternary": [
           {
            "marker": {
             "colorbar": {
              "outlinewidth": 0,
              "ticks": ""
             }
            },
            "type": "scatterternary"
           }
          ],
          "surface": [
           {
            "colorbar": {
             "outlinewidth": 0,
             "ticks": ""
            },
            "colorscale": [
             [
              0,
              "#0d0887"
             ],
             [
              0.1111111111111111,
              "#46039f"
             ],
             [
              0.2222222222222222,
              "#7201a8"
             ],
             [
              0.3333333333333333,
              "#9c179e"
             ],
             [
              0.4444444444444444,
              "#bd3786"
             ],
             [
              0.5555555555555556,
              "#d8576b"
             ],
             [
              0.6666666666666666,
              "#ed7953"
             ],
             [
              0.7777777777777778,
              "#fb9f3a"
             ],
             [
              0.8888888888888888,
              "#fdca26"
             ],
             [
              1,
              "#f0f921"
             ]
            ],
            "type": "surface"
           }
          ],
          "table": [
           {
            "cells": {
             "fill": {
              "color": "#EBF0F8"
             },
             "line": {
              "color": "white"
             }
            },
            "header": {
             "fill": {
              "color": "#C8D4E3"
             },
             "line": {
              "color": "white"
             }
            },
            "type": "table"
           }
          ]
         },
         "layout": {
          "annotationdefaults": {
           "arrowcolor": "#2a3f5f",
           "arrowhead": 0,
           "arrowwidth": 1
          },
          "autotypenumbers": "strict",
          "coloraxis": {
           "colorbar": {
            "outlinewidth": 0,
            "ticks": ""
           }
          },
          "colorscale": {
           "diverging": [
            [
             0,
             "#8e0152"
            ],
            [
             0.1,
             "#c51b7d"
            ],
            [
             0.2,
             "#de77ae"
            ],
            [
             0.3,
             "#f1b6da"
            ],
            [
             0.4,
             "#fde0ef"
            ],
            [
             0.5,
             "#f7f7f7"
            ],
            [
             0.6,
             "#e6f5d0"
            ],
            [
             0.7,
             "#b8e186"
            ],
            [
             0.8,
             "#7fbc41"
            ],
            [
             0.9,
             "#4d9221"
            ],
            [
             1,
             "#276419"
            ]
           ],
           "sequential": [
            [
             0,
             "#0d0887"
            ],
            [
             0.1111111111111111,
             "#46039f"
            ],
            [
             0.2222222222222222,
             "#7201a8"
            ],
            [
             0.3333333333333333,
             "#9c179e"
            ],
            [
             0.4444444444444444,
             "#bd3786"
            ],
            [
             0.5555555555555556,
             "#d8576b"
            ],
            [
             0.6666666666666666,
             "#ed7953"
            ],
            [
             0.7777777777777778,
             "#fb9f3a"
            ],
            [
             0.8888888888888888,
             "#fdca26"
            ],
            [
             1,
             "#f0f921"
            ]
           ],
           "sequentialminus": [
            [
             0,
             "#0d0887"
            ],
            [
             0.1111111111111111,
             "#46039f"
            ],
            [
             0.2222222222222222,
             "#7201a8"
            ],
            [
             0.3333333333333333,
             "#9c179e"
            ],
            [
             0.4444444444444444,
             "#bd3786"
            ],
            [
             0.5555555555555556,
             "#d8576b"
            ],
            [
             0.6666666666666666,
             "#ed7953"
            ],
            [
             0.7777777777777778,
             "#fb9f3a"
            ],
            [
             0.8888888888888888,
             "#fdca26"
            ],
            [
             1,
             "#f0f921"
            ]
           ]
          },
          "colorway": [
           "#636efa",
           "#EF553B",
           "#00cc96",
           "#ab63fa",
           "#FFA15A",
           "#19d3f3",
           "#FF6692",
           "#B6E880",
           "#FF97FF",
           "#FECB52"
          ],
          "font": {
           "color": "#2a3f5f"
          },
          "geo": {
           "bgcolor": "white",
           "lakecolor": "white",
           "landcolor": "#E5ECF6",
           "showlakes": true,
           "showland": true,
           "subunitcolor": "white"
          },
          "hoverlabel": {
           "align": "left"
          },
          "hovermode": "closest",
          "mapbox": {
           "style": "light"
          },
          "paper_bgcolor": "white",
          "plot_bgcolor": "#E5ECF6",
          "polar": {
           "angularaxis": {
            "gridcolor": "white",
            "linecolor": "white",
            "ticks": ""
           },
           "bgcolor": "#E5ECF6",
           "radialaxis": {
            "gridcolor": "white",
            "linecolor": "white",
            "ticks": ""
           }
          },
          "scene": {
           "xaxis": {
            "backgroundcolor": "#E5ECF6",
            "gridcolor": "white",
            "gridwidth": 2,
            "linecolor": "white",
            "showbackground": true,
            "ticks": "",
            "zerolinecolor": "white"
           },
           "yaxis": {
            "backgroundcolor": "#E5ECF6",
            "gridcolor": "white",
            "gridwidth": 2,
            "linecolor": "white",
            "showbackground": true,
            "ticks": "",
            "zerolinecolor": "white"
           },
           "zaxis": {
            "backgroundcolor": "#E5ECF6",
            "gridcolor": "white",
            "gridwidth": 2,
            "linecolor": "white",
            "showbackground": true,
            "ticks": "",
            "zerolinecolor": "white"
           }
          },
          "shapedefaults": {
           "line": {
            "color": "#2a3f5f"
           }
          },
          "ternary": {
           "aaxis": {
            "gridcolor": "white",
            "linecolor": "white",
            "ticks": ""
           },
           "baxis": {
            "gridcolor": "white",
            "linecolor": "white",
            "ticks": ""
           },
           "bgcolor": "#E5ECF6",
           "caxis": {
            "gridcolor": "white",
            "linecolor": "white",
            "ticks": ""
           }
          },
          "title": {
           "x": 0.05
          },
          "xaxis": {
           "automargin": true,
           "gridcolor": "white",
           "linecolor": "white",
           "ticks": "",
           "title": {
            "standoff": 15
           },
           "zerolinecolor": "white",
           "zerolinewidth": 2
          },
          "yaxis": {
           "automargin": true,
           "gridcolor": "white",
           "linecolor": "white",
           "ticks": "",
           "title": {
            "standoff": 15
           },
           "zerolinecolor": "white",
           "zerolinewidth": 2
          }
         }
        },
        "title": {
         "text": "Task Status by Due Date"
        },
        "width": 1200,
        "xaxis": {
         "anchor": "y",
         "domain": [
          0,
          1
         ],
         "title": {
          "text": "dueDate"
         }
        },
        "yaxis": {
         "anchor": "x",
         "domain": [
          0,
          1
         ],
         "title": {
          "text": "count"
         }
        }
       }
      }
     },
     "metadata": {}
    }
   ],
   "source": [
    "import plotly.express as px\n",
    "\n",
    "fig = px.bar(df_stTasks_Status, x='dueDate', y='count', color='status', title=\"Task Status by Due Date\", width=1200, height=800)\n",
    "fig"
   ]
  },
  {
   "source": [
    "## Create Task\n",
    "\n",
    "* Endpoint: `https://<tenant url>/api/imp-tkm-srv/v1/tasks`\n",
    "\n",
    "* Type: Post\n",
    "\n",
    "Append a timestamp to the end of the new task title for easy identification in UI.\n",
    "\n",
    "Expected response `201 Created`\n"
   ],
   "cell_type": "markdown",
   "metadata": {}
  },
  {
   "cell_type": "code",
   "execution_count": 87,
   "metadata": {},
   "outputs": [
    {
     "output_type": "stream",
     "name": "stdout",
     "text": [
      "201 Created\nNew task ID: 326e8417-1ba3-4b67-9237-764614f3a6e5\n"
     ]
    }
   ],
   "source": [
    "import datetime\n",
    "\n",
    "isoNow = datetime.datetime.now().isoformat()\n",
    "\n",
    "taskCreateURL = base_url + '/api/calm-tasks/v1/tasks'\n",
    "\n",
    "taskData = {\n",
    "    \"projectId\": show_tell_prj,\n",
    "    \"title\": \"Notebook API test task \" + isoNow,\n",
    "    \"type\": \"CALMTASK\",\n",
    "    \"description\": \"test description. hello world\"\n",
    "}\n",
    "\n",
    "response = requests.post(taskURL, headers=hed, json=taskData)\n",
    "\n",
    "print(response.status_code, response.reason)\n",
    "\n",
    "newTaskID = response.json()['id']\n",
    "print(\"New task ID:\", newTaskID)"
   ]
  },
  {
   "source": [
    "## Get Task Details\n",
    "\n",
    "Use GET request to read details of task just created\n",
    "\n",
    "* Endpoint: `https://<tenant url>/rest/tkm/v1/tasks/{taskGuid}`\n",
    "\n",
    "* Type: Get\n",
    "\n",
    "Expected response: `200 OK`\n"
   ],
   "cell_type": "markdown",
   "metadata": {}
  },
  {
   "cell_type": "code",
   "execution_count": 88,
   "metadata": {},
   "outputs": [
    {
     "output_type": "stream",
     "name": "stdout",
     "text": [
      "200 OK\n"
     ]
    }
   ],
   "source": [
    "taskURL = base_url + '/api/calm-tasks/v1/tasks/' + newTaskID\n",
    "\n",
    "response = requests.get(taskURL, headers=hed)\n",
    "\n",
    "print(response.status_code, response.reason)"
   ]
  },
  {
   "source": [
    "### Save and print response JSON"
   ],
   "cell_type": "markdown",
   "metadata": {}
  },
  {
   "cell_type": "code",
   "execution_count": 89,
   "metadata": {},
   "outputs": [
    {
     "output_type": "execute_result",
     "data": {
      "text/plain": [
       "{'id': '326e8417-1ba3-4b67-9237-764614f3a6e5',\n",
       " 'projectId': '5e013b69-d603-4f59-afee-ea2024392a28',\n",
       " 'title': 'Notebook API test task 2021-07-16T10:32:45.917089',\n",
       " 'type': 'CALMTASK',\n",
       " 'status': 'CIPTKOPEN',\n",
       " 'externalId': None,\n",
       " 'dueDate': '2021-07-23',\n",
       " 'description': 'test description. hello world'}"
      ]
     },
     "metadata": {},
     "execution_count": 89
    }
   ],
   "source": [
    "taskToModify = response.json()\n",
    "taskToModify"
   ]
  },
  {
   "cell_type": "code",
   "execution_count": 90,
   "metadata": {},
   "outputs": [
    {
     "output_type": "execute_result",
     "data": {
      "text/plain": [
       "'Notebook API test task 2021-07-16T10:32:45.917089'"
      ]
     },
     "metadata": {},
     "execution_count": 90
    }
   ],
   "source": [
    "taskToModify['title']"
   ]
  },
  {
   "source": [
    "## Modify Task\n",
    "\n",
    "Use PATCH method to update task attributes\n",
    "\n",
    "Expected response: `200 OK`"
   ],
   "cell_type": "markdown",
   "metadata": {}
  },
  {
   "cell_type": "code",
   "execution_count": 91,
   "metadata": {},
   "outputs": [],
   "source": [
    "taskToModify['title'] = taskToModify['title'] + ' mod'\n",
    "taskToModify['dueDate'] = '2022-04-09'\n",
    "taskToModify['status'] = 'CIPTKINP'\n",
    "taskToModify['description'] = 'This is a new <b>Descripion</b>. It replaces the old description'"
   ]
  },
  {
   "cell_type": "code",
   "execution_count": 92,
   "metadata": {},
   "outputs": [
    {
     "output_type": "stream",
     "name": "stdout",
     "text": [
      "200 OK\n"
     ]
    }
   ],
   "source": [
    "taskURL = base_url + '/api/calm-tasks/v1/tasks/' + newTaskID\n",
    "\n",
    "response = requests.patch(taskURL, headers=hed, json=taskToModify)\n",
    "\n",
    "print(response.status_code, response.reason)"
   ]
  },
  {
   "cell_type": "code",
   "execution_count": 93,
   "metadata": {},
   "outputs": [
    {
     "output_type": "execute_result",
     "data": {
      "text/plain": [
       "{'id': '326e8417-1ba3-4b67-9237-764614f3a6e5',\n",
       " 'projectId': '5e013b69-d603-4f59-afee-ea2024392a28',\n",
       " 'title': 'Notebook API test task 2021-07-16T10:32:45.917089 mod',\n",
       " 'type': 'CALMTASK',\n",
       " 'status': 'CIPTKINP',\n",
       " 'externalId': None,\n",
       " 'dueDate': '2022-04-09',\n",
       " 'description': 'This is a new <b>Descripion</b>. It replaces the old description'}"
      ]
     },
     "metadata": {},
     "execution_count": 93
    }
   ],
   "source": [
    "response.json()"
   ]
  },
  {
   "source": [
    "## Delete Task\n",
    "\n",
    "DELETE method\n",
    "\n",
    "Expected response: `204 No Content`\n"
   ],
   "cell_type": "markdown",
   "metadata": {}
  },
  {
   "cell_type": "code",
   "execution_count": 94,
   "metadata": {},
   "outputs": [
    {
     "output_type": "stream",
     "name": "stdout",
     "text": [
      "204 No Content\n"
     ]
    }
   ],
   "source": [
    "taskURL = base_url + '/api/calm-tasks/v1/tasks/' + newTaskID\n",
    "\n",
    "response = requests.delete(taskURL, headers=hed)\n",
    "\n",
    "print(response.status_code, response.reason)"
   ]
  },
  {
   "source": [
    "## Create Project\n",
    "\n",
    "JSON format example for creating a project:\n",
    "\n",
    "```\n",
    "{\n",
    "  \"name\": \"string\"\n",
    "}\n",
    "```\n",
    "\n",
    "Expected response: `201 Created`"
   ],
   "cell_type": "markdown",
   "metadata": {}
  },
  {
   "cell_type": "code",
   "execution_count": 95,
   "metadata": {},
   "outputs": [
    {
     "output_type": "stream",
     "name": "stdout",
     "text": [
      "201 Created\nNew project ID: fc2ac165-98e0-4eff-8767-692a30a1f568\n"
     ]
    }
   ],
   "source": [
    "newProj = {\n",
    "  \"name\": \"Notebook API proj \" + datetime.datetime.now().isoformat()\n",
    "}\n",
    "\n",
    "response = requests.post(base_url + '/api/calm-projects/v1/projects', headers=hed, json=newProj)\n",
    "\n",
    "print(response.status_code, response.reason)\n",
    "\n",
    "newProjID = response.json()['id']\n",
    "print(\"New project ID:\", newProjID)"
   ]
  },
  {
   "source": [
    "### Add tasks to new project\n",
    "\n",
    "**THIS WILL FAIL**\n",
    "\n",
    "The failure demonstrates that task creation fails if this attempted as the first operation in a newly created project. (This is due to project ID buffering which needs to be updated for the new project, or a similar issue.)\n",
    "\n",
    "* Run the code cell after this cell to reread the project list, and tasks from a project\n",
    "\n",
    "Expected response on success: `201 Created`\n",
    "\n",
    "On failure, which currenly is the case, you'll get a python runtime error, since the response JSON is empty."
   ],
   "cell_type": "markdown",
   "metadata": {}
  },
  {
   "cell_type": "code",
   "execution_count": 98,
   "metadata": {},
   "outputs": [
    {
     "output_type": "stream",
     "name": "stdout",
     "text": [
      "201 Created\nNew task ID: debfc9c3-a13e-4f17-972a-a0d29fa58800\n"
     ]
    }
   ],
   "source": [
    "taskCreateURL = base_url + '/api/calm-tasks/v1/tasks'\n",
    "\n",
    "taskData = {\n",
    "    \"projectId\": newProjID,\n",
    "    \"title\": \"Notebook API test task \" + datetime.datetime.now().isoformat(),\n",
    "    \"type\": \"CALMTASK\",\n",
    "    \"description\": \"test description. hello world\"\n",
    "}\n",
    "\n",
    "response = requests.post(taskURL, headers=hed, json=taskData)\n",
    "\n",
    "print(response.status_code, response.reason)\n",
    "\n",
    "newTaskID = response.json()['id']\n",
    "print(\"New task ID:\", newTaskID)"
   ]
  },
  {
   "source": [
    "### Reread Project, tasks from project\n",
    "\n",
    "Run this, then the above cell again if the create task operation in the above cell fails."
   ],
   "cell_type": "markdown",
   "metadata": {}
  },
  {
   "cell_type": "code",
   "execution_count": 97,
   "metadata": {},
   "outputs": [
    {
     "output_type": "stream",
     "name": "stdout",
     "text": [
      "200 OK\n",
      "200 OK\n"
     ]
    }
   ],
   "source": [
    "\n",
    "\n",
    "response = requests.get(base_url + '/api/calm-projects/v1/projects', headers=hed)\n",
    "\n",
    "print(response.status_code, response.reason)\n",
    "\n",
    "\n",
    "taskURL = base_url + '/api/calm-tasks/v1/tasks?projectId=' + newProjID\n",
    "\n",
    "response = requests.get(taskURL, headers=hed)\n",
    "\n",
    "print(response.status_code, response.reason)\n",
    "\n"
   ]
  },
  {
   "source": [
    "### Create 10 tasks in project\n",
    "\n",
    "Use tasks API to create multiple new tasks, by calling API in a for loop.\n",
    "\n",
    "Expected response: 10 x `201 Created`"
   ],
   "cell_type": "markdown",
   "metadata": {}
  },
  {
   "cell_type": "code",
   "execution_count": 99,
   "metadata": {},
   "outputs": [
    {
     "output_type": "stream",
     "name": "stdout",
     "text": [
      "Creating task 0\n",
      "201 Created\n",
      "New task ID: 78b3d81d-3d40-494e-91ee-50aea0d556a1\n",
      "Creating task 1\n",
      "201 Created\n",
      "New task ID: e14b684a-7b96-4b8c-baab-bc2b93360c50\n",
      "Creating task 2\n",
      "201 Created\n",
      "New task ID: 331f9857-2522-4ca4-a585-055e10165cad\n",
      "Creating task 3\n",
      "201 Created\n",
      "New task ID: 1fb336f6-a84b-49c5-8ed2-51e2a5a5fa92\n",
      "Creating task 4\n",
      "201 Created\n",
      "New task ID: 79362ca9-f050-424b-b04b-0cee1a352ddf\n",
      "Creating task 5\n",
      "201 Created\n",
      "New task ID: 9d9f0d45-d6b3-4a96-a3f4-62d60b74772b\n",
      "Creating task 6\n",
      "201 Created\n",
      "New task ID: 49595caa-2daf-48ab-8d99-38ed28329a3c\n",
      "Creating task 7\n",
      "201 Created\n",
      "New task ID: 8a96ee8e-498c-4962-9d68-a2924c32bfac\n",
      "Creating task 8\n",
      "201 Created\n",
      "New task ID: 216546e1-5322-4f13-bf61-e299faf6233a\n",
      "Creating task 9\n",
      "201 Created\n",
      "New task ID: f83766ab-0bfc-4d88-a319-1e62ee2432e9\n"
     ]
    }
   ],
   "source": [
    "for i in range(10):\n",
    "    print(\"Creating task\", str(i))\n",
    "\n",
    "    taskData = {\n",
    "        \"projectId\": newProjID,\n",
    "        \"title\": \"Notebook API test task \" + str(i),\n",
    "        \"type\": \"CALMTASK\",\n",
    "        \"description\": \"test description. hello world\"\n",
    "    }\n",
    "\n",
    "    response = requests.post(taskURL, headers=hed, json=taskData)\n",
    "\n",
    "    print(response.status_code, response.reason)\n",
    "\n",
    "    newTaskID = response.json()['id']\n",
    "    print(\"New task ID:\", newTaskID)\n",
    "\n"
   ]
  },
  {
   "source": [
    "### Create 10 user stories in project\n",
    "\n",
    "Change type parameter to 'CALMUS' to have the API create user stories instead of tasks.\n",
    "\n",
    "Expected response: 10 x `201 Created`"
   ],
   "cell_type": "markdown",
   "metadata": {}
  },
  {
   "cell_type": "code",
   "execution_count": 100,
   "metadata": {},
   "outputs": [
    {
     "output_type": "stream",
     "name": "stdout",
     "text": [
      "Creating user story 0\n",
      "201 Created\n",
      "New task ID: 5f09ea32-6b8a-4947-b72f-15039d8ff42a\n",
      "Creating user story 1\n",
      "201 Created\n",
      "New task ID: 8f227572-b55c-4f00-ac7d-7d5d66e42077\n",
      "Creating user story 2\n",
      "201 Created\n",
      "New task ID: d063518b-053c-415e-9ae1-8be498af3619\n",
      "Creating user story 3\n",
      "201 Created\n",
      "New task ID: f7988d38-6521-4422-9f38-fa63e6460bf0\n",
      "Creating user story 4\n",
      "201 Created\n",
      "New task ID: 52986207-8d30-43e7-8073-f4b7d5393cd7\n",
      "Creating user story 5\n",
      "201 Created\n",
      "New task ID: 4a80dc25-68c8-423a-8f37-f806df471182\n",
      "Creating user story 6\n",
      "201 Created\n",
      "New task ID: 0c82ff15-4df6-4f05-b092-3f2f68dd2229\n",
      "Creating user story 7\n",
      "201 Created\n",
      "New task ID: ef8b0a6c-0980-41ca-9e7e-3f1c3ad1bd08\n",
      "Creating user story 8\n",
      "201 Created\n",
      "New task ID: 2a91a147-610f-43d6-bc17-521a682463b3\n",
      "Creating user story 9\n",
      "201 Created\n",
      "New task ID: 0b2ef042-d18c-43f7-91b9-f0c2b7565c7a\n"
     ]
    }
   ],
   "source": [
    "for i in range(10):\n",
    "    print(\"Creating user story\", str(i))\n",
    "\n",
    "    taskData = {\n",
    "        \"projectId\": newProjID,\n",
    "        \"title\": \"Gordon API test user story \" + str(i),\n",
    "        \"type\": \"CALMUS\",\n",
    "        \"description\": \"test description. <b>hello world</b>\"\n",
    "    }\n",
    "\n",
    "    response = requests.post(taskURL, headers=hed, json=taskData)\n",
    "\n",
    "    print(response.status_code, response.reason)\n",
    "\n",
    "    newTaskID = response.json()['id']\n",
    "    print(\"New task ID:\", newTaskID)"
   ]
  }
 ]
}