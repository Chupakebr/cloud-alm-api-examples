{
    "cells": [
        {
            "cell_type": "markdown",
            "metadata": {},
            "source": [
                "# SAP Cloud ALM Process Scopes API Test and Demo\n",
                "\n",
                "This notebook contains examples of SAP Business Hub API calls for SAP Cloud ALM for implementation. The specific APIs shown below are for Process Scopes.\n",
                "\n",
                "The API information and specification is available here:\n",
                "\n",
                "  - https://api.sap.com/package/SAPCloudALM/rest - SAP Cloud ALM\n",
                "  - https://api.sap.com/api/CALM_PM/overview - SAP Cloud ALM Process Scopes\n",
                "\n",
                "Please note the license and other terms and conditions contained in this notebook's repository: https://github.com/SAP-samples/cloud-alm-api-examples.\n",
                "\n",
                "## Python Dependencies Required\n",
                "\n",
                "In order to run the samples in this notebook, install the following dependencies:\n",
                "\n",
                "  - Jupyter integration in Visual Studio Code: https://code.visualstudio.com/docs/python/jupyter-support\n",
                "  - Python 3, a recent version, is Required. Python 3.9 was used here\n",
                "  - Requests - for handling HTTP GET/POST/PATCH/DELETE Requests - https://requests.readthedocs.io/en/latest/user/install/#install\n",
                "  - Requests-OAuthlib - for authentication with requests - https://requests-oauthlib.readthedocs.io/en/latest/index.html#installation\n",
                "  - Pandas - Python data analysis - https://pandas.pydata.org/docs/getting_started/install.html\n",
                "\n",
                "## APIs called\n",
                "\n",
                "API for Process Scopes: https://\\<tenanant url\\>/api/calm-processmanagement/v1"
            ]
        },
        {
            "cell_type": "markdown",
            "metadata": {},
            "source": [
                "* * *\n",
                "# Authentication information\n",
                "\n",
                "You must create a python module file called apidata.py and put the information specific to your tenant there. This includes:\n",
                "\n",
                "  - OAuth2 client ID and secret\n",
                "  - Token url\n",
                "  - Base URL for API calls\n",
                "  \n",
                "Get client ID and secret variables from an external module: this information is sensitive.\n",
                "\n",
                "These items can be retrieved from the SAP Business Technology Platform (SAP BTP) Cockpit.\n",
                "\n",
                "## Format of module apidata.py for import\n",
                "\n",
                "```python\n",
                "service_instance_client_id = r'get your client ID from SAP BTP Cockpit'\n",
                "service_instance_client_secret = r'get your client secret from SAP BTP Cockpit'\n",
                "token_url = 'your token url'\n",
                "base_url = 'your base url'\n",
                "```"
            ]
        },
        {
            "cell_type": "code",
            "execution_count": null,
            "metadata": {},
            "outputs": [],
            "source": [
                "# Import credentials from apidata.py\n",
                "import apidata as ad\n",
                "\n",
                "client_id = ad.service_instance_client_id\n",
                "client_secret = ad.service_instance_client_secret\n",
                "token_url = ad.token_url\n",
                "base_url = ad.base_url\n",
                "\n",
                "default_project = '11111111-1111-1111-1111-111111111111'"
            ]
        },
        {
            "cell_type": "markdown",
            "metadata": {},
            "source": [
                "* * *\n",
                "# Get token for authentication\n",
                "Call OAuth token API with credential information. Add the token to variable which is used as header in all subsequent requests.\n",
                "\n",
                "See Requests-OAuthlib documentation for Backend Application Flow:\n",
                "\n",
                "* https://requests-oauthlib.readthedocs.io/en/latest/oauth2_workflow.html#backend-application-flow"
            ]
        },
        {
            "cell_type": "code",
            "execution_count": null,
            "metadata": {},
            "outputs": [],
            "source": [
                "import requests\n",
                "from requests_oauthlib import OAuth2Session\n",
                "from oauthlib.oauth2 import BackendApplicationClient\n",
                "import pandas as pd\n",
                "\n",
                "client = BackendApplicationClient(client_id=client_id)\n",
                "oauth = OAuth2Session(client=client)\n",
                "token = oauth.fetch_token(token_url=token_url, client_id=client_id,\n",
                "        client_secret=client_secret)\n",
                "\n",
                "# Prepare the header data for all subsequent requests\n",
                "headers = {'Authorization': 'Bearer ' + token['access_token']}\n",
                "\n",
                "# prepare the header for patch requests\n",
                "patchUpdateHeader = {\n",
                "    'Authorization': 'Bearer ' + token['access_token'],\n",
                "    'Content-Type': 'application/merge-patch+json'\n",
                "} "
            ]
        },
        {
            "cell_type": "markdown",
            "metadata": {},
            "source": [
                "* * * \n",
                "# GET count of all scopes\n",
                "\n",
                "Expected response: \"200 OK\""
            ]
        },
        {
            "cell_type": "code",
            "execution_count": null,
            "metadata": {
                "tags": []
            },
            "outputs": [],
            "source": [
                "response = requests.get(base_url + '/scopes/$count', headers=headers)\n",
                "\n",
                "print(response.status_code, response.reason)\n",
                "print('Number of scopes: ', response.text)"
            ]
        },
        {
            "cell_type": "markdown",
            "metadata": {},
            "source": [
                "* * *\n",
                "# GET a list of scopes in the default project\n",
                "\n",
                "Expected response: \"200 OK\""
            ]
        },
        {
            "cell_type": "code",
            "execution_count": null,
            "metadata": {},
            "outputs": [],
            "source": [
                "response = requests.get(base_url + '/scopes/?projectId=' + default_project, headers=headers)\n",
                "\n",
                "print(response.status_code, response.reason)"
            ]
        },
        {
            "cell_type": "markdown",
            "metadata": {},
            "source": [
                "# Parse JSON response into Pandas Dataframe\n",
                "\n",
                "This takes the data returned from the process scopes API, which is in JSON format, and places it into a dataframe for further processing and analysis."
            ]
        },
        {
            "cell_type": "code",
            "execution_count": null,
            "metadata": {},
            "outputs": [],
            "source": [
                "df = pd.json_normalize(response.json()['value'])\n",
                "\n",
                "df"
            ]
        },
        {
            "cell_type": "markdown",
            "metadata": {},
            "source": [
                "* * * \n",
                "# GET a list of scopes using paging parameters and inline count\n",
                "\n",
                "Expected response: \"200 OK\""
            ]
        },
        {
            "cell_type": "code",
            "execution_count": null,
            "metadata": {},
            "outputs": [],
            "source": [
                "response = requests.get(base_url + '/scopes?$skip=2&$top=3&$count=true', headers=headers)\n",
                "\n",
                "print(response.status_code, response.reason)"
            ]
        },
        {
            "cell_type": "markdown",
            "metadata": {},
            "source": [
                "# Parse JSON response into Pandas Dataframe\n",
                "\n",
                "This takes the data returned from the process scopes API, which is in JSON format, and places it into a dataframe for further processing and analysis."
            ]
        },
        {
            "cell_type": "code",
            "execution_count": null,
            "metadata": {},
            "outputs": [],
            "source": [
                "df = pd.json_normalize(response.json()['value'])\n",
                "\n",
                "df"
            ]
        },
        {
            "cell_type": "markdown",
            "metadata": {},
            "source": [
                "* * *\n",
                "# Create a scope\n",
                "\n",
                "Expected response \"201 Created\""
            ]
        },
        {
            "cell_type": "code",
            "execution_count": null,
            "metadata": {},
            "outputs": [],
            "source": [
                "import datetime\n",
                "\n",
                "isoNow = datetime.datetime.now().isoformat()\n",
                "\n",
                "scopeData = {\n",
                "    'projectId': default_project,\n",
                "    'name': 'API test scope ' + isoNow,\n",
                "    'description': 'test description'\n",
                "}\n",
                "\n",
                "createdScopeResponse = requests.post(base_url + '/scopes', headers=headers, json=scopeData)\n",
                "\n",
                "print(createdScopeResponse.status_code, createdScopeResponse.reason)\n",
                "\n",
                "newScopeId = createdScopeResponse.json()['id']\n",
                "print('New scope ID: ', newScopeId)\n",
                "\n",
                "df = pd.json_normalize(createdScopeResponse.json())\n",
                "\n",
                "df"
            ]
        },
        {
            "cell_type": "markdown",
            "metadata": {},
            "source": [
                "* * *\n",
                "\n",
                "# Update a scope\n",
                "\n",
                "Expected response \"200 OK\""
            ]
        },
        {
            "cell_type": "code",
            "execution_count": null,
            "metadata": {},
            "outputs": [],
            "source": [
                "scopeUpdateData = {\n",
                "    'name': scopeData['name'] + ' Updated',\n",
                "    'description': scopeData['description'] + ' Updated'\n",
                "}\n",
                "\n",
                "updatedScopeResponse = requests.patch(base_url + '/scopes/' + newScopeId, headers=patchUpdateHeader, json=scopeUpdateData)\n",
                "\n",
                "print(updatedScopeResponse.status_code, updatedScopeResponse.reason)\n",
                "\n",
                "df = pd.json_normalize(updatedScopeResponse.json())\n",
                "\n",
                "df"
            ]
        },
        {
            "cell_type": "markdown",
            "metadata": {},
            "source": [
                "* * * \n",
                "# Get all solution scenario versions (content release versions)\n",
                "\n",
                "Expected response \"200 OK\""
            ]
        },
        {
            "cell_type": "code",
            "execution_count": null,
            "metadata": {},
            "outputs": [],
            "source": [
                "allContentSolutionScenarioVersions = requests.get(base_url + '/solutionScenarioVersions', headers=headers)\n",
                "\n",
                "print(allContentSolutionScenarioVersions.status_code, allContentSolutionScenarioVersions.reason)\n",
                "\n",
                "df = pd.json_normalize(allContentSolutionScenarioVersions.json()['value'])\n",
                "\n",
                "df"
            ]
        },
        {
            "cell_type": "markdown",
            "metadata": {},
            "source": [
                "* * * \n",
                "# Assign a solution scenario version to a scope\n",
                "\n",
                "Expected response \"201 Created\""
            ]
        },
        {
            "cell_type": "code",
            "execution_count": null,
            "metadata": {},
            "outputs": [],
            "source": [
                "solutionScenarioAssignment = {\n",
                "    'value': [{\n",
                "        'id': allContentSolutionScenarioVersions.json()['value'][10]['id']\n",
                "    },\n",
                "    {\n",
                "        'id': allContentSolutionScenarioVersions.json()['value'][12]['id']\n",
                "    }]\n",
                "}\n",
                "\n",
                "assignSolutionScenarioResponse = requests.post(base_url + '/scopes/' + newScopeId + '/solutionScenarioVersions', headers=headers, json=solutionScenarioAssignment)\n",
                "\n",
                "print(assignSolutionScenarioResponse.status_code, assignSolutionScenarioResponse.reason)\n",
                "\n",
                "df = pd.json_normalize(assignSolutionScenarioResponse.json()['value'])\n",
                "\n",
                "df"
            ]
        },
        {
            "cell_type": "markdown",
            "metadata": {},
            "source": [
                "* * *\n",
                "# Get all assigned solution scenario versions from single scope\n",
                "\n",
                "Expected response \"200 OK\""
            ]
        },
        {
            "cell_type": "code",
            "execution_count": null,
            "metadata": {},
            "outputs": [],
            "source": [
                "allContentSolutionScenarioVersionsFromSingleScope = requests.get(base_url + '/scopes/' + newScopeId + '/solutionScenarioVersions', headers=headers)\n",
                "\n",
                "print(allContentSolutionScenarioVersionsFromSingleScope.status_code, allContentSolutionScenarioVersionsFromSingleScope.reason)\n",
                "\n",
                "df = pd.json_normalize(allContentSolutionScenarioVersionsFromSingleScope.json()['value'])\n",
                "\n",
                "df"
            ]
        },
        {
            "cell_type": "markdown",
            "metadata": {},
            "source": [
                "* * *\n",
                "# Get a list of solution processes for the default project and the created scope\n",
                "\n",
                "Expected response \"200 OK\""
            ]
        },
        {
            "cell_type": "code",
            "execution_count": null,
            "metadata": {},
            "outputs": [],
            "source": [
                "solutionProcesses = requests.get(base_url + '/solutionProcesses?projectId=' + default_project + '&scopeId=' +  newScopeId + '&$top=10', headers=headers)\n",
                "\n",
                "print(solutionProcesses.status_code, solutionProcesses.reason)\n",
                "\n",
                "df = pd.json_normalize(solutionProcesses.json()['value'])\n",
                "\n",
                "df"
            ]
        },
        {
            "cell_type": "markdown",
            "metadata": {},
            "source": [
                "* * *\n",
                "# Set solution processes in scope\n",
                "\n",
                "Expected response \"200 OK\""
            ]
        },
        {
            "cell_type": "code",
            "execution_count": null,
            "metadata": {},
            "outputs": [],
            "source": [
                "def getScopeAssignment(record):\n",
                "    return {\n",
                "        'scopeId': newScopeId,\n",
                "        'solutionScenarioVersionId': record['solutionScenarioVersionId'],\n",
                "        'solutionProcessVersionId': record['solutionProcessVersionId'],\n",
                "        'isScoped': True\n",
                "    }\n",
                "scopeAssignmentData = { 'value': list(map(getScopeAssignment , solutionProcesses.json()['value'])) } \n",
                "\n",
                "updatedScopeAssignments = requests.patch(base_url + '/solutionProcesses/scopeAssignments', headers=patchUpdateHeader, json=scopeAssignmentData)\n",
                "\n",
                "print(updatedScopeAssignments.status_code, updatedScopeAssignments.reason)\n",
                "print(updatedScopeAssignments.headers.get('x-correlationid'))\n",
                "\n",
                "df = pd.json_normalize(updatedScopeAssignments.json()['value'])\n",
                "\n",
                "df"
            ]
        },
        {
            "cell_type": "markdown",
            "metadata": {},
            "source": [
                "* * *\n",
                "# Delete a Scope\n",
                "\n",
                "Expected response \"204 No Content\""
            ]
        },
        {
            "cell_type": "code",
            "execution_count": null,
            "metadata": {},
            "outputs": [],
            "source": [
                "deleteScopeResponse = requests.delete(base_url + '/scopes/' + newScopeId, headers=headers)\n",
                "\n",
                "print(deleteScopeResponse.status_code, deleteScopeResponse.reason)"
            ]
        }
    ],
    "metadata": {
        "kernelspec": {
            "display_name": "Python 3.9.13 64-bit",
            "language": "python",
            "name": "python3"
        },
        "language_info": {
            "codemirror_mode": {
                "name": "ipython",
                "version": 3
            },
            "file_extension": ".py",
            "mimetype": "text/x-python",
            "name": "python",
            "nbconvert_exporter": "python",
            "pygments_lexer": "ipython3",
            "version": "3.10.7"
        },
        "metadata": {
            "interpreter": {
                "hash": "f224ec300450577f5c2c180c370f0dc297293680ed001095f3a3216f852085cd"
            }
        },
        "orig_nbformat": 2,
        "vscode": {
            "interpreter": {
                "hash": "aee8b7b246df8f9039afb4144a1f6fd8d2ca17a180786b69acc140d282b71a49"
            }
        }
    },
    "nbformat": 4,
    "nbformat_minor": 2
}
