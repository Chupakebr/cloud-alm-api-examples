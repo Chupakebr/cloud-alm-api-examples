{
 "cells": [
  {
   "attachments": {},
   "cell_type": "markdown",
   "metadata": {},
   "source": [
    "# SAP Cloud ALM Project and Task, Processes API Demo\n",
    "## Copying a Template Project from One Tenant to a Target Project in a Second Tenant\n",
    "\n",
    "This notebook contains examples of SAP Business Hub API calls for SAP Cloud ALM for Implementation. The code cells below show how you can use APIs published in the SAP API Business Hub to copy a template project in one tenant to target projects in one or more other tenant. This is useful if you wish to distribute a standard, pre-filled project to new projects in your own tenant, or to other client tenants.\n",
    "\n",
    "The API information and specification is available here:\n",
    "\n",
    "* https://api.sap.com/package/SAPCloudALM/rest - SAP Cloud ALM\n",
    "* https://api.sap.com/api/CALM_PJM/overview - SAP Cloud ALM Projects\n",
    "* https://api.sap.com/api/CALM_TKM/overview - SAP Cloud ALM Tasks\n",
    "* https://api.sap.com/api/CALM_PM/overview - SAP Cloud ALM Process Scopes\n",
    "\n",
    "Please note the license and other terms and conditions contained in this notebook's repository: https://github.com/SAP-samples/cloud-alm-api-examples\n",
    "\n",
    "## Python Dependencies Required\n",
    "\n",
    "In order to run the samples in this notebook, install the following dependencies:\n",
    "\n",
    "* Jupyter integration in Visual Studio Code: https://code.visualstudio.com/docs/python/jupyter-support \n",
    "* Python 3, a recent version, is Required. Python 3.8 was used here.\n",
    "* Requests - for handling HTTP GET/POST/PATCH/DELETE Requests - https://requests.readthedocs.io/en/latest/user/install/#install\n",
    "* Requests-OAuthlib - for authentication with requests - https://requests-oauthlib.readthedocs.io/en/latest/index.html#installation\n",
    "* Pandas - Python data analysis - https://pandas.pydata.org/docs/getting_started/install.html\n",
    "\n",
    "## Setting Up Service Instances\n",
    "\n",
    "In the Business Technology Platform (BTC) Cockpit, you will have to set up service instances for the APIs. During this process, the system will prompt you to upload JSON data. This data contains the authorization scopes required by API callers. As always, take particular care when assigning authorization scopes, and use only the minimum necessary.\n",
    "\n",
    "\n",
    "Example JSON with just read authorization for template project's tenant:\n",
    "```json\n",
    "{\n",
    "  \"xs-security\": {\n",
    "    \"xsappname\": \"<service instance name>\",\n",
    "    \"authorities\": [\n",
    "      \"$XSMASTERAPPNAME.calm-api.projects.read\",\n",
    "      \"$XSMASTERAPPNAME.calm-api.tasks.read\",\n",
    "      \"$XSMASTERAPPNAME.calm-api.processmanagement.read\",\n",
    "      \"$XSMASTERAPPNAME.calm-api.processauthoring.read\"\n",
    "    ]\n",
    "  }\n",
    "}\n",
    "```\n",
    "\n",
    "For target projects, allow read and write operations:\n",
    "\n",
    "```json\n",
    "{\n",
    "  \"xs-security\": {\n",
    "    \"xsappname\": \"<service instance name>\",\n",
    "    \"authorities\": [\n",
    "      \"$XSMASTERAPPNAME.calm-api.projects.read\",\n",
    "      \"$XSMASTERAPPNAME.calm-api.projects.write\",\n",
    "      \"$XSMASTERAPPNAME.calm-api.tasks.write\", \n",
    "      \"$XSMASTERAPPNAME.calm-api.tasks.read\",\n",
    "      \"$XSMASTERAPPNAME.calm-api.processmanagement.read\",\n",
    "      \"$XSMASTERAPPNAME.calm-api.processmanagement.write\",\n",
    "      \"$XSMASTERAPPNAME.calm-api.processmanagement.delete\"   \n",
    "    ]\n",
    "  }\n",
    "}\n",
    "```"
   ]
  },
  {
   "cell_type": "markdown",
   "metadata": {},
   "source": [
    "\n",
    "---\n",
    "\n",
    "## Authentication information\n",
    "\n",
    "You must create a python module file called `apidata.py` and put the information specific to your tenant there. This inclduds\n",
    "\n",
    "* OAuth2 client ID and secret\n",
    "* Token url\n",
    "* Base URL for API calls\n",
    "\n",
    "Get client ID and secret variables from an external module: this information is senstive.\n",
    "\n",
    "These items can be retrieved from the BTP Cockpit \n",
    "\n",
    "### Format of module apidata.py for import\n",
    "\n",
    "In this example, you must provide authentication data for two tenants.\n",
    "\n",
    "1. The _template_ tenant. You read data from this tenant.\n",
    "2. the _target_ tenant. You copy the data into this tenant.\n",
    "\n",
    "#### The Template Tenant\n",
    "\n",
    "```python\n",
    "template_client_id = r'get your client ID from BTP Cockpit'\n",
    "template_client_secret = r'get your client secret from BTP Cockpit'\n",
    "template_token_url = 'your token url'\n",
    "template_base_url = 'your base url'\n",
    "```\n",
    "\n",
    "#### The Target Tenant\n",
    "\n",
    "```python\n",
    "target_client_id = r'get your client ID from BTP Cockpit'\n",
    "target_client_secret = r'get your client secret from BTP Cockpit'\n",
    "target_token_url = 'your token url'\n",
    "target_base_url = 'your base url'\n",
    "```\n",
    "\n",
    "If you want to copy to multiple target tenants, you could consider creating a collection of target information and iterating through each one."
   ]
  },
  {
   "cell_type": "code",
   "execution_count": null,
   "metadata": {},
   "outputs": [],
   "source": [
    "# Imports needed for the code below\n",
    "\n",
    "import requests\n",
    "from requests_oauthlib import OAuth2Session\n",
    "from oauthlib.oauth2 import BackendApplicationClient\n",
    "\n",
    "import pandas as pd\n",
    "\n",
    "import apidata as ad # Local file containing authentication credentials"
   ]
  },
  {
   "cell_type": "markdown",
   "metadata": {},
   "source": [
    "### Get Token for Authentication in Template Tenant\n",
    "\n",
    "Call OAuth token API with credential information. Add the resulting header to all requests.\n",
    "\n",
    "See Requests-OAuthlib documentation for Backend Application Flow:\n",
    "\n",
    "* https://requests-oauthlib.readthedocs.io/en/latest/oauth2_workflow.html#backend-application-flow"
   ]
  },
  {
   "cell_type": "code",
   "execution_count": null,
   "metadata": {},
   "outputs": [],
   "source": [
    "# Read connection information from include:\n",
    "\n",
    "client_id = ad.template_client_id\n",
    "client_secret = ad.template_client_secret\n",
    "token_url = ad.template_token_url\n",
    "base_url = ad.template_base_url"
   ]
  },
  {
   "cell_type": "code",
   "execution_count": null,
   "metadata": {},
   "outputs": [],
   "source": [
    "# Make call to authenticate, authorize:\n",
    "\n",
    "client = BackendApplicationClient(client_id=client_id)\n",
    "oauth = OAuth2Session(client=client)\n",
    "token = oauth.fetch_token(token_url=token_url, client_id=client_id,\n",
    "        client_secret=client_secret)\n",
    "\n",
    "hed = {'Authorization': 'Bearer ' + token['access_token']}        "
   ]
  },
  {
   "attachments": {},
   "cell_type": "markdown",
   "metadata": {},
   "source": [
    "### Get Authentication Data for Target Tenant\n",
    "\n",
    "Perform the same as above, but for the target.\n"
   ]
  },
  {
   "cell_type": "code",
   "execution_count": null,
   "metadata": {},
   "outputs": [],
   "source": [
    "target_client_id = ad.target_client_id\n",
    "target_client_secret = ad.target_client_secret\n",
    "target_token_url = ad.target_token_url\n",
    "target_base_url = ad.target_base_url"
   ]
  },
  {
   "cell_type": "code",
   "execution_count": null,
   "metadata": {},
   "outputs": [],
   "source": [
    "target_client = BackendApplicationClient(client_id=target_client_id)\n",
    "target_oauth = OAuth2Session(client=target_client)\n",
    "target_token = target_oauth.fetch_token(token_url=target_token_url, client_id=target_client_id,\n",
    "        client_secret=target_client_secret)\n",
    "\n",
    "target_hed = {'Authorization': 'Bearer ' + target_token['access_token']}        "
   ]
  },
  {
   "attachments": {},
   "cell_type": "markdown",
   "metadata": {},
   "source": [
    "\n",
    "---\n",
    "\n",
    "## Perform GET Request to Retrieve List of all Projects from Template Tenant\n",
    "\n",
    "Expected response: \"200 OK\"\n",
    "\n",
    "We place the project list into a Pandas data frame for analysis - this is not necessary, but convenient."
   ]
  },
  {
   "cell_type": "code",
   "execution_count": null,
   "metadata": {},
   "outputs": [],
   "source": [
    "response = requests.get(base_url + '/api/calm-projects/v1/projects', headers=hed)\n",
    "\n",
    "print(response.status_code, response.reason)\n",
    "\n",
    "source_projects = response.json()\n",
    "\n",
    "df = pd.json_normalize(source_projects)\n",
    "\n",
    "df"
   ]
  },
  {
   "attachments": {},
   "cell_type": "markdown",
   "metadata": {},
   "source": [
    "### Set template project name\n",
    "\n",
    "Change this to the name of the template project which you want to copy."
   ]
  },
  {
   "cell_type": "code",
   "execution_count": null,
   "metadata": {},
   "outputs": [],
   "source": [
    "# Change to the name of a project you would like to use:\n",
    "\n",
    "template_project_name = 'Demo Template Project'"
   ]
  },
  {
   "attachments": {},
   "cell_type": "markdown",
   "metadata": {},
   "source": [
    "## Get ID of a Selected Project\n",
    "\n",
    "Read ID of template project from dataframe. This will fail if the project does not exist."
   ]
  },
  {
   "cell_type": "code",
   "execution_count": null,
   "metadata": {},
   "outputs": [],
   "source": [
    "stPrjID = df.loc[df['name'] == template_project_name]\n",
    "template_project_id = stPrjID['id'].values[0]\n",
    "print('Project:', stPrjID['name'].values[0], 'ID:', template_project_id)"
   ]
  },
  {
   "attachments": {},
   "cell_type": "markdown",
   "metadata": {},
   "source": [
    "\n",
    "---\n",
    "\n",
    "## Read Task list from template project\n",
    "\n",
    "Use GET request from tasks API with selected project ID as input parameter.\n",
    "\n",
    "Expected response \"200 OK\""
   ]
  },
  {
   "cell_type": "code",
   "execution_count": null,
   "metadata": {},
   "outputs": [],
   "source": [
    "taskURL = base_url + '/api/calm-tasks/v1/tasks?projectId=' + template_project_id\n",
    "\n",
    "response = requests.get(taskURL, headers=hed)\n",
    "\n",
    "print(response.status_code, response.reason)\n",
    "df_template_tasks = pd.json_normalize(response.json())\n",
    "\n",
    "print(\"Number of task items in template project:\", len(df_template_tasks))\n",
    "\n",
    "df_template_tasks.head()"
   ]
  },
  {
   "attachments": {},
   "cell_type": "markdown",
   "metadata": {},
   "source": [
    "## Read Scopes from Template Project\n",
    "\n",
    "This example uses the SAP Cloud ALM Process Scopes API to get the list of scopes in the template target.\n",
    "\n",
    "See the API reference here: <https://api.sap.com/api/CALM_PM/resource/Scope>"
   ]
  },
  {
   "cell_type": "code",
   "execution_count": null,
   "metadata": {},
   "outputs": [],
   "source": [
    "response = requests.get(base_url + '/api/calm-processmanagement/v1/scopes/?projectId=' + template_project_id, headers=hed)\n",
    "\n",
    "print(response.status_code, response.reason)\n",
    "\n",
    "projectScopes = response.json()\n",
    "\n",
    "df_scopes = pd.DataFrame.from_dict(projectScopes['value'])\n",
    "\n",
    "df_scopes"
   ]
  },
  {
   "attachments": {},
   "cell_type": "markdown",
   "metadata": {},
   "source": [
    "## New - Solution Process Assignments\n",
    "\n",
    "This is a new enhancement to the tasks API, released 2023-04-19. It allows you to get and set assignments of tasks/user stories/requirements/... to Solution Processes.\n",
    "\n",
    "API reference: <https://api.sap.com/api/CALM_TKM/resource/Solution_Processes>"
   ]
  },
  {
   "attachments": {},
   "cell_type": "markdown",
   "metadata": {},
   "source": [
    "### Get all tasks with solution process assignments\n",
    "\n",
    "This example uses the project ID as a filter. It returns all items (tasks, etc.) in the project with assignments to Solution Processes.\n"
   ]
  },
  {
   "cell_type": "code",
   "execution_count": null,
   "metadata": {},
   "outputs": [],
   "source": [
    "response = requests.get(base_url + '/api/calm-tasks/v1/tasks/solutionProcessAssignments?projectId=' + template_project_id , headers=hed)\n",
    "\n",
    "print(response.status_code, response.reason)\n",
    "\n",
    "dfTasksWithProcesses = pd.DataFrame.from_dict(response.json())\n",
    "dfTasksWithProcesses"
   ]
  },
  {
   "attachments": {},
   "cell_type": "markdown",
   "metadata": {},
   "source": [
    "---\n",
    "## Work on Target Tenant"
   ]
  },
  {
   "attachments": {},
   "cell_type": "markdown",
   "metadata": {},
   "source": [
    "#### Start with GET Request to Retrieve List of all Projects from Target Tenant\n",
    "\n",
    "Expected response: \"200 OK\""
   ]
  },
  {
   "cell_type": "code",
   "execution_count": null,
   "metadata": {},
   "outputs": [],
   "source": [
    "target_response = requests.get(target_base_url + '/api/calm-projects/v1/projects', headers=target_hed)\n",
    "\n",
    "print(target_response.status_code, target_response.reason)\n",
    "\n",
    "target_projects = target_response.json()\n",
    "\n",
    "print(\"Number of projects in target tenant:\", len(target_projects))"
   ]
  },
  {
   "attachments": {},
   "cell_type": "markdown",
   "metadata": {},
   "source": [
    "#### Name of Target Project to Create/Update\n",
    "\n",
    "If you use this in your own system, change the the project name below to the one where you want to copy everything from the template project.\n"
   ]
  },
  {
   "cell_type": "code",
   "execution_count": null,
   "metadata": {},
   "outputs": [],
   "source": [
    "target_project_name = 'Demo Target Project'\n",
    "target_project_id = ''"
   ]
  },
  {
   "cell_type": "code",
   "execution_count": null,
   "metadata": {},
   "outputs": [],
   "source": [
    "for project in target_projects:\n",
    "    if project['name'] == target_project_name:\n",
    "        target_project_id = project['id']\n",
    "        print('Project exists: ', target_project_name, target_project_id)\n",
    "        break\n",
    "else:\n",
    "    target_project_id = ''\n",
    "    print('Project does not exist')"
   ]
  },
  {
   "attachments": {},
   "cell_type": "markdown",
   "metadata": {},
   "source": [
    "#### Create New Project if it Does not Exist"
   ]
  },
  {
   "cell_type": "code",
   "execution_count": null,
   "metadata": {},
   "outputs": [],
   "source": [
    "if target_project_id == '':\n",
    "\n",
    "    newProj = {\n",
    "        \"name\": target_project_name\n",
    "    }\n",
    "\n",
    "    response = requests.post(target_base_url + '/api/calm-projects/v1/projects', headers=target_hed, json=newProj)\n",
    "\n",
    "    print(response.status_code, response.reason)\n",
    "\n",
    "    target_project_id = response.json()['id']\n",
    "    print(\"New project ID:\", target_project_id)\n",
    "\n",
    "# Refresh the project list:\n",
    "\n",
    "target_response = requests.get(target_base_url + '/api/calm-projects/v1/projects', headers=target_hed)\n",
    "\n",
    "print(target_response.status_code, target_response.reason)"
   ]
  },
  {
   "attachments": {},
   "cell_type": "markdown",
   "metadata": {},
   "source": [
    "### Create Scopes in Target Project\n",
    "\n",
    "If the scopes already exist, the system responds with `400 Bad Request`."
   ]
  },
  {
   "cell_type": "code",
   "execution_count": null,
   "metadata": {},
   "outputs": [],
   "source": [
    "df_scopes['targetProjectId'] = target_project_id # Set the ID of the target project in the scopes dataframe\n",
    "\n",
    "for key, row in df_scopes.iterrows():\n",
    "    print(\"Creating scope:\", row['name'])\n",
    "\n",
    "    target_scope = {\n",
    "        \"projectId\": target_project_id,\n",
    "        \"name\": row['name'],\n",
    "        \"description\": row['description']\n",
    "    }\n",
    "\n",
    "    response = requests.post(target_base_url + '/api/calm-processmanagement/v1/scopes', headers=target_hed, json=target_scope)\n",
    "\n",
    "    print(response.status_code, response.reason)\n",
    "\n",
    "    targetScopeResponse = response.json()\n"
   ]
  },
  {
   "attachments": {},
   "cell_type": "markdown",
   "metadata": {},
   "source": [
    "### Read Scope List from Target Project\n",
    "\n",
    "Read the scope list to get the new IDs from the target project."
   ]
  },
  {
   "cell_type": "code",
   "execution_count": null,
   "metadata": {},
   "outputs": [],
   "source": [
    "response = requests.get(target_base_url + '/api/calm-processmanagement/v1/scopes/?projectId=' + target_project_id, headers=target_hed)\n",
    "\n",
    "print(response.status_code, response.reason)\n",
    "\n",
    "\n",
    "targetProjectScopes = response.json()['value']\n",
    "targetProjectScopes"
   ]
  },
  {
   "attachments": {},
   "cell_type": "markdown",
   "metadata": {},
   "source": [
    "#### Map Scope IDs from Template and Target Projects\n",
    "\n",
    "The code below loops through the scopes in the target project, and writes the IDs (`targetId`) in the corresponding row of the scopes dataframe.\n",
    "\n",
    "Now the dataframe will have scope and project IDs of both the template and and target projects."
   ]
  },
  {
   "cell_type": "code",
   "execution_count": null,
   "metadata": {},
   "outputs": [],
   "source": [
    "df_scopes['targetId'] = ''\n",
    "\n",
    "for scope in targetProjectScopes:\n",
    "    df_scopes.loc[df_scopes['name'] == scope['name'], 'targetId'] = scope['id']\n",
    "    \n",
    "df_scopes"
   ]
  },
  {
   "attachments": {},
   "cell_type": "markdown",
   "metadata": {},
   "source": [
    "### Add target scope IDs to process assignments\n",
    "\n",
    "Use a dataframe merge to combine the new scope IDs in the target project with the solution process assignment to tasks."
   ]
  },
  {
   "cell_type": "code",
   "execution_count": null,
   "metadata": {},
   "outputs": [],
   "source": [
    "df_old_new_processes = pd.merge(dfTasksWithProcesses, df_scopes[['id','targetId']], left_on='scopeId', right_on='id')\n",
    "df_old_new_processes"
   ]
  },
  {
   "attachments": {},
   "cell_type": "markdown",
   "metadata": {},
   "source": [
    "### Activate Solution Scenarios and Scope Processes in Target Scopes\n",
    "\n",
    "There are much more efficient ways of doing this. In particular, adding multiple solution scenario versions to an array would reduce the number of calls.\n",
    "\n",
    "The code below does the following:\n",
    "\n",
    "1. Activates the required Solution Scenarios in the respective Scopes.\n",
    "2. Looks up the needed Solution Process Version ID from the above Solution Scenario.\n",
    "3. Sets the corresponding Solution Process to in scope."
   ]
  },
  {
   "cell_type": "code",
   "execution_count": null,
   "metadata": {},
   "outputs": [],
   "source": [
    "target_hed_patch = target_hed.copy()\n",
    "target_hed_patch.update({'Content-Type': 'application/merge-patch+json'}) # Watch out for this: an explicit content type is required for patch operations\n",
    "\n",
    "target_hed_post = target_hed.copy()\n",
    "target_hed_post.update({'Content-Type': 'application/json'}) \n",
    "\n",
    "\n",
    "for key, row in df_old_new_processes.iterrows():\n",
    "    print('Activating Solution Scenario', row['targetId'])\n",
    "    targetScopeId = row['targetId']\n",
    "    targetSolutionScenarioVersionId = row['solutionScenarioVersionId']\n",
    "    targetSolutionProcessId = row['solutionProcessId']\n",
    "\n",
    "\n",
    "    # 1. Activate the Solution Scenario in the scope\n",
    "    target_solutionScenarioJson = {\"value\": [{\"id\": targetSolutionScenarioVersionId}]}\n",
    "\n",
    "    response = requests.post(target_base_url + '/api/calm-processmanagement/v1/scopes/' + targetScopeId + '/solutionScenarioVersions' , headers=target_hed_post, json=target_solutionScenarioJson)\n",
    "\n",
    "    print(response.status_code, response.reason)\n",
    "\n",
    "    # 2. Look up the Solution Process Version ID\n",
    "\n",
    "    response = requests.get(target_base_url + '/api/calm-processmanagement/v1/solutionProcesses?solutionScenarioVersionId=' + targetSolutionScenarioVersionId + '&projectId=' + target_project_id + '&scopeId=' + targetScopeId + '&solutionProcessId=' + targetSolutionProcessId, headers=target_hed)\n",
    "\n",
    "    print(response.status_code, response.reason)\n",
    "\n",
    "    response.json()\n",
    "\n",
    "    targetSolutionProcessResponse = response.json()\n",
    "\n",
    "    targetSolutionProcessVersionId = targetSolutionProcessResponse['value'][0]['solutionProcessVersionId']\n",
    "\n",
    "    print('Version ID for process', targetSolutionProcessId, targetSolutionProcessVersionId)\n",
    "\n",
    "\n",
    "    # 3. Set the Solution Process to in scope:\n",
    "\n",
    "    print('Setting Solution Process to in scope', targetSolutionProcessId)\n",
    "\n",
    "    solutionProcessScopeAssigmentJson = {'value': [{'scopeId': targetScopeId,\n",
    "        'solutionScenarioVersionId': targetSolutionScenarioVersionId,\n",
    "        'solutionProcessVersionId': targetSolutionProcessVersionId,\n",
    "        'statusId': 'DESIGN',\n",
    "        'isScoped': True}]}\n",
    "\n",
    "\n",
    "    response = requests.patch(target_base_url + '/api/calm-processmanagement/v1/solutionProcesses/scopeAssignments', headers=target_hed_patch, json=solutionProcessScopeAssigmentJson)\n",
    "\n",
    "    print(response.status_code, response.reason)\n"
   ]
  },
  {
   "attachments": {},
   "cell_type": "markdown",
   "metadata": {},
   "source": [
    "## Create tasks in target project\n",
    "\n",
    "This is the first pass which just creates the tasks, but does not create any sub-tasks. The tasks have to be in place before any sub-tasks may be assigned to them.\n",
    "\n",
    "We use the `externalId` field to store the original ID of the template task, so we can copy subtasks and process assignments from the template task to the new task."
   ]
  },
  {
   "cell_type": "code",
   "execution_count": null,
   "metadata": {},
   "outputs": [],
   "source": [
    "taskCreateURL = target_base_url + '/api/calm-tasks/v1/tasks'\n",
    "\n",
    "for key, row in df_template_tasks.iterrows():\n",
    "\n",
    "    # Skip the roadmap tasks, and skip subtasks for now:\n",
    "    if row['type'] != 'CALMTMPL' and row['type'] != 'CALMST':\n",
    "        print(row['title'])\n",
    "\n",
    "        template_taskURL = base_url + '/api/calm-tasks/v1/tasks/' + row['id']\n",
    "\n",
    "        response = requests.get(template_taskURL, headers=hed)\n",
    "\n",
    "        templateTaskDetails = response.json()\n",
    "\n",
    "        templateTaskDetails['projectId'] = target_project_id # use the new project id\n",
    "        templateTaskDetails['externalId'] = row['id'] # set the original task id as the external id\n",
    "\n",
    "        templateScopeId = templateTaskDetails['scopeId']\n",
    "\n",
    "        if templateScopeId == None:\n",
    "            templateTaskDetails.pop('scopeId', None) # remove the scope id if it is null\n",
    "        else:\n",
    "\n",
    "            targetScopeId = df_scopes['targetId'].loc[ df_scopes['id'] == templateScopeId ] \n",
    "\n",
    "            templateTaskDetails['scopeId'] = targetScopeId.values[0] # Otherwise set the new scope ID\n",
    "\n",
    "\n",
    "        # Remove attributes which are invalid, or get set automatically by the system:\n",
    "        templateTaskDetails.pop('id', None)\n",
    "        templateTaskDetails.pop('assigneeId', None)\n",
    "        templateTaskDetails.pop('createdTimestamp', None)\n",
    "        templateTaskDetails.pop('lastChangedTimestamp', None)\n",
    "  \n",
    "\n",
    "        response = requests.post(taskCreateURL, headers=target_hed, json=templateTaskDetails)\n",
    "\n",
    "        print(response.status_code, response.reason)\n",
    "\n",
    "        newTaskID = response.json()['id']\n",
    "        print(\"New task ID:\", newTaskID)\n",
    "\n",
    "        #break"
   ]
  },
  {
   "attachments": {},
   "cell_type": "markdown",
   "metadata": {},
   "source": [
    "## Re-read target task list\n",
    "\n",
    "May need to refresh buffers"
   ]
  },
  {
   "cell_type": "code",
   "execution_count": null,
   "metadata": {},
   "outputs": [],
   "source": [
    "taskURL = target_base_url + '/api/calm-tasks/v1/tasks?projectId=' + target_project_id\n",
    "\n",
    "response = requests.get(taskURL, headers=target_hed)\n",
    "\n",
    "print(response.status_code, response.reason)\n",
    "\n",
    "df_target_tasks = pd.json_normalize(response.json())\n",
    "\n",
    "print(\"Number of tasks in target project:\", len(df_target_tasks))\n",
    "\n",
    "df_target_tasks.loc[df_target_tasks['externalId'].notnull()].head() # Display the first tasks with external IDs"
   ]
  },
  {
   "attachments": {},
   "cell_type": "markdown",
   "metadata": {},
   "source": [
    "### Merge the template tasks with process assignments with the target task IDs"
   ]
  },
  {
   "cell_type": "code",
   "execution_count": null,
   "metadata": {},
   "outputs": [],
   "source": [
    "df_copied_task_mapping = df_target_tasks.loc[df_target_tasks['externalId'].notnull(), ('id', 'externalId')]\n",
    "dfTasksWithProcesses = pd.merge(dfTasksWithProcesses, df_copied_task_mapping, left_on='taskId', right_on='externalId')\n",
    "dfTasksWithProcesses.rename(columns={\"id\": \"targetTaskId\"}, inplace=True)\n",
    "dfTasksWithProcesses"
   ]
  },
  {
   "attachments": {},
   "cell_type": "markdown",
   "metadata": {},
   "source": [
    "### Merge the target scope IDs with the task list"
   ]
  },
  {
   "cell_type": "code",
   "execution_count": null,
   "metadata": {},
   "outputs": [],
   "source": [
    "dfTasksWithProcesses = pd.merge(dfTasksWithProcesses, df_scopes[[\"id\", \"targetId\"]], left_on=\"scopeId\", right_on=\"id\" ).rename(columns={\"targetId\": \"targetScopeId\"})\n",
    "dfTasksWithProcesses"
   ]
  },
  {
   "attachments": {},
   "cell_type": "markdown",
   "metadata": {},
   "source": [
    "### Perform Solution Process Assignments\n",
    "\n",
    "The following code loops through all the tasks with process assignments and creates the assignments in the target project:"
   ]
  },
  {
   "cell_type": "code",
   "execution_count": null,
   "metadata": {},
   "outputs": [],
   "source": [
    "for key, row in dfTasksWithProcesses.iterrows():\n",
    "    print(\"Updating task with ID\", row[\"targetTaskId\"])\n",
    "\n",
    "    solutionProcessToTaskJson = [\n",
    "        {\n",
    "            \"taskId\": row[\"targetTaskId\"],\n",
    "            \"scopeId\": row[\"targetScopeId\"],\n",
    "            \"solutionScenarioVersionId\": row[\"solutionScenarioVersionId\"],\n",
    "            \"solutionProcessId\": row[\"solutionProcessId\"]\n",
    "        }\n",
    "    ]\n",
    "    response = requests.post(target_base_url + '/api/calm-tasks/v1/tasks/solutionProcessAssignments' , headers=target_hed, json=solutionProcessToTaskJson)\n",
    "\n",
    "    print(response.status_code, response.reason)\n",
    "\n"
   ]
  },
  {
   "attachments": {},
   "cell_type": "markdown",
   "metadata": {},
   "source": [
    "### Add subtasks, looking up new parent task\n",
    "\n",
    "Use the external ID of the target task to match the original template parent"
   ]
  },
  {
   "cell_type": "code",
   "execution_count": null,
   "metadata": {},
   "outputs": [],
   "source": [
    "for key, row in df_template_tasks.iterrows():\n",
    "\n",
    "    # Just get sub-tasks:\n",
    "    if row['type'] == 'CALMST':\n",
    "\n",
    "\n",
    "        template_taskURL = base_url + '/api/calm-tasks/v1/tasks/' + row['id']\n",
    "\n",
    "        response = requests.get(template_taskURL, headers=hed)\n",
    "\n",
    "        templateTaskDetails = response.json()\n",
    "\n",
    "        print(templateTaskDetails['title'])\n",
    "\n",
    "        target_parent_task = df_target_tasks.loc[df_target_tasks['externalId'] == templateTaskDetails['parentId']]\n",
    "\n",
    "        templateTaskDetails['parentId'] = target_parent_task['id'].values[0]\n",
    "\n",
    "            \n",
    "        templateTaskDetails['projectId'] = target_project_id\n",
    "        templateTaskDetails['externalId'] = row['id']\n",
    "\n",
    "        templateScopeId = templateTaskDetails['scopeId']\n",
    "\n",
    "        if templateScopeId == None:\n",
    "            templateTaskDetails.pop('scopeId', None)\n",
    "        else:\n",
    "            targetScopeId = df_scopes['targetId'].loc[ df_scopes['id'] == templateScopeId ] \n",
    "            print('Target Scope ID', targetScopeId.values[0])\n",
    "            templateTaskDetails['scopeId'] = targetScopeId.values[0]\n",
    "\n",
    "\n",
    "        templateTaskDetails.pop('id', None)\n",
    "        templateTaskDetails.pop('assigneeId', None)\n",
    "        #\n",
    "        templateTaskDetails.pop('createdTimestamp', None)\n",
    "        templateTaskDetails.pop('lastChangedTimestamp', None)\n",
    "        #templateTaskDetails.pop('parentId', None)\n",
    "\n",
    "        response = requests.post(taskCreateURL, headers=target_hed, json=templateTaskDetails)\n",
    "\n",
    "        print(response.status_code, response.reason)\n",
    "\n",
    "        newTaskID = response.json()['id']\n",
    "        print(\"New task ID:\", newTaskID)"
   ]
  },
  {
   "attachments": {},
   "cell_type": "markdown",
   "metadata": {},
   "source": [
    "### Cleanup: Delete Tasks "
   ]
  },
  {
   "cell_type": "markdown",
   "metadata": {},
   "source": [
    "taskURL = target_base_url + '/api/calm-tasks/v1/tasks?projectId=' + target_project_id\n",
    "\n",
    "response = requests.get(taskURL, headers=target_hed)\n",
    "\n",
    "print(response.status_code, response.reason)\n",
    "\n",
    "for task in response.json():\n",
    "    if task['type'] != 'CALMTMPL':\n",
    "        print(task['id'], task['type'], task['title'])\n",
    "\n",
    "        taskURL = target_base_url + '/api/calm-tasks/v1/tasks/' + task['id']\n",
    "\n",
    "        response = requests.delete(taskURL, headers=target_hed)\n",
    "\n",
    "        print(response.status_code, response.reason)\n",
    "\n",
    "        #break"
   ]
  },
  {
   "cell_type": "markdown",
   "metadata": {},
   "source": [
    "## Delete Template Tasks in Target Project"
   ]
  },
  {
   "cell_type": "markdown",
   "metadata": {},
   "source": [
    "taskURL = target_base_url + '/api/calm-tasks/v1/tasks?projectId=' + target_project_id\n",
    "\n",
    "response = requests.get(taskURL, headers=target_hed)\n",
    "\n",
    "print(response.status_code, response.reason)\n",
    "\n",
    "for task in response.json():\n",
    "    if task['type'] == 'CALMTMPL':\n",
    "        print(task['id'], task['type'], task['title'])\n",
    "\n",
    "        taskURL = target_base_url + '/api/calm-tasks/v1/tasks/' + task['id']\n",
    "\n",
    "        response = requests.delete(taskURL, headers=target_hed)\n",
    "\n",
    "        print(response.status_code, response.reason)\n",
    "\n",
    "        #break"
   ]
  },
  {
   "attachments": {},
   "cell_type": "markdown",
   "metadata": {},
   "source": [
    "End of Target Project Create\n",
    "\n",
    "---"
   ]
  }
 ],
 "metadata": {
  "kernelspec": {
   "display_name": "Python 3",
   "language": "python",
   "name": "python3"
  },
  "language_info": {
   "codemirror_mode": {
    "name": "ipython",
    "version": 3
   },
   "file_extension": ".py",
   "mimetype": "text/x-python",
   "name": "python",
   "nbconvert_exporter": "python",
   "pygments_lexer": "ipython3",
   "version": "3.9.6"
  },
  "metadata": {
   "interpreter": {
    "hash": "2db524e06e9f5f4ffedc911c917cb75e12dbc923643829bf417064a77eb14d37"
   }
  },
  "orig_nbformat": 2,
  "vscode": {
   "interpreter": {
    "hash": "31f2aee4e71d21fbe5cf8b01ff0e069b9275f58929596ceb00d14d90e3e16cd6"
   }
  }
 },
 "nbformat": 4,
 "nbformat_minor": 2
}
